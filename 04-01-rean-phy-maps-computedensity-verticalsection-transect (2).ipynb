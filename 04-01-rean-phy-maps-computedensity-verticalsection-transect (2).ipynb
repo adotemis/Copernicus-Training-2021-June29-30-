{
 "cells": [
  {
   "cell_type": "markdown",
   "metadata": {},
   "source": [
    "![header](https://i.imgur.com/I4ake6d.jpg)"
   ]
  },
  {
   "cell_type": "markdown",
   "metadata": {},
   "source": [
    "# COPERNICUS MARINE PHYSICAL REANALYSIS SOUTH AMERICA TRAINING\n",
    "\n",
    "<div style=\"text-align: right\"><i> 04-01-REAN-PHY </i></div>\n",
    "\n",
    "***\n",
    "\n",
    "<center><h1>How to visualize the ensemble mean and the standard deviation of temperature, salinity, mixed layer depth from the Global Reanalysis Ensemble Product (GREP) and how to compute the density in a transect.  </h1></center>"
   ]
  },
  {
   "cell_type": "markdown",
   "metadata": {},
   "source": [
    "***\n",
    "**General Note 1**: Execute each cell through the <button class=\"btn btn-default btn-xs\"><i class=\"icon-play fa fa-play\"></i></button> button from the top MENU (or keyboard shortcut `Shift` + `Enter`).<br>\n",
    "<br>\n",
    "**General Note 2**: If, for any reason, the kernel is not working anymore, in the top MENU, click on the <button class=\"btn btn-default btn-xs\"><i class=\"fa fa-repeat icon-repeat\"></i></button> button. Then, in the top MENU, click on \"Cell\" and select \"Run All Above Selected Cell\".<br>\n",
    "***"
   ]
  },
  {
   "cell_type": "markdown",
   "metadata": {},
   "source": [
    "# Table of contents\n",
    "- [1. Introduction](#1.-Introduction)\n",
    "- [2. Exercise n.1: Plot of maps](#2.-Exercise-n.1:-Plot-of-maps)\n",
    "    - [2.1. About the data](#2.1.-About-the-data)\n",
    "    - [2.2. Download the data](#2.2.-Download-the-data)\n",
    "    - [2.3. The exercise](#2.3.-The-exercise)\n",
    "        - [2.3.1. Required Python version](#2.3.1.-Required-Python-version)\n",
    "        - [2.3.2. Required modules](#2.3.2.-Required-modules)\n",
    "        - [2.3.3. Import the modules](#2.3.3.-Import-the-modules)\n",
    "        - [2.3.4. Access the data](#2.3.4.-Access-the-data)\n",
    "        - [2.3.5. Set the configuration](#2.3.5.-Set-the-configuration)\n",
    "        - [2.3.6. Configure the variables for the plots](#2.3.6.-Configure-the-variables-for-the-plots)\n",
    "        - [2.3.7. Generate the maps](#2.3.7.-Generate-the-maps)\n",
    "- [3. Exercise n.2: Plot of transects](#3.-Exercise-n.2:-Plot-of-transects)\n",
    "    - [3.1. About the data](#3.1.-About-the-data)\n",
    "    - [3.2. Download the data](#3.2.-Download-the-data)\n",
    "    - [3.3. The exercise](#3.3.-The-exercise)\n",
    "        - [3.3.1. Set the configuration](#3.3.1.-Set-the-configuration)\n",
    "        - [3.3.2. Set the variables to plot](#3.3.2.-Set-the-variables-to-plot)\n",
    "        - [3.3.3. Generate the maps](#3.3.3.-Generate-the-maps)\n",
    "        - [3.3.4. Density comparison](#3.3.4.-Density-comparison)\n",
    "- [4. Conclusion](#4.-Conclusion)\n",
    "***"
   ]
  },
  {
   "cell_type": "markdown",
   "metadata": {},
   "source": [
    "# 1. Introduction"
   ]
  },
  {
   "cell_type": "markdown",
   "metadata": {},
   "source": [
    "[Go back to the \"Table of contents\"](#Table-of-contents)"
   ]
  },
  {
   "cell_type": "markdown",
   "metadata": {},
   "source": [
    "The objective of this exercise is to use the CMEMS Global Ocean Ensemble of Physical Reanalysis to visualize the ensemble mean and the estimated error for currents, temperature, salinity, mixed-layer-depth fields together with  composite variable as the density along a transec in the South America region. \n",
    "\n",
    "In particular, you will display:\n",
    "- horizontal maps of the ensemble mean and standard deviation of 2D and 3D variables, the latter also at different depths for two different months (July and December 2018)\n",
    "- vertical sections of temperature, salinity and density and the corresponding standard deviation along a transect in one subdomain to highlight the vertical structure of these fields in two different seasons (austral winter and austral summer).\n",
    "\n",
    "\n",
    "***"
   ]
  },
  {
   "cell_type": "markdown",
   "metadata": {},
   "source": [
    "# 2. Exercise n.1: Plot of maps"
   ]
  },
  {
   "cell_type": "markdown",
   "metadata": {},
   "source": [
    "[Go back to the \"Table of contents\"](#Table-of-contents)"
   ]
  },
  {
   "cell_type": "markdown",
   "metadata": {},
   "source": [
    "# 2.1. About the data"
   ]
  },
  {
   "cell_type": "markdown",
   "metadata": {},
   "source": [
    "[Go back to the \"Table of contents\"](#Table-of-contents)"
   ]
  },
  {
   "cell_type": "markdown",
   "metadata": {},
   "source": [
    "## Model description\n",
    "\n",
    "This example is based on the product whose Identifier is: [GLOBAL_REANALYSIS_PHY_001_031](https://resources.marine.copernicus.eu/?option=com_csw&view=details&product_id=GLOBAL_REANALYSIS_PHY_001_031)"
   ]
  },
  {
   "cell_type": "markdown",
   "metadata": {},
   "source": [
    "The CMEMS Global Ocean Ensemble Reanalysis is a product at ¼ degree resolution: daily and monthly means of Temperature, Salinity, Currents, Sea Surface Height and Mixed Layer Depth for 75 vertical levels, starting from 1993 onward.\n",
    "\n",
    "Global ocean reanalyses are homogeneous 3D gridded descriptions of the physical state of the ocean covering several decades, produced with a numerical ocean model constrained with data assimilation of satellite and in situ observations. These reanalyses are built to be as close as possible to the observations (i.e. realistic) and in agreement with the model physics. The multi-model ensemble approach allows uncertainties or error bars in the ocean state to be estimated.\n",
    "The ensemble mean may even provide for certain regions and/or periods a more reliable estimate than any individual reanalysis product.\n",
    "The four reanalyses, used to create the ensemble, covering “altimetric era” period (starting from 1st of January 1993) during which altimeter altimetry data observations are available, are:\n",
    "\n",
    "- GLORYS2V4 from Mercator Ocean (Fr);\n",
    "- ORAS5 from ECMWF;\n",
    "- GloSea5 from Met Office (UK);\n",
    "- C-GLORSv7 from CMCC (It);\n",
    "\n",
    "These four products provided four different time series of 3D global ocean simulations monthly estimates. All numerical products available for users are monthly or daily mean averages describing the ocean."
   ]
  },
  {
   "cell_type": "markdown",
   "metadata": {},
   "source": [
    "<img src=\"./img/GLOBAL_REANALYSIS_PHY_001_031_table.png\">"
   ]
  },
  {
   "cell_type": "markdown",
   "metadata": {},
   "source": [
    "<div class=\"alert alert-block alert-info\">\n",
    "<b>TIP</b>\n",
    "\n",
    "***\n",
    "Get more info on the product\n",
    "</div> \n",
    "\n",
    "1. You can find info on this product and access to the download services in the [dedicated Product Page on Copernicus Marine (CMEMS) Web portal](https://resources.marine.copernicus.eu/?option=com_csw&view=details&product_id=GLOBAL_REANALYSIS_PHY_001_031)\n",
    "<br><br>\n",
    "2. For **detailed information** about the product, please consult the **document**: [Product User Manual (PUM)](./docs/CMEMS-GLO-PUM-001-031.pdf)\n",
    "<br><br>\n",
    "3. For information about **the quality and validation** of the product, please consult the **document**: [Quality Information Document (QUID)](./docs/CMEMS-GLO-QUID-001-031.pdf)"
   ]
  },
  {
   "cell_type": "markdown",
   "metadata": {},
   "source": [
    "***"
   ]
  },
  {
   "cell_type": "markdown",
   "metadata": {},
   "source": [
    "# 2.2. Download the data"
   ]
  },
  {
   "cell_type": "markdown",
   "metadata": {},
   "source": [
    "[Go back to the \"Table of contents\"](#Table-of-contents)"
   ]
  },
  {
   "cell_type": "markdown",
   "metadata": {},
   "source": [
    "### Parameters used for downloading the data\n",
    "| Parameter | Value |\n",
    "| :---: | :---|\n",
    "| **Product** | GLOBAL_REANALYSIS_PHY_001_031 |\n",
    "| **Dataset** | global-reanalysis-phy-001-031-grepv2-mnstd-monthly  |\n",
    "| **variables** | <ul><li>mlotst_mean</li><li>mlotst_std</li><li>thetao_mean</li><li>thetao_std</li><li>so_mean</li><li>so_std</li></ul> |\n",
    "| **Frequency** | monthly |\n",
    "| **Lat min** | -65.00 |\n",
    "| **Lat max** | 35.00 |\n",
    "| **Lon min** | -120.00 E |\n",
    "| **Lon max** | -10.00 E | \n",
    "| **Depth min** | 0 m |\n",
    "| **Depth max** | 2100 m | \n",
    "| **Timesteps** | 2018-07-16, 2018-12-16 |\n",
    "| **Service for downloading** | SUBSETTER |\n",
    "| **Files total dimension** | ~100 MB |"
   ]
  },
  {
   "cell_type": "code",
   "execution_count": null,
   "metadata": {},
   "outputs": [],
   "source": []
  },
  {
   "cell_type": "markdown",
   "metadata": {},
   "source": [
    "## How to download the products?\n",
    "\n",
    "If you need some help about the different services for downloading the CMEMS products, please check this [tutorial](\n",
    "https://help-cmems.mercator-ocean.fr/en/articles/4469993-how-to-download-copernicus-marine-data)"
   ]
  },
  {
   "cell_type": "markdown",
   "metadata": {},
   "source": [
    "<div class=\"alert alert-block alert-warning\">\n",
    "    <b>Get the CMEMS User credentials</b>\n",
    "<hr>\n",
    "The data are already available in this notebook. But if you want to download the data by yourself, please be sure to have by your CMEMS User credentials. Otherwise please get them <a href=\"http://marine.copernicus.eu/services-portfolio/register-now/\" target=\"_blank\">here</a>."
   ]
  },
  {
   "cell_type": "markdown",
   "metadata": {},
   "source": [
    "## Download with *motuclient*\n",
    "\n",
    "Data can be alternatively downloaded with **motuclient**, a multiplatform python script to automate extraction of information from the Marine Copernicus portal. To install motuclient:"
   ]
  },
  {
   "cell_type": "markdown",
   "metadata": {},
   "source": [
    "```\n",
    "!pip install motuclient\n",
    "```"
   ]
  },
  {
   "cell_type": "code",
   "execution_count": null,
   "metadata": {},
   "outputs": [],
   "source": []
  },
  {
   "cell_type": "markdown",
   "metadata": {},
   "source": [
    "To get more info on motuclient visit the related [web page](https://help-cmems.mercator-ocean.fr/en/articles/4796533-what-are-the-motu-client-motuclient-and-python-requirements)."
   ]
  },
  {
   "cell_type": "markdown",
   "metadata": {},
   "source": [
    "Using *motuclient* you'll be able to download data with the following command line. You have to copy this line to another cell for being execute (**NOTE:** don't forget to set username and password!):"
   ]
  },
  {
   "cell_type": "markdown",
   "metadata": {},
   "source": [
    "```\n",
    "!python -m motuclient --motu https://my.cmems-du.eu/motu-web/Motu --service-id GLOBAL_REANALYSIS_PHY_001_031-TDS --product-id global-reanalysis-phy-001-031-grepv2-mnstd-monthly --longitude-min -120 --longitude-max -30 --latitude-min -65 --latitude-max 20 --date-min \"2018-07-16 00:00:00\" --date-max \"2018-07-16 00:00:00\" --depth-min 0.5056 --depth-max 2101.0272 --variable mlotst_mean --variable mlotst_std --variable so_mean --variable so_std --variable thetao_mean --variable thetao_std --out-dir data --out-name global-reanalysis-phy-001-031-grepv2-mnstd-monthly_20180716.nc --user <USERNAME> --pwd <PASSWORD>\n",
    "```"
   ]
  },
  {
   "cell_type": "code",
   "execution_count": null,
   "metadata": {},
   "outputs": [],
   "source": []
  },
  {
   "cell_type": "markdown",
   "metadata": {},
   "source": [
    "And also:"
   ]
  },
  {
   "cell_type": "markdown",
   "metadata": {},
   "source": [
    "```\n",
    "!python -m motuclient --motu https://my.cmems-du.eu/motu-web/Motu --service-id GLOBAL_REANALYSIS_PHY_001_031-TDS --product-id global-reanalysis-phy-001-031-grepv2-mnstd-monthly --longitude-min -120 --longitude-max -30 --latitude-min -65 --latitude-max 20 --date-min \"2018-12-16 00:00:00\" --date-max \"2018-12-16 00:00:00\" --depth-min 0.5056 --depth-max 2101.0272 --variable mlotst_mean --variable mlotst_std --variable so_mean --variable so_std --variable thetao_mean --variable thetao_std --out-dir data --out-name global-reanalysis-phy-001-031-grepv2-mnstd-monthly_20181216.nc --user <USERNAME> --pwd <PASSWORD>\n",
    "```"
   ]
  },
  {
   "cell_type": "code",
   "execution_count": null,
   "metadata": {},
   "outputs": [],
   "source": []
  },
  {
   "cell_type": "markdown",
   "metadata": {},
   "source": [
    "Check if the file has been created... "
   ]
  },
  {
   "cell_type": "code",
   "execution_count": null,
   "metadata": {},
   "outputs": [],
   "source": [
    "import os\n",
    "for filename in os.listdir('data'):\n",
    "    if filename.endswith(\".nc\"):\n",
    "        print(filename)"
   ]
  },
  {
   "cell_type": "markdown",
   "metadata": {},
   "source": [
    "# 2.3. The exercise"
   ]
  },
  {
   "cell_type": "markdown",
   "metadata": {},
   "source": [
    "[Go back to the \"Table of contents\"](#Table-of-contents)"
   ]
  },
  {
   "cell_type": "markdown",
   "metadata": {},
   "source": [
    "### 2.3.1. Required Python version\n",
    "[Go back to the \"Table of contents\"](#Table-of-contents)\n",
    "\n",
    "Install the needed Python modules (for local installation, can be skipped during Training)"
   ]
  },
  {
   "cell_type": "markdown",
   "metadata": {},
   "source": [
    "**Requirement: Python version 3.7**"
   ]
  },
  {
   "cell_type": "markdown",
   "metadata": {},
   "source": [
    "Check your Python version:"
   ]
  },
  {
   "cell_type": "code",
   "execution_count": null,
   "metadata": {},
   "outputs": [],
   "source": [
    "!python --version"
   ]
  },
  {
   "cell_type": "markdown",
   "metadata": {},
   "source": [
    "If needed you can install the right Python version in this way:\n",
    "```\n",
    "conda install python=3.7.10\n",
    "```"
   ]
  },
  {
   "cell_type": "markdown",
   "metadata": {},
   "source": [
    "### 2.3.2. Required modules\n",
    "[Go back to the \"Table of contents\"](#Table-of-contents)"
   ]
  },
  {
   "cell_type": "markdown",
   "metadata": {},
   "source": [
    "| Module name | Description |\n",
    "| :---: | :---|\n",
    "| **os** | [ Miscellaneous operating system interfaces](https://docs.python.org/3.7/library/os.html) for managing paths, creating directories,... |\n",
    "| **numpy** | [NumPy](https://numpy.org/) is the fundamental package for scientific computing with Python and for managing ND-arrays |\n",
    "| **xarray** | [Xarray](http://xarray.pydata.org/en/stable/) introduces labels in the form of dimensions, coordinates and attributes on top of raw NumPy-like arrays, which allows for a more intuitive, more concise, and less error-prone developer experience. |\n",
    "| **matplotlib** |[Matplotlib](https://matplotlib.org/) is a Python 2D plotting library which produces publication quality figures |\n",
    "| **basemap** |[The matplotlib basemap toolkit](https://matplotlib.org/basemap/) is a library for plotting 2D data on maps in Python. |\n",
    "| **gsw** |[Gibbs-SeaWater (GSW) Oceanographic Toolbox](http://www.teos-10.org/software.htm) contains the TEOS-10 subroutines for evaluating the thermodynamic prope."
   ]
  },
  {
   "cell_type": "markdown",
   "metadata": {},
   "source": [
    "The most important module used in this example is **gsw** (Gibbs-SeaWater).\n",
    "\n",
    "The [Gibbs-SeaWater (GSW) Oceanographic Toolbox](http://www.teos-10.org/software.htm) contains the TEOS-10 subroutines for evaluating the thermodynamic properties of pure water (using IAPWS-09) and seawater (using IAPWS-08 for the saline part). The GSW library does not provide properties of ice or moist air (these properties can be found in the SIA library). This GSW Oceanographic Toolbox does not adhere to strict basic-SI units but rather oceanographic units are adopted.\n",
    "\n",
    "This Python implementation of the Thermodynamic Equation of Seawater 2010 (TEOS-10) is based primarily on numpy ufunc wrappers of the GSW-C implementation. We expect it to replace the original python-gsw pure-python implementation after a brief overlap period. The primary reasons for this change are that by building on the C implementation we reduce code duplication and we gain an immediate update to the 75-term equation. Additional benefits include a major increase in speed, a reduction in memory usage, and the inclusion of more functions. The penalty is that a C (or MSVC C++ for Windows) compiler is required to build the package from source.\n",
    "\n",
    "*References*:\n",
    "\n",
    "[gsw python GitHub](https://github.com/TEOS-10/GSW-Python)\n",
    "\n",
    "[Documentation on GSW-Python](https://teos-10.github.io/GSW-Python)\n",
    "\n",
    "[Documentation on gsw.density](https://teos-10.github.io/GSW-Python/density.html)"
   ]
  },
  {
   "cell_type": "code",
   "execution_count": null,
   "metadata": {},
   "outputs": [],
   "source": []
  },
  {
   "cell_type": "markdown",
   "metadata": {},
   "source": [
    "If you are using the standard *Anaconda3* installation, you can install the needed modules executing the following command in the following cell:\n",
    "```\n",
    "conda install numpy=1.19.2 numpy-base=1.19.2 xarray=0.17.0 matplotlib=3.2.2 matplotlib-base=3.2.2 basemap=1.2.0 basemap-data-hires=1.2.0 netcdf4=1.5.6 basemap-data-hires=1.2.0 geos=3.6.2 proj4=5.2.0 pyproj=1.9.6 pyshp=2.1.3 \n",
    "```"
   ]
  },
  {
   "cell_type": "markdown",
   "metadata": {},
   "source": [
    "And now install the **gsw** package which belongs to the channel **conda-forge**:\n",
    "```\n",
    "conda install -c conda-forge gsw\n",
    "```"
   ]
  },
  {
   "cell_type": "code",
   "execution_count": null,
   "metadata": {},
   "outputs": [],
   "source": []
  },
  {
   "cell_type": "markdown",
   "metadata": {},
   "source": [
    "### 2.3.3. Import the modules\n",
    "[Go back to the \"Table of contents\"](#Table-of-contents)"
   ]
  },
  {
   "cell_type": "markdown",
   "metadata": {},
   "source": [
    "For avoiding the warning messages during the execution and installation process, at first remove them:"
   ]
  },
  {
   "cell_type": "code",
   "execution_count": null,
   "metadata": {},
   "outputs": [],
   "source": [
    "import warnings\n",
    "warnings.filterwarnings('ignore')"
   ]
  },
  {
   "cell_type": "code",
   "execution_count": null,
   "metadata": {},
   "outputs": [],
   "source": [
    "import os\n",
    "import numpy as np\n",
    "import xarray as xr\n",
    "import matplotlib.pyplot as plt\n",
    "from mpl_toolkits.basemap import Basemap"
   ]
  },
  {
   "cell_type": "code",
   "execution_count": null,
   "metadata": {},
   "outputs": [],
   "source": [
    "import gsw.density as density"
   ]
  },
  {
   "cell_type": "markdown",
   "metadata": {},
   "source": [
    "*Don't change the following constants, which define the training and the notebook codes*:"
   ]
  },
  {
   "cell_type": "code",
   "execution_count": null,
   "metadata": {},
   "outputs": [],
   "source": [
    "REGION_CODE = \"01\"\n",
    "NB_CODE = \"04\""
   ]
  },
  {
   "cell_type": "markdown",
   "metadata": {},
   "source": [
    "**checkDir**: function for creating a path, if needed"
   ]
  },
  {
   "cell_type": "code",
   "execution_count": null,
   "metadata": {},
   "outputs": [],
   "source": [
    "def checkDir(outPath):\n",
    "    if not os.path.exists(outPath):\n",
    "        os.makedirs(outPath)"
   ]
  },
  {
   "cell_type": "markdown",
   "metadata": {},
   "source": [
    "**getRangeIndexes**: function for getting the indexes of the array *arr* between the *var_min* and *var_max* values:"
   ]
  },
  {
   "cell_type": "code",
   "execution_count": null,
   "metadata": {},
   "outputs": [],
   "source": [
    "def getRangeIndexes(arr, var_min, var_max):\n",
    "    return np.where((arr >= var_min) & (arr <= var_max))[0]"
   ]
  },
  {
   "cell_type": "markdown",
   "metadata": {},
   "source": [
    "Set the paths:"
   ]
  },
  {
   "cell_type": "code",
   "execution_count": null,
   "metadata": {},
   "outputs": [],
   "source": [
    "# Path for netcdf files\n",
    "data_path = './data'\n",
    "# Path for the output files (images, etc)\n",
    "out_path = './out/'+REGION_CODE+'-'+NB_CODE"
   ]
  },
  {
   "cell_type": "code",
   "execution_count": null,
   "metadata": {},
   "outputs": [],
   "source": [
    "# Create directories\n",
    "checkDir(data_path)\n",
    "checkDir(out_path)"
   ]
  },
  {
   "cell_type": "markdown",
   "metadata": {},
   "source": [
    "Check if the new directories have been created... "
   ]
  },
  {
   "cell_type": "code",
   "execution_count": null,
   "metadata": {},
   "outputs": [],
   "source": [
    "for filename in os.listdir('.'):\n",
    "    print(filename)"
   ]
  },
  {
   "cell_type": "markdown",
   "metadata": {},
   "source": [
    "... and if the data files are available:"
   ]
  },
  {
   "cell_type": "code",
   "execution_count": null,
   "metadata": {},
   "outputs": [],
   "source": [
    "for filename in os.listdir(data_path):\n",
    "    print(filename)"
   ]
  },
  {
   "cell_type": "markdown",
   "metadata": {},
   "source": [
    "### 2.3.4. Access the data\n",
    "[Go back to the \"Table of contents\"](#Table-of-contents)"
   ]
  },
  {
   "cell_type": "code",
   "execution_count": null,
   "metadata": {},
   "outputs": [],
   "source": [
    "# Input netcdf file\n",
    "\n",
    "# Monthly means of July and December 2018\n",
    "file_f = [\"global-reanalysis-phy-001-031-grepv2-mnstd-monthly_20180716.nc\",\n",
    "         \"global-reanalysis-phy-001-031-grepv2-mnstd-monthly_20181216.nc\"] \n",
    "# Build the complete nc path\n",
    "file_nc = [os.path.join(data_path, f) for f in file_f]"
   ]
  },
  {
   "cell_type": "code",
   "execution_count": null,
   "metadata": {},
   "outputs": [],
   "source": [
    "# Open the nc dataset\n",
    "file_ds = [ xr.open_dataset(nc) for nc in file_nc]"
   ]
  },
  {
   "cell_type": "markdown",
   "metadata": {},
   "source": [
    "Set the array index for accessing the desired dataset in the datasets arrays:"
   ]
  },
  {
   "cell_type": "code",
   "execution_count": null,
   "metadata": {},
   "outputs": [],
   "source": [
    "# index for the ds arrays\n",
    "# 0 = austral winter, 1 = austral summer\n",
    "j = 0"
   ]
  },
  {
   "cell_type": "markdown",
   "metadata": {},
   "source": [
    "<div class=\"alert alert-block alert-info\">\n",
    "<b>TIP</b>\n",
    "\n",
    "***\n",
    "Get info about the dataset by using *.info*\n",
    "</div> "
   ]
  },
  {
   "cell_type": "code",
   "execution_count": null,
   "metadata": {},
   "outputs": [],
   "source": [
    "file_ds[j].info"
   ]
  },
  {
   "cell_type": "markdown",
   "metadata": {},
   "source": [
    "Coordinates:"
   ]
  },
  {
   "cell_type": "code",
   "execution_count": null,
   "metadata": {},
   "outputs": [],
   "source": [
    "file_ds[j].coords"
   ]
  },
  {
   "cell_type": "markdown",
   "metadata": {},
   "source": [
    "<div class=\"alert alert-block alert-warning\">\n",
    "    \n",
    "**The dataset is 3D! You have depth levels!**\n",
    "\n",
    "The xarray dataset ***file_ds*** is extracted from the dataset ***GLOBAL_REANALYSIS_PHY_001_031***  which is a **3D dataset**        "
   ]
  },
  {
   "cell_type": "markdown",
   "metadata": {},
   "source": [
    "Try to check the depth levels. Type ```file_ds[j].depth``` in the cell below and execute it:"
   ]
  },
  {
   "cell_type": "code",
   "execution_count": null,
   "metadata": {},
   "outputs": [],
   "source": [
    "file_ds[j].depth"
   ]
  },
  {
   "cell_type": "markdown",
   "metadata": {},
   "source": [
    "<div class=\"alert alert-block alert-info\">\n",
    "<b>TIP</b>\n",
    "\n",
    "***\n",
    "Get info about the variables in the dataset by using *.data_vars* \n",
    "</div>"
   ]
  },
  {
   "cell_type": "code",
   "execution_count": null,
   "metadata": {
    "scrolled": true
   },
   "outputs": [],
   "source": [
    "file_ds[j].data_vars"
   ]
  },
  {
   "cell_type": "markdown",
   "metadata": {},
   "source": [
    "The first part of the name stands for the physical variable:\n",
    "\n",
    "\"thetao\" is Temperature, \n",
    "\n",
    "\"so\" is Salinity, \n",
    "\n",
    "\"mlotst\" is mixed layer depth\n",
    "\n",
    "The second part of the name tells whether it is the mean or the standard deviation\n",
    "\n",
    "\"_mean\" is the ensemble mean\n",
    "\n",
    "\"_std\" is the ensemble standard devation"
   ]
  },
  {
   "cell_type": "markdown",
   "metadata": {},
   "source": [
    "<div class=\"alert alert-block alert-info\">\n",
    "<b>TIP</b>\n",
    "\n",
    "***\n",
    "Get info about the \"mlost\" (mixed layer depth) 2D field  by using *.data_vars* \n",
    "</div>\n"
   ]
  },
  {
   "cell_type": "markdown",
   "metadata": {},
   "source": [
    "### Get info about  \"Mixed layer Depth\" 2D field :"
   ]
  },
  {
   "cell_type": "markdown",
   "metadata": {},
   "source": [
    "To get info about Mixed layer Depth ensemble-mean"
   ]
  },
  {
   "cell_type": "code",
   "execution_count": null,
   "metadata": {
    "scrolled": true
   },
   "outputs": [],
   "source": [
    "file_ds[j].data_vars['mlotst_mean']"
   ]
  },
  {
   "cell_type": "markdown",
   "metadata": {},
   "source": [
    "To get info about mixed-layer-depth ensemble standard deviation"
   ]
  },
  {
   "cell_type": "code",
   "execution_count": null,
   "metadata": {},
   "outputs": [],
   "source": [
    "file_ds[j].data_vars['mlotst_std']"
   ]
  },
  {
   "cell_type": "markdown",
   "metadata": {},
   "source": [
    "### Get info about the \"Temperature\" 3D field : "
   ]
  },
  {
   "cell_type": "markdown",
   "metadata": {},
   "source": [
    "To get info about Temperature ensemble mean"
   ]
  },
  {
   "cell_type": "code",
   "execution_count": null,
   "metadata": {},
   "outputs": [],
   "source": [
    "file_ds[j].data_vars['thetao_mean']"
   ]
  },
  {
   "cell_type": "markdown",
   "metadata": {},
   "source": [
    "To get info about Temperature ensemble standard deviation"
   ]
  },
  {
   "cell_type": "code",
   "execution_count": null,
   "metadata": {},
   "outputs": [],
   "source": [
    "file_ds[j].data_vars['thetao_std']"
   ]
  },
  {
   "cell_type": "markdown",
   "metadata": {},
   "source": [
    "### 2.3.5. Set the configuration\n",
    "[Go back to the \"Table of contents\"](#Table-of-contents)"
   ]
  },
  {
   "cell_type": "markdown",
   "metadata": {},
   "source": [
    "Let's check the coordinates names in the cells above (check the ***ds.coords*** outputs) and set the correct variables below:"
   ]
  },
  {
   "cell_type": "code",
   "execution_count": null,
   "metadata": {},
   "outputs": [],
   "source": [
    "# Set the coordinate names (used later for accessing the data)\n",
    "lon_name = \"longitude\"\n",
    "lat_name = \"latitude\"\n",
    "time_name = \"time\"\n",
    "depth_name = \"depth\""
   ]
  },
  {
   "cell_type": "markdown",
   "metadata": {},
   "source": [
    "Do the same for the variables names (check the ***ds.data_vars*** outputs): "
   ]
  },
  {
   "cell_type": "code",
   "execution_count": null,
   "metadata": {},
   "outputs": [],
   "source": [
    "# Set the variable names\n",
    "tem_mean_name = \"thetao_mean\"\n",
    "sal_mean_name = \"so_mean\"\n",
    "mld_mean_name = \"mlotst_mean\"\n",
    "tem_std_name = \"thetao_std\"\n",
    "sal_std_name = \"so_std\"\n",
    "mld_std_name = \"mlotst_std\""
   ]
  },
  {
   "cell_type": "markdown",
   "metadata": {},
   "source": [
    "### 2.3.6. Configure the variables for the plots\n",
    "[Go back to the \"Table of contents\"](#Table-of-contents)"
   ]
  },
  {
   "cell_type": "markdown",
   "metadata": {},
   "source": [
    "Let's try to plot the map of the ensemble mean and error for Temperature at first\n",
    "\n",
    "Where **j=0** for austral winter (first downloaded file), **j=1** for austral summer (second downloaded file)"
   ]
  },
  {
   "cell_type": "code",
   "execution_count": null,
   "metadata": {},
   "outputs": [],
   "source": [
    "# 0 = austrial winter, 1 = austrial summer\n",
    "j = 1"
   ]
  },
  {
   "cell_type": "code",
   "execution_count": null,
   "metadata": {},
   "outputs": [],
   "source": [
    "# --- Choose the variable to plot (but comment the others with the symbol #): ---\n",
    "var_sel_mean = file_ds[j][tem_mean_name]\n",
    "var_sel_std = file_ds[j][tem_std_name]\n",
    "#\n",
    "#var_sel_mean= mld_ds[j][tem_mean_name]\n",
    "#var_sel_std = mld_ds[j][tem_std_name]\n",
    "#var_sel_mean = sal_ds[j][sal_mean_name]\n",
    "#var_sel_std = file_ds[j][sal_std_name]\n",
    "\n",
    "dataset_3D = False \n",
    "if depth_name in var_sel_mean.coords:\n",
    "    dataset_3D = True\n",
    "    \n",
    "# --- Set up the arrays of coordinates for the selected dataset ---\n",
    "# \n",
    "lats = var_sel_mean[lat_name]\n",
    "lons = var_sel_mean[lon_name]\n",
    "times = var_sel_mean[time_name]\n",
    "depths = var_sel_mean[depth_name] if dataset_3D else []"
   ]
  },
  {
   "cell_type": "markdown",
   "metadata": {},
   "source": [
    "<div class=\"alert alert-block alert-info\">\n",
    "<b>TIP</b>\n",
    "\n",
    "***\n",
    "Set the limits for the area: \n",
    "</div> \n",
    "Choose the min and max values for the coordinates (and comment with the symbol # the unnecessary ones!)  "
   ]
  },
  {
   "cell_type": "code",
   "execution_count": null,
   "metadata": {},
   "outputs": [],
   "source": [
    "# Set lat-lon limits - FULL AREA\n",
    "lat_min = lats.min()\n",
    "lat_max = lats.max()\n",
    "lon_min = lons.min()\n",
    "lon_max = lons.max()\n",
    "\n",
    "# # Set lat-lon limits - CUSTOM AREA\n",
    "# lon_min = -100\n",
    "# lon_max = -50\n",
    "# lat_min = 10\n",
    "# lat_max = -40"
   ]
  },
  {
   "cell_type": "markdown",
   "metadata": {},
   "source": [
    "<div class=\"alert alert-block alert-info\">\n",
    "<b>TIP</b>\n",
    "\n",
    "***\n",
    " Set the variable's min and max values for the plot and the colorbar (otherwise assign None):\n",
    "</div> "
   ]
  },
  {
   "cell_type": "code",
   "execution_count": null,
   "metadata": {},
   "outputs": [],
   "source": [
    "#min_value, max_value = None, None #authomatic colobar limits\n",
    "#plot of mean values\n",
    "min_value_mean, max_value_mean = 0, 30\n",
    "#plot of standard deviation\n",
    "min_value_std, max_value_std = None, None"
   ]
  },
  {
   "cell_type": "markdown",
   "metadata": {},
   "source": [
    "Set the desired depth (in meters) and only for 3D variables. The plot will be return for the nearest depth found in the model. "
   ]
  },
  {
   "cell_type": "code",
   "execution_count": null,
   "metadata": {},
   "outputs": [],
   "source": [
    "d = 0"
   ]
  },
  {
   "cell_type": "markdown",
   "metadata": {},
   "source": [
    "### 2.3.7. Generate the maps\n",
    "[Go back to the \"Table of contents\"](#Table-of-contents)"
   ]
  },
  {
   "cell_type": "code",
   "execution_count": null,
   "metadata": {},
   "outputs": [],
   "source": [
    "# Plot configuration\n",
    "width_inch = 16\n",
    "height_inch = 8\n",
    "\n",
    "# Map configuration\n",
    "map_config = { \n",
    "#     \"projection\": \"merc\",\n",
    "    \"llcrnrlat\": lat_min,\n",
    "    \"llcrnrlon\": lon_min,\n",
    "    \"urcrnrlat\": lat_max,\n",
    "    \"urcrnrlon\": lon_max,\n",
    "    \"resolution\": 'i',\n",
    "    \"epsg\": 4326\n",
    "}\n",
    "\n",
    "# Axes labels\n",
    "fontsize = 14\n",
    "xlabel = 'longitude [deg]'\n",
    "ylabel = 'latitude [deg]'\n",
    "xlabelpad = 30\n",
    "ylabelpad = 60\n",
    "\n",
    "# Colorbar configuratio\n",
    "cmap = \"jet\"\n",
    "cbar_position = \"right\"\n",
    "\n",
    "title_fontstyle = {\n",
    "    \"fontsize\": \"14\",\n",
    "    \"fontstyle\": \"italic\",\n",
    "    \"fontweight\": \"bold\",\n",
    "    \"pad\": 30\n",
    "}\n",
    "\n",
    "label_fontstyle = {\n",
    "    \"fontsize\": \"12\",\n",
    "    \"labelpad\": 30\n",
    "}\n",
    "\n",
    "# Set the coordinates indexes\n",
    "lat_indexes = getRangeIndexes(lats, lat_min, lat_max)\n",
    "lon_indexes = getRangeIndexes(lons, lon_min, lon_max)\n",
    "time_indexes = [0]\n",
    "depth_indexes = [0]\n",
    "\n",
    "# Get the selected coordinates:\n",
    "lats_sel = lats[lat_indexes]\n",
    "lons_sel = lons[lon_indexes]\n",
    "\n",
    "for t in time_indexes:\n",
    "  \n",
    "    fig=plt.figure(figsize=(width_inch, height_inch))\n",
    "    \n",
    "    #first plot map the mean value\n",
    "    fig.add_subplot(1, 2, 1)\n",
    "    #select the data\n",
    "    if dataset_3D:\n",
    "        data = var_sel_mean[t, :, lat_indexes, lon_indexes].sel(depth=d,method='nearest')\n",
    "    else: \n",
    "        data = var_sel_mean[t, lat_indexes, lon_indexes]\n",
    "\n",
    "    map = Basemap(**map_config)\n",
    "\n",
    "    ## contour fill\n",
    "    min_value = data.min() if min_value_mean is None else min_value_mean\n",
    "    max_value = data.max() if max_value_mean is None else max_value_mean\n",
    "    step_value = 0.5\n",
    "    contour_levels = np.arange(min_value, max_value, step_value)\n",
    "    # map.contourf(xx, yy, data, contour_levels, cmap=cmap)\n",
    "\n",
    "    ## pcolormesh\n",
    "    x = np.linspace(0, map.urcrnrx, data.shape[1])\n",
    "    y = np.linspace(0, map.urcrnry, data.shape[0])\n",
    "    \n",
    "    xx, yy = np.meshgrid(lons_sel, lats_sel)\n",
    "    \n",
    "#   colormesh = map.pcolormesh(xx, yy, data, cmap=cmap)\n",
    "    colormesh = map.pcolormesh(xx, yy, data, vmin=min_value, vmax=max_value, cmap=cmap)\n",
    "    \n",
    "    ## draw meridians and parallels\n",
    "    step_lat = float((lat_max - lat_min) / 5)\n",
    "    step_lon = float((lon_max - lon_min) / 5)\n",
    "\n",
    "    parallels = np.arange(lat_min, lat_max, step_lat)\n",
    "    meridians = np.arange(lon_min, lon_max, step_lon) \n",
    "\n",
    "    map.drawmeridians(meridians, labels=[0,0,0,1], fmt=\"%2.1f\")\n",
    "    map.drawparallels(parallels, labels=[1,0,0,0], fmt=\"%2.1f\")\n",
    "\n",
    "    ## draw colorbar\n",
    "    map.colorbar(colormesh, cbar_position)\n",
    "\n",
    "    ## draw countries...\n",
    "    map.drawcountries(linewidth=0.25, color='olive')\n",
    "    map.fillcontinents(color='lightgray',lake_color='aqua')\n",
    "\n",
    "    ## ... or draw the world using data from different providers (comment the previous lines!)\n",
    "#     map.arcgisimage(service='World_Shaded_Relief', xpixels = 1500, verbose=False)\n",
    "#     map.arcgisimage(service='ESRI_Imagery_World_2D', xpixels = 1500, verbose=False) \n",
    "#     map.bluemarble()\n",
    "#     map.etopo()\n",
    "#     map.shadedrelief()\n",
    "\n",
    "    # set title\n",
    "    title_sel = data.long_name\n",
    "    timestep = np.datetime_as_string(times[t],'h')\n",
    "    var_str = \"{} [{}]\".format(title_sel, data.units)\n",
    "    if dataset_3D:\n",
    "        depth_str = \"{:.2f}{}\".format(float(data[depth_name]), \"[m]\")\n",
    "        title = ' - '.join((var_str, timestep, depth_str))\n",
    "    else:\n",
    "        title = ' - '.join((var_str, timestep))\n",
    "    \n",
    "    ## draw title and axes labels\n",
    "    plt.title(title, **title_fontstyle)\n",
    "    plt.xlabel(xlabel, labelpad=xlabelpad, fontsize=12)\n",
    "    plt.ylabel(ylabel, labelpad=ylabelpad, fontsize=12)    \n",
    "    \n",
    "    #second plot on the ensemble standard deviation      \n",
    "    fig.add_subplot(1, 2, 2)\n",
    "    \n",
    "    #select the data\n",
    "    if dataset_3D:\n",
    "        data = var_sel_std[t, :, lat_indexes, lon_indexes].sel(depth=d,method='nearest')\n",
    "    else: \n",
    "        data = var_sel_std[t, lat_indexes, lon_indexes]\n",
    "        \n",
    "    map = Basemap(**map_config)\n",
    "\n",
    "    ## contour fill\n",
    "    min_value = data.min() if min_value_std is None else min_value_std\n",
    "    max_value = data.max() if max_value_std is None else max_value_std\n",
    "    step_value = 0.5\n",
    "    contour_levels = np.arange(min_value, max_value, step_value)\n",
    "    # map.contourf(xx, yy, data, contour_levels, cmap=cmap)\n",
    "\n",
    "    ## pcolormesh\n",
    "    x = np.linspace(0, map.urcrnrx, data.shape[1])\n",
    "    y = np.linspace(0, map.urcrnry, data.shape[0])\n",
    "    \n",
    "    xx, yy = np.meshgrid(lons_sel, lats_sel)\n",
    "    \n",
    "#     colormesh = map.pcolormesh(xx, yy, data, cmap=cmap)\n",
    "    colormesh = map.pcolormesh(xx, yy, data, vmin=min_value, vmax=max_value, cmap=cmap)\n",
    "    \n",
    "    ## draw meridians and parallels\n",
    "    step_lat = float((lat_max - lat_min) / 5)\n",
    "    step_lon = float((lon_max - lon_min) / 5)\n",
    "\n",
    "    parallels = np.arange(lat_min, lat_max, step_lat)\n",
    "    meridians = np.arange(lon_min, lon_max, step_lon) \n",
    "\n",
    "    map.drawmeridians(meridians, labels=[0,0,0,1], fmt=\"%2.1f\")\n",
    "    map.drawparallels(parallels, labels=[1,0,0,0], fmt=\"%2.1f\")\n",
    "\n",
    "    ## draw colorbar\n",
    "    map.colorbar(colormesh, cbar_position)\n",
    "\n",
    "    ## draw countries...\n",
    "    map.drawcountries(linewidth=0.25, color='olive')\n",
    "    map.fillcontinents(color='lightgray',lake_color='aqua')\n",
    "\n",
    "    ## ... or draw the world using data from different providers (comment the previous lines!)\n",
    "#     map.arcgisimage(service='World_Shaded_Relief', xpixels = 1500, verbose=False)\n",
    "#     map.arcgisimage(service='ESRI_Imagery_World_2D', xpixels = 1500, verbose=False) \n",
    "#     map.bluemarble()\n",
    "#     map.etopo()\n",
    "#     map.shadedrelief()\n",
    "\n",
    "    # set title\n",
    "    title_sel = data.long_name\n",
    "    timestep = np.datetime_as_string(times[t],'h')\n",
    "    var_str = \"{} error [{}]\".format(title_sel, data.units)\n",
    "    if dataset_3D:\n",
    "        depth_str = \"{:.2f}{}\".format(float(data[depth_name]), \"[m]\")\n",
    "        title = ' - '.join((var_str, timestep, depth_str))\n",
    "    else:\n",
    "        title = ' - '.join((var_str, timestep))\n",
    "    \n",
    "    ## draw title and axes labels\n",
    "    plt.title(title, **title_fontstyle)\n",
    "    plt.xlabel(xlabel, labelpad=xlabelpad, fontsize=12)\n",
    "    #plt.ylabel(ylabel, labelpad=ylabelpad, fontsize=12)    \n",
    "\n",
    "    \n",
    "    \n",
    "    # output file\n",
    "    output_file = os.path.join(out_path,title.replace(' ','_')) + \".png\"\n",
    "\n",
    "    # save the output file\n",
    "    plt.savefig(output_file)\n",
    "\n",
    "    plt.show()\n",
    "\n",
    "    plt.close()"
   ]
  },
  {
   "cell_type": "markdown",
   "metadata": {},
   "source": [
    "# Which are the regions where the maximum temperature error occur?  Can you recognize to cold water tongue that follows the Peru coastline? Where the maximum of mixed layer depth occur?\n",
    "\n",
    "Maximum error is typically found in region of high mesoscale activities, that is, at the interface of Brazilian and South Atlantic currents or in the Antarctic Circumpolar Current around 60S. A tongue of cold water very close to the coast of Peru can be spot, this is one of the famous upwelling area where the deep nutrient-rich waters rise from below and “fertilize” surface waters, increasing the biological productivity.\n",
    "\n",
    "Above the thermocline exists the so called \"Mixed Layer\" in which the water is well mixed, so all the properties of the water are homogeneous. The vertical extension of the Mixed Layer is shown by the variable Mixed Layer Depth (MLD) \n",
    "Where the maxima of MLD are located?\n",
    "\n",
    "Play with the colorbar (by modifying max_value in the code) and compare the behaviour at different depths and seasons.\n"
   ]
  },
  {
   "cell_type": "markdown",
   "metadata": {},
   "source": [
    "<div class=\"alert alert-block alert-warning\">\n",
    "\n",
    "### LET'S TRY: Change the plot!\n",
    "\n",
    "If you want, you can change the above plot.\n",
    "\n",
    "For example, you could:\n",
    "- change the variable to plot\n",
    "- change the area\n",
    "- change the min/max values for the choosen variable\n",
    "- change the depth level (only for 3D datasets! ;))\n",
    "\n",
    "Try to plot MLD or salinity at 100m and temperature at 100m \n",
    "\n",
    "Go back to [Configure the variables for the plots](#Configure-the-variables-for-the-plots) and then re-execute the cell for generating the plot. Try!"
   ]
  },
  {
   "cell_type": "markdown",
   "metadata": {},
   "source": [
    "***"
   ]
  },
  {
   "cell_type": "markdown",
   "metadata": {},
   "source": [
    "# 3. Exercise n.2: Plot of transects"
   ]
  },
  {
   "cell_type": "markdown",
   "metadata": {},
   "source": [
    "### Plot transects of temperature, salinity and density"
   ]
  },
  {
   "cell_type": "markdown",
   "metadata": {},
   "source": [
    "[Go back to the \"Table of contents\"](#Table-of-contents)"
   ]
  },
  {
   "cell_type": "markdown",
   "metadata": {},
   "source": [
    "# 3.1. About the data"
   ]
  },
  {
   "cell_type": "markdown",
   "metadata": {},
   "source": [
    "The data are the same used in the [previous exercise](#2.1.-About-the-data)."
   ]
  },
  {
   "cell_type": "markdown",
   "metadata": {},
   "source": [
    "[Go back to the \"Table of contents\"](#Table-of-contents)"
   ]
  },
  {
   "cell_type": "markdown",
   "metadata": {},
   "source": [
    "# 3.2. Download the data"
   ]
  },
  {
   "cell_type": "markdown",
   "metadata": {},
   "source": [
    "The data can be downloaded as showed in the [previous exercise](#2.2.-Download-the-data)."
   ]
  },
  {
   "cell_type": "markdown",
   "metadata": {},
   "source": [
    "[Go back to the \"Table of contents\"](#Table-of-contents)"
   ]
  },
  {
   "cell_type": "markdown",
   "metadata": {},
   "source": [
    "# 3.3. The exercise"
   ]
  },
  {
   "cell_type": "markdown",
   "metadata": {},
   "source": [
    "[Go back to the \"Table of contents\"](#Table-of-contents)"
   ]
  },
  {
   "cell_type": "markdown",
   "metadata": {},
   "source": [
    "### 3.3.1. Set the configuration"
   ]
  },
  {
   "cell_type": "markdown",
   "metadata": {},
   "source": [
    "#### Set the coordinates min and max values"
   ]
  },
  {
   "cell_type": "code",
   "execution_count": null,
   "metadata": {},
   "outputs": [],
   "source": [
    "depth_min = 0\n",
    "depth_max = 700 # the MLD is not significant below this level of depth (~192m)\n",
    "lon_point = -102\n",
    "lat_min = -65\n",
    "lat_max = 15"
   ]
  },
  {
   "cell_type": "markdown",
   "metadata": {},
   "source": [
    "#### Set the indexes of coordinates"
   ]
  },
  {
   "cell_type": "code",
   "execution_count": null,
   "metadata": {},
   "outputs": [],
   "source": [
    "depth_indexes = getRangeIndexes(file_ds[j].depth, depth_min, depth_max)\n",
    "lon_indexes = np.abs(lons-lon_point).argmin()\n",
    "lat_indexes = getRangeIndexes(lats, lat_min, lat_max)\n",
    "time_indexes = 0"
   ]
  },
  {
   "cell_type": "markdown",
   "metadata": {},
   "source": [
    "#### Extract the coordinates subsets"
   ]
  },
  {
   "cell_type": "code",
   "execution_count": null,
   "metadata": {},
   "outputs": [],
   "source": [
    "# index for the ds arrays\n",
    "j = 1\n",
    "\n",
    "ds = file_ds[j] # the choosen dataset is not important now: we are extrating the coordinates\n",
    "\n",
    "lons_sel = ds[lon_name][lon_indexes]\n",
    "lats_sel = ds[lat_name][lat_indexes]\n",
    "depths_sel = -ds[depth_name][depth_indexes] # note the minus '-ds'. Why?"
   ]
  },
  {
   "cell_type": "markdown",
   "metadata": {},
   "source": [
    "### 3.3.2. Set the variables to plot\n",
    "[Go back to the \"Table of contents\"](#Table-of-contents)"
   ]
  },
  {
   "cell_type": "code",
   "execution_count": null,
   "metadata": {},
   "outputs": [],
   "source": [
    "TEM_MEAN = [ds[tem_mean_name][time_indexes, depth_indexes, lat_indexes, lon_indexes] for ds in file_ds]\n",
    "SAL_MEAN = [ds[sal_mean_name][time_indexes, depth_indexes, lat_indexes, lon_indexes] for ds in file_ds]\n",
    "MLD_MEAN = [ds[mld_mean_name][time_indexes, lat_indexes, lon_indexes] for ds in file_ds]\n",
    "\n",
    "TEM_STD = [ds[tem_std_name][time_indexes, depth_indexes, lat_indexes, lon_indexes] for ds in file_ds]\n",
    "SAL_STD = [ds[sal_std_name][time_indexes, depth_indexes, lat_indexes, lon_indexes] for ds in file_ds]\n",
    "MLD_STD = [ds[mld_std_name][time_indexes, lat_indexes, lon_indexes] for ds in file_ds]"
   ]
  },
  {
   "cell_type": "markdown",
   "metadata": {},
   "source": [
    "<div class=\"alert alert-block alert-info\">\n",
    "<b>TIP</b>\n",
    "\n",
    "***\n",
    " Set the variable's min and max values for the plot and the colorbar (otherwise assign None):\n",
    "</div>  "
   ]
  },
  {
   "cell_type": "code",
   "execution_count": null,
   "metadata": {},
   "outputs": [],
   "source": [
    "min_value, max_value = None, None\n",
    "# min_value, max_value = 0, 250"
   ]
  },
  {
   "cell_type": "markdown",
   "metadata": {},
   "source": [
    "If you want to check a variable content, write its name in the cell below and press RUN (or shift-enter):"
   ]
  },
  {
   "cell_type": "code",
   "execution_count": null,
   "metadata": {},
   "outputs": [],
   "source": [
    "depths_sel"
   ]
  },
  {
   "cell_type": "code",
   "execution_count": null,
   "metadata": {},
   "outputs": [],
   "source": [
    "# Create the meshgrid for the plot \n",
    "X, Y = np.meshgrid(lons_sel, depths_sel)\n",
    "\n",
    "# Plot configuration\n",
    "width_inch = 18\n",
    "height_inch = 8\n",
    "\n",
    "# Axes labels\n",
    "fontsize = 14\n",
    "xlabel = \"latitude [degN]\"\n",
    "ylabel = \"depth [m]\"\n",
    "\n",
    "# Colorbar configuration\n",
    "cmap = \"jet\"\n",
    "cbar_position = \"right\"\n",
    "\n",
    "contour_levels = 100\n",
    "\n",
    "title_fontstyle = {\n",
    "    \"fontsize\": \"14\",\n",
    "    \"fontstyle\": \"italic\",\n",
    "    \"fontweight\": \"bold\",\n",
    "    \"pad\": 30\n",
    "}\n",
    "label_fontstyle = {\n",
    "    \"fontsize\": \"12\",\n",
    "#     \"labelpad\": 10\n",
    "}"
   ]
  },
  {
   "cell_type": "markdown",
   "metadata": {},
   "source": [
    "### 3.3.3. Generate the maps\n",
    "[Go back to the \"Table of contents\"](#Table-of-contents)"
   ]
  },
  {
   "cell_type": "markdown",
   "metadata": {},
   "source": [
    "#### Function for plotting the transect (it uses many \"hidden\" variables...)"
   ]
  },
  {
   "cell_type": "code",
   "execution_count": null,
   "metadata": {},
   "outputs": [],
   "source": [
    "# arguments:\n",
    "# - data: data to plot\n",
    "# - min_value\n",
    "# - max_value\n",
    "# - step_value: step in levels. If is 0, then levels = 100\n",
    "#\n",
    "def plot_transect(data_mean,data_std,min_value_mean,max_value_mean,min_value_std,max_value_std, step_value, title):\n",
    "    \n",
    "    fig = plt.figure(figsize=(width_inch, height_inch))\n",
    "    \n",
    "    # Get the timestep\n",
    "    timestep = np.datetime_as_string(data_mean.time,'h')\n",
    "\n",
    "    # Create the meshgrid for the plot \n",
    "    xx, yy = np.meshgrid(lats_sel, depths_sel)\n",
    "\n",
    "    # set variable limits\n",
    "    min_value = data_mean.min() if min_value_mean is None else min_value_mean\n",
    "    max_value = data_mean.max() if max_value_mean is None else max_value_mean\n",
    "   \n",
    "    contour_levels = np.arange(min_value_mean, max_value_mean, step_value)  if step_value > 0 else 100\n",
    "    \n",
    "    fig.add_subplot(1, 2, 1)\n",
    "    ## contour fill\n",
    "    plt.contourf(xx, yy, data_mean, contour_levels, cmap=cmap, vmin=min_value, vmax=max_value)\n",
    "    \n",
    "    plt.grid()\n",
    "#     plt.colorbar(colormesh,extend='both')\n",
    "    plt.colorbar(extend='both')\n",
    "\n",
    "    title_sel = title['name']\n",
    "    title_uni = title['units']\n",
    "    var_str = \"{} [{}]\".format(title_sel, title_uni)\n",
    "    title = ' - '.join((var_str, timestep))\n",
    "\n",
    "    plt.title(title, **title_fontstyle)\n",
    "    plt.xlabel(xlabel, **label_fontstyle)\n",
    "    plt.ylabel(ylabel, **label_fontstyle)\n",
    "    \n",
    "    fig.add_subplot(1, 2, 2)\n",
    "    # set variable limits\n",
    "    min_value = data_std.min() if min_value_std is None else min_value_std\n",
    "    max_value = data_std.max() if max_value_std is None else max_value_std\n",
    "   \n",
    "    plt.contourf(xx, yy, data_std, contour_levels, cmap=cmap, vmin=min_value, vmax=max_value)\n",
    "    \n",
    "    plt.grid()\n",
    "#     plt.colorbar(colormesh,extend='both')\n",
    "    plt.colorbar(extend='both')\n",
    "\n",
    "    var_str = \"{} error [{}]\".format(title_sel, title_uni)\n",
    "    title = ' - '.join((var_str, timestep))\n",
    "\n",
    "    plt.title(title, **title_fontstyle)\n",
    "    plt.xlabel(xlabel, **label_fontstyle)\n",
    "    plt.ylabel(ylabel, **label_fontstyle)\n",
    "\n",
    "    # output file\n",
    "    output_file = os.path.join(out_path,title.replace(' ','_')) + \".png\"\n",
    "\n",
    "    # save the output file\n",
    "    plt.savefig(output_file)\n",
    "\n",
    "    plt.show()\n",
    "\n",
    "    plt.close()"
   ]
  },
  {
   "cell_type": "markdown",
   "metadata": {},
   "source": [
    "<div class=\"alert alert-block alert-info\">\n",
    "<b>TIP</b>\n",
    "\n",
    "***\n",
    " Select and plot the dataset for temperature in austrial winter\n",
    "</div>  "
   ]
  },
  {
   "cell_type": "code",
   "execution_count": null,
   "metadata": {},
   "outputs": [],
   "source": [
    "data_mean = TEM_MEAN[0]\n",
    "data_std = TEM_STD[0]\n",
    "title = {\"name\":\"Temperature\",\"units\":\"degC\"}\n",
    "\n",
    "# plot the transect\n",
    "plot_transect(data_mean,data_std, None, None,None,None, 0, title)"
   ]
  },
  {
   "cell_type": "markdown",
   "metadata": {},
   "source": [
    "<div class=\"alert alert-block alert-info\">\n",
    "<b>TIP</b>\n",
    "\n",
    "***\n",
    " Select and plot the dataset for temperature in austrial summer\n",
    "</div>  "
   ]
  },
  {
   "cell_type": "code",
   "execution_count": null,
   "metadata": {},
   "outputs": [],
   "source": [
    "# Select the dataset\n",
    "data_mean = TEM_MEAN[1]\n",
    "data_std = TEM_STD[1]\n",
    "\n",
    "title = {\"name\":\"Temperature\",\"units\":\"degC\"}\n",
    "\n",
    "# plot the transect\n",
    "plot_transect(data_mean,data_std, None, None, None, None, 0, title)"
   ]
  },
  {
   "cell_type": "markdown",
   "metadata": {},
   "source": [
    "<div class=\"alert alert-block alert-info\">\n",
    "<b>TIP</b>\n",
    "\n",
    "***\n",
    " Select and plot the dataset for salinity in the austrial winter\n",
    "</div>    "
   ]
  },
  {
   "cell_type": "code",
   "execution_count": null,
   "metadata": {},
   "outputs": [],
   "source": [
    "# Select the dataset\n",
    "data_mean = SAL_MEAN[0]\n",
    "data_std = SAL_STD[0]\n",
    "title = {\"name\":\"Salinity\",\"units\":\"PSU\"}\n",
    "\n",
    "# plot the transect\n",
    "plot_transect(data_mean,data_std, None, None,None, None, 0, title)"
   ]
  },
  {
   "cell_type": "markdown",
   "metadata": {},
   "source": [
    "<div class=\"alert alert-block alert-info\">\n",
    "<b>TIP</b>\n",
    "\n",
    "***\n",
    "  Select and plot the dataset for salinity in the austrial summer\n",
    "</div>   "
   ]
  },
  {
   "cell_type": "code",
   "execution_count": null,
   "metadata": {},
   "outputs": [],
   "source": [
    "# Select the dataset\n",
    "data_mean = SAL_MEAN[1]\n",
    "data_std = SAL_STD[1]\n",
    "title = {\"name\":\"Salinity\",\"units\":\"PSU\"}\n",
    "\n",
    "# plot the transect\n",
    "plot_transect(data_mean,data_std, None, None,None, None, 0, title)"
   ]
  },
  {
   "cell_type": "markdown",
   "metadata": {},
   "source": [
    "### 3.3.4. Density comparison\n",
    "[Go back to the \"Table of contents\"](#Table-of-contents)"
   ]
  },
  {
   "cell_type": "markdown",
   "metadata": {},
   "source": [
    "#### Function for plotting the density\n",
    "\n",
    "This function allows you to plot density vertical section superimposed with the depth of the mixed layer provided by the model."
   ]
  },
  {
   "cell_type": "code",
   "execution_count": null,
   "metadata": {},
   "outputs": [],
   "source": [
    "def plot_density(plot_data_mean,plot_data_std, data, mld_mean,mld_std, title):\n",
    "    # def plot_transect2(data, min_value, max_value, step_value):\n",
    "    fig = plt.figure(figsize=(width_inch, height_inch))\n",
    "\n",
    "    # Get the timestep\n",
    "    timestep = np.datetime_as_string(data.time,'h')\n",
    "\n",
    "    # Create the meshgrid for the plot \n",
    "    xx, yy = np.meshgrid(lats_sel, depths_sel)\n",
    "    \n",
    "    fig.add_subplot(1, 2, 1)\n",
    "    ## contour fill\n",
    "    plt.contourf(xx, yy, plot_data_mean, contour_levels, cmap=cmap)\n",
    "\n",
    "    plt.grid()\n",
    "    plt.colorbar(extend='both')\n",
    "\n",
    "    title_sel = title['name']\n",
    "    title_uni = title['units']\n",
    "    var_str = \"{} [{}]\".format(title_sel, title_uni)\n",
    "    title = ' - '.join((var_str, timestep))\n",
    "\n",
    "    plt.title(title, **title_fontstyle)\n",
    "    plt.xlabel(xlabel, **label_fontstyle)\n",
    "    plt.ylabel(ylabel, **label_fontstyle)\n",
    "\n",
    "    plt.plot(xx[0,:],-mld_mean, linewidth=2, color='black', label=\"MLD\")\n",
    "    plt.plot(xx[0,:],-mld_mean+mld_std, linewidth=2, color='black',linestyle=\"dotted\")\n",
    "    plt.plot(xx[0,:],-mld_mean-mld_std, linewidth=2, color='black',linestyle=\"dotted\", label=\"MLD err\")\n",
    "    plt.legend()\n",
    "    \n",
    "    \n",
    "    fig.add_subplot(1, 2, 2)\n",
    "    ## contour fill\n",
    "    plt.contourf(xx, yy, plot_data_std, contour_levels, cmap=cmap)\n",
    "\n",
    "    plt.grid()\n",
    "    plt.colorbar(extend='both')\n",
    "\n",
    "    #title_sel = title['name']\n",
    "    var_str = \"{} error [{}]\".format(title_sel, title_uni)\n",
    "    title = ' - '.join((var_str, timestep))\n",
    "\n",
    "    plt.title(title, **title_fontstyle)\n",
    "    plt.xlabel(xlabel, **label_fontstyle)\n",
    "    plt.ylabel(ylabel, **label_fontstyle)\n",
    "\n",
    "    #plt.plot(X[0,:],-MLD, linewidth=2, color='black', label=\"MLD\")\n",
    "    #plt.legend()\n",
    "\n",
    "    # output file\n",
    "    output_file = os.path.join(out_path, \"_\".join((title_sel, timestep)) + \".png\")\n",
    "\n",
    "    # save the output file\n",
    "    plt.savefig(output_file)\n",
    "\n",
    "    plt.show()\n",
    "\n",
    "    plt.close()"
   ]
  },
  {
   "cell_type": "markdown",
   "metadata": {},
   "source": [
    "### Plotting the density in the austrial winter"
   ]
  },
  {
   "cell_type": "code",
   "execution_count": null,
   "metadata": {},
   "outputs": [],
   "source": [
    "j = 0\n",
    "# Calculate density\n",
    "rho_MEAN = density.sigma0(SAL_MEAN[j],TEM_MEAN[j])\n",
    "rho_lim2 = density.sigma0(SAL_MEAN[j]-SAL_STD[j],TEM_MEAN[j]+TEM_STD[j])\n",
    "rho_lim1 = density.sigma0(SAL_MEAN[j]+SAL_STD[j],TEM_MEAN[j]-TEM_STD[j])\n",
    "rho_ERR = abs(rho_lim2-rho_lim1)\n",
    "data = TEM_MEAN[j]\n",
    "plot_data_mean = rho_MEAN\n",
    "plot_data_err = rho_ERR\n",
    "title = {\"name\":\"Density\",\"units\":\"kg/m^3\"}\n",
    "\n",
    "plot_density(plot_data_mean,plot_data_err, data, MLD_MEAN[j],MLD_STD[j], title)\n"
   ]
  },
  {
   "cell_type": "markdown",
   "metadata": {},
   "source": [
    "### Plotting the density in the austrial summer"
   ]
  },
  {
   "cell_type": "code",
   "execution_count": null,
   "metadata": {},
   "outputs": [],
   "source": [
    "j = 1\n",
    "# Calculate density\n",
    "rho_MEAN = density.sigma0(SAL_MEAN[j],TEM_MEAN[j])\n",
    "rho_lim1 = density.sigma0(SAL_MEAN[j]-SAL_STD[j],TEM_MEAN[j]+TEM_STD[j])\n",
    "rho_lim2 = density.sigma0(SAL_MEAN[j]+SAL_STD[j],TEM_MEAN[j]-TEM_STD[j])\n",
    "rho_ERR = abs(rho_lim2-rho_lim1)\n",
    "data = TEM_MEAN[j]\n",
    "plot_data_mean = rho_MEAN\n",
    "plot_data_err = rho_ERR\n",
    "title = {\"name\":\"Density\",\"units\":\"kg/m^3\"}\n",
    "plot_density(plot_data_mean,plot_data_err, data, MLD_MEAN[j],MLD_STD[j], title)"
   ]
  },
  {
   "cell_type": "markdown",
   "metadata": {},
   "source": [
    "Here you have seen the impact of the season on the physical properties of the marine water at different latitudes and the correpsonding change in the error too. \n",
    "\n",
    "This confirms what you have seen in the maps of previous exercise."
   ]
  },
  {
   "cell_type": "markdown",
   "metadata": {},
   "source": [
    "[Go back to the \"Table of contents\"](#Table-of-contents)"
   ]
  },
  {
   "cell_type": "markdown",
   "metadata": {},
   "source": [
    "***"
   ]
  },
  {
   "cell_type": "markdown",
   "metadata": {},
   "source": [
    "# 4. Conclusion"
   ]
  },
  {
   "cell_type": "markdown",
   "metadata": {},
   "source": [
    "<div class=\"alert alert-block alert-success\">\n",
    "    <b>CONGRATULATIONS</b><br>\n",
    "  \n",
    "--- \n",
    "\n",
    "#### Now you know how to plot the ensemble mean and standard deviation of physical quantities from GREP product provided by Copernicus Marine Service, for free, thanks to the European Commission.\n",
    "\n",
    "#### To go further, you can try to visualize other variables and diagnostics (spatial or vertical averages, standard deviations...)\n",
    "\n",
    "#### Hope you have enjoyed this session and let's do great science with our data.\n",
    "\n",
    "This training course is over but we'd love to hear from you about how we could improve it (topics, tools, storytelling, format, speed etc). "
   ]
  },
  {
   "cell_type": "markdown",
   "metadata": {},
   "source": [
    "[Go back to the \"Table of contents\"](#Table-of-contents)"
   ]
  }
 ],
 "metadata": {
  "finalized": {
   "timestamp": 1575910772531,
   "trusted": true
  },
  "kernelspec": {
   "display_name": "Python 3",
   "language": "python",
   "name": "python3"
  },
  "language_info": {
   "codemirror_mode": {
    "name": "ipython",
    "version": 3
   },
   "file_extension": ".py",
   "mimetype": "text/x-python",
   "name": "python",
   "nbconvert_exporter": "python",
   "pygments_lexer": "ipython3",
   "version": "3.7.10"
  }
 },
 "nbformat": 4,
 "nbformat_minor": 4
}
