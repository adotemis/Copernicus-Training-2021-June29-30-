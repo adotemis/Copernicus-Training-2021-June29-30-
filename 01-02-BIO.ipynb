{
 "cells": [
  {
   "cell_type": "markdown",
   "metadata": {},
   "source": [
    "![header](https://i.imgur.com/I4ake6d.jpg)"
   ]
  },
  {
   "cell_type": "markdown",
   "metadata": {},
   "source": [
    "# COPERNICUS MARINE BIO ASIA TRAINING\n",
    "\n",
    "<div style=\"text-align: right\"><i> 01-02-BIO </i></div>\n",
    "\n",
    "***\n",
    "\n",
    "<center><h1> How to visualize maps, sections and time evolution of nutrients, chlorophyll and CO2 in the Arabic Sea</h1></center>"
   ]
  },
  {
   "cell_type": "markdown",
   "metadata": {},
   "source": [
    "***\n",
    "**General Note 1**: Execute each cell through the <button class=\"btn btn-default btn-xs\"><i class=\"icon-play fa fa-play\"></i></button> button from the top MENU (or keyboard shortcut `Shift` + `Enter`).<br>\n",
    "<br>\n",
    "**General Note 2**: If, for any reason, the kernel is not working anymore, in the top MENU, click on the <button class=\"btn btn-default btn-xs\"><i class=\"fa fa-repeat icon-repeat\"></i></button> button. Then, in the top MENU, click on \"Cell\" and select \"Run All Above Selected Cell\".<br>\n",
    "***"
   ]
  },
  {
   "cell_type": "markdown",
   "metadata": {},
   "source": [
    "# Table of contents\n",
    "- [1. Introduction](#1.-Introduction)\n",
    "- [2. About the data](#2.-About-the-data)\n",
    "    - [2.1. Model description](#2.1.-Model-description)\n",
    "    - [2.2. Parameters used for downloading the data (Exercises 1 and 2)](#2.2.-Parameters-used-for-downloading-the-data-(Exercises-1-and-2))\n",
    "    - [2.3. Parameters used for downloading the data (Exercise 3)](#2.3.-Parameters-used-for-downloading-the-data-(Exercise-3))\n",
    "    - [2.4. How to download the products?](#2.4.-How-to-download-the-products?)\n",
    "- [3. Exercise n.1: Plot of maps](#3.-Exercise-n.1:-Plot-of-maps)\n",
    "    - [3.1. Required modules](#3.1.-Required-modules)\n",
    "    - [3.2. Import the modules](#3.2.-Import-the-modules)\n",
    "    - [3.3. Access the data](#3.3.-Access-the-data)\n",
    "    - [3.4. Set the configuration](#3.4.-Set-the-configuration)\n",
    "    - [3.5. Generate the map of surface chlorophyll for a winter month in the Arabian Sea](#3.5.-Generate-the-map-of-surface-chlorophyll-for-a-winter-month-in-the-Arabian-Sea)\n",
    "        - [3.5.1. Configure the variables for the plots](#3.5.1.-Configure-the-variables-for-the-plots)\n",
    "        - [3.5.2. Plot the variables](#3.5.2.-Plot-the-variables)\n",
    "    - [3.6. Generate the map of surface chlorophyll for a summer month in the Arabian Sea](#3.6.-Generate-the-map-of-surface-chlorophyll-for-a-summer-month-in-the-Arabian-Sea)\n",
    "    - [3.7. Generate the map of nitrates in summer](#3.7.-Generate-the-map-of-nitrates-in-summer)\n",
    "        - [3.7.1. Configure the variables for the plot](#3.7.1.-Configure-the-variables-for-the-plot)\n",
    "        - [3.7.2. Plot the variable](#3.7.2.-Plot-the-variable)\n",
    "- [4. Exercise n.2: Plot of transects](#4.-Exercise-n.2:-Plot-of-transects)\n",
    "    - [4.1. Extract data for a given latitude value](#4.1.-Extract-data-for-a-given-latitude-value)\n",
    "    - [4.2. Configure the plot](#4.2.-Configure-the-plot)\n",
    "    - [4.3. Plot a transect of nitrate](#4.3.-Plot-a-transect-of-nitrate)\n",
    "    - [4.4. Plot a transect of oxygen](#4.4.-Plot-a-transect-of-oxygen)\n",
    "- [5. Exercise n.3: Temporal evolution](#5.-Exercise-n.3:-Temporal-evolution)\n",
    "    - [5.1. Access the data](#5.1.-Access-the-data)\n",
    "    - [5.2. Set the configuration](#5.2.-Set-the-configuration)\n",
    "    - [5.3. Generate the temporal evolution plot for chlorophyll - Hovmöller diagram (lat/time)](#5.3.-Generate-the-temporal-evolution-plot-for-chlorophyll---Hovmöller-diagram-(lat/time))\n",
    "        - [5.3.1. Configure the variables for the plots](#5.3.1.-Configure-the-variables-for-the-plots)\n",
    "        - [5.3.2. Plot the variables](#5.3.2.-Plot-the-variables)\n",
    "- [6. Conclusion](#6.-Conclusion)\n",
    "***"
   ]
  },
  {
   "cell_type": "markdown",
   "metadata": {},
   "source": [
    "# 1. Introduction"
   ]
  },
  {
   "cell_type": "markdown",
   "metadata": {},
   "source": [
    "[Go back to the \"Table of contents\"](#Table-of-contents)"
   ]
  },
  {
   "cell_type": "markdown",
   "metadata": {},
   "source": [
    "The objective of this exercise is to use the Copernicus Marine (CMEMS) BIOgeochemical products to visualize some typical biogeochemical features in the Arabian Sea and in the North West Pacific.\n",
    "\n",
    "In particular, you will display:\n",
    " \n",
    "- typical winter and summer maps of chlorophyll and nitrate showing the effect of the monsoons\n",
    "- some vertical sections across the Arabian Sea reporting typical distribution of nutrients and oxygen\n",
    "- a time evolution of chlorophyll concentration in the North-West Pacific\n",
    "\n",
    "This exercise uses the same location and temporal frames of the [PHY exercise](../01%20Jupyter%20Notebook%20-%20PHY%20Model%20Products/01-01-PHY-maps-computedensity-verticalsection-transect.ipynb). Thus, by combining results from CMEMS PHY and BIO products, you can analyze the interconnection of physical and biogeochemical dynamics in different areas, such as:\n",
    "- the impact of water confinement on spatial gradient of nutrients \n",
    "- the effect on winter vertical mixing and summer stratification on vertical distribution of biogeochemical variables\n",
    "\n",
    "***"
   ]
  },
  {
   "cell_type": "markdown",
   "metadata": {},
   "source": [
    "# 2. About the data"
   ]
  },
  {
   "cell_type": "markdown",
   "metadata": {},
   "source": [
    "[Go back to the \"Table of contents\"](#Table-of-contents)"
   ]
  },
  {
   "cell_type": "markdown",
   "metadata": {},
   "source": [
    "## 2.1. Model description\n",
    "\n",
    "### This example is based on the product: [GLOBAL_ANALYSIS_FORECAST_BIO_001_028](https://resources.marine.copernicus.eu/?option=com_csw&view=details&product_id=GLOBAL_ANALYSIS_FORECAST_BIO_001_028)"
   ]
  },
  {
   "cell_type": "markdown",
   "metadata": {},
   "source": [
    "The Operational Mercator Ocean biogeochemical global ocean analysis and forecast system at 1/4 degree is providing 10 days of 3D global ocean forecasts updated weekly. The time series is aggregated in time, in order to reach a two full year’s time series sliding window. This product includes daily and monthly mean files of biogeochemical parameters (chlorophyll, nitrate, phosphate, silicate, dissolved oxygen, dissolved iron, primary production, phytoplankton, PH, and surface partial pressure of carbon dioxyde) over the global ocean. The global ocean output files are displayed with a 1/4 degree horizontal resolution with regular longitude/latitude equirectangular projection. 50 vertical levels are ranging from 0 to 5700 meters.\n",
    "\n",
    "<img src=\"./img/GLOBAL_ANALYSIS_FORECAST_BIO_001_028.png\">"
   ]
  },
  {
   "cell_type": "markdown",
   "metadata": {},
   "source": [
    "## Get more info on the product\n",
    "1. You can find more info on this product and access to the download services in the [dedicated Product Page on Copernicus Marine (CMEMS) Web portal](https://resources.marine.copernicus.eu/?option=com_csw&view=details&product_id=GLOBAL_ANALYSIS_FORECAST_BIO_001_028)\n",
    "<br><br>\n",
    "2. For detailed information about the product, please consult the document: [Product User Manual (PUM)](./docs/PUM/CMEMS-GLO-PUM-001-028.pdf)\n",
    "<br><br>\n",
    "3. For information about the quality of the product, please consult the document: [Quality Information Document (QUID)](./docs/QUID/CMEMS-GLO-QUID-001-028.pdf)"
   ]
  },
  {
   "cell_type": "markdown",
   "metadata": {},
   "source": [
    "## 2.2. Parameters used for downloading the data (Exercises 1 and 2)\n",
    "[Go back to the \"Table of contents\"](#Table-of-contents)\n",
    "\n",
    "| Parameter | Value |\n",
    "| :---: | :---|\n",
    "| **Product** | GLOBAL_ANALYSIS_FORECAST_BIO_001_028 |\n",
    "| **Dataset** | global_analysis_forecast_bio_001_028_monthly |\n",
    "| **Frequency** | monthly |\n",
    "| **Lat min** | 10.0 |\n",
    "| **Lat max** | 25.0 |\n",
    "| **Lon min** | 50.0 |\n",
    "| **Lon max** | 75.0 | \n",
    "| **Timesteps** | 2019-02-15, 2019-08-16 |\n",
    "| **Variables** | chl, no3, po4, o2 |\n",
    "| **Service for downloading** | FTP |\n",
    "| **Files total dimension** | ~30 MB |\n",
    "| **Final filename** | global-analysis-forecast-bio-001-028-monthly_ex1_and_2.nc |\n",
    "\n",
    "***"
   ]
  },
  {
   "cell_type": "markdown",
   "metadata": {},
   "source": [
    "## 2.3. Parameters used for downloading the data (Exercise 3)\n",
    "[Go back to the \"Table of contents\"](#Table-of-contents)\n",
    "\n",
    "| Parameter | Value |\n",
    "| :---: | :---|\n",
    "| **Product** | GLOBAL_ANALYSIS_FORECAST_BIO_001_028 |\n",
    "| **Dataset** | global_analysis_forecast_bio_001_028_monthly |\n",
    "| **Frequency** | monthly |\n",
    "| **Lat min** | 25.0 |\n",
    "| **Lat max** | 40.0 |\n",
    "| **Lon min** | 130.0 |\n",
    "| **Lon max** | 180.0 | \n",
    "| **Timesteps** | 2019-01-01, 2020-12-31 |\n",
    "| **Variables** | chl |\n",
    "| **Service for downloading** | FTP |\n",
    "| **Files total dimension** | ~1 MB |\n",
    "| **Final filename** | global-analysis-forecast-bio-001-028-monthly_ex3.nc |\n",
    "\n",
    "***"
   ]
  },
  {
   "cell_type": "markdown",
   "metadata": {},
   "source": [
    "## 2.4. How to download the products?\n",
    "[Go back to the \"Table of contents\"](#Table-of-contents)\n",
    "\n",
    "If you need some help about the different services for downloading the CMEMS products, please check this [tutorial](\n",
    "https://marine.copernicus.eu/tutorials/how-to-download-products-service-release-septembre-2015/)"
   ]
  },
  {
   "cell_type": "markdown",
   "metadata": {},
   "source": [
    "<div class=\"alert alert-block alert-warning\">\n",
    "    <b>Get the CMEMS User credentials</b>\n",
    "<hr>\n",
    "The data are already available on this notebook. But if you want to download the data by yourself, please be sure to have by your CMEMS User credentials. Otherwise please get them <a href=\"http://marine.copernicus.eu/services-portfolio/register-now/\" target=\"_blank\">here</a>."
   ]
  },
  {
   "cell_type": "markdown",
   "metadata": {},
   "source": [
    "## Download with *motuclient*"
   ]
  },
  {
   "cell_type": "markdown",
   "metadata": {},
   "source": [
    "Data can be alternatively downloaded with **motuclient**, a multiplatform python script to automate extraction of information from the Marine Copernicus portal. To install motuclient:\n",
    "\n",
    "```\n",
    "!pip install motuclient\n",
    "```"
   ]
  },
  {
   "cell_type": "code",
   "execution_count": 19,
   "metadata": {},
   "outputs": [
    {
     "name": "stdout",
     "output_type": "stream",
     "text": [
      "Defaulting to user installation because normal site-packages is not writeable\n",
      "Collecting motuclient\n",
      "  Downloading motuclient-1.8.8.tar.gz (30 kB)\n",
      "Building wheels for collected packages: motuclient\n",
      "  Building wheel for motuclient (setup.py) ... \u001b[?25ldone\n",
      "\u001b[?25h  Created wheel for motuclient: filename=motuclient-1.8.8-py3-none-any.whl size=34205 sha256=41167b195972b831be43d1e58dcb8129fbc1addb83301d8da236bfe5735417b9\n",
      "  Stored in directory: /home/fpalermo/.cache/pip/wheels/c2/69/34/bffe33fd3e14a77bc80e8156e524c3864e0a869fa93bcb81a5\n",
      "Successfully built motuclient\n",
      "Installing collected packages: motuclient\n",
      "\u001b[33m  WARNING: The script motuclient is installed in '/home/fpalermo/.local/bin' which is not on PATH.\n",
      "  Consider adding this directory to PATH or, if you prefer to suppress this warning, use --no-warn-script-location.\u001b[0m\n",
      "Successfully installed motuclient-1.8.8\n"
     ]
    }
   ],
   "source": [
    "!pip install motuclient"
   ]
  },
  {
   "cell_type": "markdown",
   "metadata": {},
   "source": [
    "To get more info on motuclient visit the related web page.\n",
    "\n",
    "Using motuclient you'll be able to download data with the following command line. You have to copy this line to another cell for being execute (NOTE: don't forget to set username and password!):\n",
    "\n",
    "```\n",
    "!python -m motuclient --motu http://nrt.cmems-du.eu/motu-web/Motu --service-id GLOBAL_ANALYSIS_FORECAST_BIO_001_028-TDS --product-id global-analysis-forecast-bio-001-028-monthly --longitude-min 50 --longitude-max 75 --latitude-min 10 --latitude-max 25 --date-min \"2019-02-15 00:00:00\" --date-max \"2019-08-16 12:00:00\" --depth-min 0.493 --depth-max 5727.918 --variable chl --variable no3 --variable o2 --variable po4  --out-dir data --out-name global-analysis-forecast-bio-001-028-monthly_ex1_and_2.nc --user <USERNAME> --pwd <PASSWORD>\n",
    "```"
   ]
  },
  {
   "cell_type": "code",
   "execution_count": null,
   "metadata": {},
   "outputs": [],
   "source": []
  },
  {
   "cell_type": "markdown",
   "metadata": {},
   "source": [
    "and also:\n",
    "\n",
    "```\n",
    "!python -m motuclient --motu http://nrt.cmems-du.eu/motu-web/Motu --service-id GLOBAL_ANALYSIS_FORECAST_BIO_001_028-TDS --product-id global-analysis-forecast-bio-001-028-monthly --longitude-min 130 --longitude-max 180 --latitude-min 25 --latitude-max 40 --date-min \"2019-05-16 12:00:00\" --date-max \"2019-11-16 00:00:00\" --depth-min 0.493 --depth-max 0.4942 --variable chl --variable no3 --variable po4 --out-dir data --out-name global-analysis-forecast-bio-001-028-monthly_ex3.nc --user <USERNAME> --pwd <PASSWORD> \n",
    "```"
   ]
  },
  {
   "cell_type": "code",
   "execution_count": null,
   "metadata": {},
   "outputs": [],
   "source": []
  },
  {
   "cell_type": "markdown",
   "metadata": {},
   "source": [
    "Check if the file has been created:"
   ]
  },
  {
   "cell_type": "code",
   "execution_count": 20,
   "metadata": {},
   "outputs": [
    {
     "name": "stdout",
     "output_type": "stream",
     "text": [
      "global-analysis-forecast-bio-001-028-monthly_ex1_and_2.nc\n",
      "global-analysis-forecast-bio-001-028-monthly_ex3.nc\n"
     ]
    }
   ],
   "source": [
    "import os\n",
    "for filename in os.listdir('data'):\n",
    "    if filename.endswith(\".nc\"):\n",
    "        print(filename)"
   ]
  },
  {
   "cell_type": "code",
   "execution_count": null,
   "metadata": {},
   "outputs": [],
   "source": []
  },
  {
   "cell_type": "markdown",
   "metadata": {},
   "source": [
    "# 3. Exercise n.1: Plot of maps"
   ]
  },
  {
   "cell_type": "markdown",
   "metadata": {},
   "source": [
    "[Go back to the \"Table of contents\"](#Table-of-contents)"
   ]
  },
  {
   "cell_type": "markdown",
   "metadata": {},
   "source": [
    "## 3.1. Required modules"
   ]
  },
  {
   "cell_type": "markdown",
   "metadata": {},
   "source": [
    "| Module name | Description |\n",
    "| :---: | :---|\n",
    "| **os** | [ Miscellaneous operating system interfaces](https://docs.python.org/3.7/library/os.html) for managing paths, creating directories,... |\n",
    "| **datetime** | [Classes for manipulating dates and times](https://docs.python.org/3/library/datetime.html) |\n",
    "| **numpy** | [NumPy](https://numpy.org/) is the fundamental package for scientific computing with Python and for managing ND-arrays |\n",
    "| **xarray** | [Xarray](http://xarray.pydata.org/en/stable/) introduces labels in the form of dimensions, coordinates and attributes on top of raw NumPy-like arrays, which allows for a more intuitive, more concise, and less error-prone developer experience |\n",
    "| **matplotlib** |[Matplotlib](https://matplotlib.org/) is a Python 2D plotting library which produces publication quality figures |\n",
    "| **basemap** |[The matplotlib basemap toolkit](https://matplotlib.org/basemap/) is a library for plotting 2D data on maps in Python |"
   ]
  },
  {
   "cell_type": "markdown",
   "metadata": {},
   "source": [
    "### Install the needed Python modules (for local installation, can be skipped during Training)"
   ]
  },
  {
   "cell_type": "markdown",
   "metadata": {},
   "source": [
    "**Requirement: Python version 3.7.3**"
   ]
  },
  {
   "cell_type": "markdown",
   "metadata": {},
   "source": [
    "Check your Python version:"
   ]
  },
  {
   "cell_type": "code",
   "execution_count": 21,
   "metadata": {},
   "outputs": [
    {
     "name": "stdout",
     "output_type": "stream",
     "text": [
      "Python 3.7.3\n"
     ]
    }
   ],
   "source": [
    "!python --version"
   ]
  },
  {
   "cell_type": "markdown",
   "metadata": {},
   "source": [
    "If needed you can install the right Python version in this way:\n",
    "```\n",
    "conda install python=3.7.3\n",
    "```"
   ]
  },
  {
   "cell_type": "code",
   "execution_count": null,
   "metadata": {},
   "outputs": [],
   "source": []
  },
  {
   "cell_type": "markdown",
   "metadata": {},
   "source": [
    "If you are using the standard *Anaconda3* installation, you can install the needed modules executing the following command in the following cell:\n",
    "```\n",
    "conda install numpy xarray matplotlib basemap netcdf4 basemap-data-hires -y\n",
    "```"
   ]
  },
  {
   "cell_type": "code",
   "execution_count": null,
   "metadata": {},
   "outputs": [],
   "source": []
  },
  {
   "cell_type": "markdown",
   "metadata": {},
   "source": [
    "## 3.2. Import the modules\n",
    "[Go back to the \"Table of contents\"](#Table-of-contents)"
   ]
  },
  {
   "cell_type": "markdown",
   "metadata": {},
   "source": [
    "To avoid the warning messages during the execution and installation process, at first remove them:"
   ]
  },
  {
   "cell_type": "code",
   "execution_count": 22,
   "metadata": {},
   "outputs": [],
   "source": [
    "import warnings\n",
    "warnings.filterwarnings('ignore')"
   ]
  },
  {
   "cell_type": "code",
   "execution_count": 23,
   "metadata": {},
   "outputs": [],
   "source": [
    "import os\n",
    "import datetime\n",
    "import numpy as np\n",
    "import xarray as xr\n",
    "import matplotlib.pyplot as plt\n",
    "from mpl_toolkits.basemap import Basemap"
   ]
  },
  {
   "cell_type": "markdown",
   "metadata": {},
   "source": [
    "*Don't change the following constants, which define the training and the notebook codes*:"
   ]
  },
  {
   "cell_type": "code",
   "execution_count": 24,
   "metadata": {},
   "outputs": [],
   "source": [
    "REGION_CODE = \"01\"\n",
    "NB_CODE = \"02\""
   ]
  },
  {
   "cell_type": "markdown",
   "metadata": {},
   "source": [
    "**checkDir**: function for creating a path, if needed"
   ]
  },
  {
   "cell_type": "code",
   "execution_count": 25,
   "metadata": {},
   "outputs": [],
   "source": [
    "def checkDir(outPath):\n",
    "    if not os.path.exists(outPath):\n",
    "        os.makedirs(outPath)"
   ]
  },
  {
   "cell_type": "markdown",
   "metadata": {},
   "source": [
    "**getRangeIndexes**: function for getting the indexes of the array *arr* between the *var_min* and *var_max* values:"
   ]
  },
  {
   "cell_type": "code",
   "execution_count": 26,
   "metadata": {},
   "outputs": [],
   "source": [
    "def getRangeIndexes(arr, var_min, var_max):\n",
    "    return np.where((arr >= var_min) & (arr <= var_max))[0]"
   ]
  },
  {
   "cell_type": "markdown",
   "metadata": {},
   "source": [
    "Set the paths:"
   ]
  },
  {
   "cell_type": "code",
   "execution_count": 27,
   "metadata": {},
   "outputs": [],
   "source": [
    "# Path for netcdf files\n",
    "data_path = './data'\n",
    "# Path for the output files (images, etc)\n",
    "out_path = './out/'+REGION_CODE+'-'+NB_CODE"
   ]
  },
  {
   "cell_type": "code",
   "execution_count": 28,
   "metadata": {},
   "outputs": [],
   "source": [
    "# Create directories\n",
    "checkDir(data_path)\n",
    "checkDir(out_path)"
   ]
  },
  {
   "cell_type": "markdown",
   "metadata": {},
   "source": [
    "Check if the new directories have been created... "
   ]
  },
  {
   "cell_type": "code",
   "execution_count": 29,
   "metadata": {},
   "outputs": [
    {
     "name": "stdout",
     "output_type": "stream",
     "text": [
      "01-02-BIO.ipynb\n",
      "data\n",
      "docs\n",
      "img\n",
      ".ipynb_checkpoints\n",
      "out\n"
     ]
    }
   ],
   "source": [
    "for filename in os.listdir('.'):\n",
    "    print(filename)"
   ]
  },
  {
   "cell_type": "markdown",
   "metadata": {},
   "source": [
    "... and if the data files are available:"
   ]
  },
  {
   "cell_type": "code",
   "execution_count": 30,
   "metadata": {},
   "outputs": [
    {
     "name": "stdout",
     "output_type": "stream",
     "text": [
      ".keep\n",
      ".ipynb_checkpoints\n",
      "global-analysis-forecast-bio-001-028-monthly_ex1_and_2.nc\n",
      "global-analysis-forecast-bio-001-028-monthly_ex3.nc\n"
     ]
    }
   ],
   "source": [
    "for filename in os.listdir(data_path):\n",
    "    print(filename)"
   ]
  },
  {
   "cell_type": "markdown",
   "metadata": {},
   "source": [
    "## 3.3. Access the data\n",
    "[Go back to the \"Table of contents\"](#Table-of-contents)"
   ]
  },
  {
   "cell_type": "code",
   "execution_count": 31,
   "metadata": {},
   "outputs": [],
   "source": [
    "# Input netcdf file name\n",
    "nc = os.path.join(data_path, \"global-analysis-forecast-bio-001-028-monthly_ex1_and_2.nc\")\n",
    "\n",
    "# open the dataset\n",
    "ds = xr.open_dataset(nc)"
   ]
  },
  {
   "cell_type": "markdown",
   "metadata": {},
   "source": [
    "### Get info about the dataset:"
   ]
  },
  {
   "cell_type": "code",
   "execution_count": 32,
   "metadata": {},
   "outputs": [
    {
     "data": {
      "text/plain": [
       "<bound method Dataset.info of <xarray.Dataset>\n",
       "Dimensions:    (depth: 50, latitude: 61, longitude: 101, time: 7)\n",
       "Coordinates:\n",
       "  * depth      (depth) float32 0.494 1.541 2.646 ... 5.275e+03 5.728e+03\n",
       "  * latitude   (latitude) float32 10.0 10.25 10.5 10.75 ... 24.5 24.75 25.0\n",
       "  * time       (time) datetime64[ns] 2019-02-15 ... 2019-08-16T12:00:00\n",
       "  * longitude  (longitude) float32 50.0 50.25 50.5 50.75 ... 74.5 74.75 75.0\n",
       "Data variables:\n",
       "    no3        (time, depth, latitude, longitude) float32 ...\n",
       "    o2         (time, depth, latitude, longitude) float32 ...\n",
       "    po4        (time, depth, latitude, longitude) float32 ...\n",
       "    chl        (time, depth, latitude, longitude) float32 ...\n",
       "Attributes: (12/18)\n",
       "    title:                         Monthly mean fields for product GLOBAL_ANA...\n",
       "    references:                    http://marine.copernicus.eu\n",
       "    credit:                        E.U. Copernicus Marine Service Information...\n",
       "    licence:                       http://marine.copernicus.eu/services-portf...\n",
       "    contact:                       servicedesk.cmems@mercator-ocean.eu\n",
       "    producer:                      CMEMS - Global Monitoring and Forecasting ...\n",
       "    ...                            ...\n",
       "    product_user_manual:           http://marine.copernicus.eu/documents/PUM/...\n",
       "    quality_information_document:  http://marine.copernicus.eu/documents/QUID...\n",
       "    _CoordSysBuilder:              ucar.nc2.dataset.conv.CF1Convention\n",
       "    Conventions:                   CF-1.0\n",
       "    comment:                       \n",
       "    history:                       Data extracted from dataset http://localho...>"
      ]
     },
     "execution_count": 32,
     "metadata": {},
     "output_type": "execute_result"
    }
   ],
   "source": [
    "ds.info"
   ]
  },
  {
   "cell_type": "markdown",
   "metadata": {},
   "source": [
    "And about the variables:"
   ]
  },
  {
   "cell_type": "code",
   "execution_count": 33,
   "metadata": {},
   "outputs": [
    {
     "data": {
      "text/plain": [
       "Data variables:\n",
       "    no3      (time, depth, latitude, longitude) float32 ...\n",
       "    o2       (time, depth, latitude, longitude) float32 ...\n",
       "    po4      (time, depth, latitude, longitude) float32 ...\n",
       "    chl      (time, depth, latitude, longitude) float32 ..."
      ]
     },
     "execution_count": 33,
     "metadata": {},
     "output_type": "execute_result"
    }
   ],
   "source": [
    "ds.data_vars"
   ]
  },
  {
   "cell_type": "markdown",
   "metadata": {},
   "source": [
    "... and the coordinates:"
   ]
  },
  {
   "cell_type": "code",
   "execution_count": 34,
   "metadata": {},
   "outputs": [
    {
     "data": {
      "text/plain": [
       "Coordinates:\n",
       "  * depth      (depth) float32 0.494 1.541 2.646 ... 5.275e+03 5.728e+03\n",
       "  * latitude   (latitude) float32 10.0 10.25 10.5 10.75 ... 24.5 24.75 25.0\n",
       "  * time       (time) datetime64[ns] 2019-02-15 ... 2019-08-16T12:00:00\n",
       "  * longitude  (longitude) float32 50.0 50.25 50.5 50.75 ... 74.5 74.75 75.0"
      ]
     },
     "execution_count": 34,
     "metadata": {},
     "output_type": "execute_result"
    }
   ],
   "source": [
    "ds.coords"
   ]
  },
  {
   "cell_type": "markdown",
   "metadata": {},
   "source": [
    "<div class=\"alert alert-block alert-warning\">\n",
    "    \n",
    "**The dataset is 3D! You have depth levels!**\n",
    "\n",
    "The xarray dataset ***ds*** is extracted from the dataset ***global-analysis-forecast-bio-001-028-monthly***  which is a **3D dataset**        "
   ]
  },
  {
   "cell_type": "markdown",
   "metadata": {},
   "source": [
    "Try to check the depth levels. Type ```ds.depth``` in the cell below and execute it:"
   ]
  },
  {
   "cell_type": "code",
   "execution_count": 35,
   "metadata": {},
   "outputs": [
    {
     "data": {
      "text/html": [
       "<div><svg style=\"position: absolute; width: 0; height: 0; overflow: hidden\">\n",
       "<defs>\n",
       "<symbol id=\"icon-database\" viewBox=\"0 0 32 32\">\n",
       "<path d=\"M16 0c-8.837 0-16 2.239-16 5v4c0 2.761 7.163 5 16 5s16-2.239 16-5v-4c0-2.761-7.163-5-16-5z\"></path>\n",
       "<path d=\"M16 17c-8.837 0-16-2.239-16-5v6c0 2.761 7.163 5 16 5s16-2.239 16-5v-6c0 2.761-7.163 5-16 5z\"></path>\n",
       "<path d=\"M16 26c-8.837 0-16-2.239-16-5v6c0 2.761 7.163 5 16 5s16-2.239 16-5v-6c0 2.761-7.163 5-16 5z\"></path>\n",
       "</symbol>\n",
       "<symbol id=\"icon-file-text2\" viewBox=\"0 0 32 32\">\n",
       "<path d=\"M28.681 7.159c-0.694-0.947-1.662-2.053-2.724-3.116s-2.169-2.030-3.116-2.724c-1.612-1.182-2.393-1.319-2.841-1.319h-15.5c-1.378 0-2.5 1.121-2.5 2.5v27c0 1.378 1.122 2.5 2.5 2.5h23c1.378 0 2.5-1.122 2.5-2.5v-19.5c0-0.448-0.137-1.23-1.319-2.841zM24.543 5.457c0.959 0.959 1.712 1.825 2.268 2.543h-4.811v-4.811c0.718 0.556 1.584 1.309 2.543 2.268zM28 29.5c0 0.271-0.229 0.5-0.5 0.5h-23c-0.271 0-0.5-0.229-0.5-0.5v-27c0-0.271 0.229-0.5 0.5-0.5 0 0 15.499-0 15.5 0v7c0 0.552 0.448 1 1 1h7v19.5z\"></path>\n",
       "<path d=\"M23 26h-14c-0.552 0-1-0.448-1-1s0.448-1 1-1h14c0.552 0 1 0.448 1 1s-0.448 1-1 1z\"></path>\n",
       "<path d=\"M23 22h-14c-0.552 0-1-0.448-1-1s0.448-1 1-1h14c0.552 0 1 0.448 1 1s-0.448 1-1 1z\"></path>\n",
       "<path d=\"M23 18h-14c-0.552 0-1-0.448-1-1s0.448-1 1-1h14c0.552 0 1 0.448 1 1s-0.448 1-1 1z\"></path>\n",
       "</symbol>\n",
       "</defs>\n",
       "</svg>\n",
       "<style>/* CSS stylesheet for displaying xarray objects in jupyterlab.\n",
       " *\n",
       " */\n",
       "\n",
       ":root {\n",
       "  --xr-font-color0: var(--jp-content-font-color0, rgba(0, 0, 0, 1));\n",
       "  --xr-font-color2: var(--jp-content-font-color2, rgba(0, 0, 0, 0.54));\n",
       "  --xr-font-color3: var(--jp-content-font-color3, rgba(0, 0, 0, 0.38));\n",
       "  --xr-border-color: var(--jp-border-color2, #e0e0e0);\n",
       "  --xr-disabled-color: var(--jp-layout-color3, #bdbdbd);\n",
       "  --xr-background-color: var(--jp-layout-color0, white);\n",
       "  --xr-background-color-row-even: var(--jp-layout-color1, white);\n",
       "  --xr-background-color-row-odd: var(--jp-layout-color2, #eeeeee);\n",
       "}\n",
       "\n",
       "html[theme=dark],\n",
       "body.vscode-dark {\n",
       "  --xr-font-color0: rgba(255, 255, 255, 1);\n",
       "  --xr-font-color2: rgba(255, 255, 255, 0.54);\n",
       "  --xr-font-color3: rgba(255, 255, 255, 0.38);\n",
       "  --xr-border-color: #1F1F1F;\n",
       "  --xr-disabled-color: #515151;\n",
       "  --xr-background-color: #111111;\n",
       "  --xr-background-color-row-even: #111111;\n",
       "  --xr-background-color-row-odd: #313131;\n",
       "}\n",
       "\n",
       ".xr-wrap {\n",
       "  display: block;\n",
       "  min-width: 300px;\n",
       "  max-width: 700px;\n",
       "}\n",
       "\n",
       ".xr-text-repr-fallback {\n",
       "  /* fallback to plain text repr when CSS is not injected (untrusted notebook) */\n",
       "  display: none;\n",
       "}\n",
       "\n",
       ".xr-header {\n",
       "  padding-top: 6px;\n",
       "  padding-bottom: 6px;\n",
       "  margin-bottom: 4px;\n",
       "  border-bottom: solid 1px var(--xr-border-color);\n",
       "}\n",
       "\n",
       ".xr-header > div,\n",
       ".xr-header > ul {\n",
       "  display: inline;\n",
       "  margin-top: 0;\n",
       "  margin-bottom: 0;\n",
       "}\n",
       "\n",
       ".xr-obj-type,\n",
       ".xr-array-name {\n",
       "  margin-left: 2px;\n",
       "  margin-right: 10px;\n",
       "}\n",
       "\n",
       ".xr-obj-type {\n",
       "  color: var(--xr-font-color2);\n",
       "}\n",
       "\n",
       ".xr-sections {\n",
       "  padding-left: 0 !important;\n",
       "  display: grid;\n",
       "  grid-template-columns: 150px auto auto 1fr 20px 20px;\n",
       "}\n",
       "\n",
       ".xr-section-item {\n",
       "  display: contents;\n",
       "}\n",
       "\n",
       ".xr-section-item input {\n",
       "  display: none;\n",
       "}\n",
       "\n",
       ".xr-section-item input + label {\n",
       "  color: var(--xr-disabled-color);\n",
       "}\n",
       "\n",
       ".xr-section-item input:enabled + label {\n",
       "  cursor: pointer;\n",
       "  color: var(--xr-font-color2);\n",
       "}\n",
       "\n",
       ".xr-section-item input:enabled + label:hover {\n",
       "  color: var(--xr-font-color0);\n",
       "}\n",
       "\n",
       ".xr-section-summary {\n",
       "  grid-column: 1;\n",
       "  color: var(--xr-font-color2);\n",
       "  font-weight: 500;\n",
       "}\n",
       "\n",
       ".xr-section-summary > span {\n",
       "  display: inline-block;\n",
       "  padding-left: 0.5em;\n",
       "}\n",
       "\n",
       ".xr-section-summary-in:disabled + label {\n",
       "  color: var(--xr-font-color2);\n",
       "}\n",
       "\n",
       ".xr-section-summary-in + label:before {\n",
       "  display: inline-block;\n",
       "  content: '►';\n",
       "  font-size: 11px;\n",
       "  width: 15px;\n",
       "  text-align: center;\n",
       "}\n",
       "\n",
       ".xr-section-summary-in:disabled + label:before {\n",
       "  color: var(--xr-disabled-color);\n",
       "}\n",
       "\n",
       ".xr-section-summary-in:checked + label:before {\n",
       "  content: '▼';\n",
       "}\n",
       "\n",
       ".xr-section-summary-in:checked + label > span {\n",
       "  display: none;\n",
       "}\n",
       "\n",
       ".xr-section-summary,\n",
       ".xr-section-inline-details {\n",
       "  padding-top: 4px;\n",
       "  padding-bottom: 4px;\n",
       "}\n",
       "\n",
       ".xr-section-inline-details {\n",
       "  grid-column: 2 / -1;\n",
       "}\n",
       "\n",
       ".xr-section-details {\n",
       "  display: none;\n",
       "  grid-column: 1 / -1;\n",
       "  margin-bottom: 5px;\n",
       "}\n",
       "\n",
       ".xr-section-summary-in:checked ~ .xr-section-details {\n",
       "  display: contents;\n",
       "}\n",
       "\n",
       ".xr-array-wrap {\n",
       "  grid-column: 1 / -1;\n",
       "  display: grid;\n",
       "  grid-template-columns: 20px auto;\n",
       "}\n",
       "\n",
       ".xr-array-wrap > label {\n",
       "  grid-column: 1;\n",
       "  vertical-align: top;\n",
       "}\n",
       "\n",
       ".xr-preview {\n",
       "  color: var(--xr-font-color3);\n",
       "}\n",
       "\n",
       ".xr-array-preview,\n",
       ".xr-array-data {\n",
       "  padding: 0 5px !important;\n",
       "  grid-column: 2;\n",
       "}\n",
       "\n",
       ".xr-array-data,\n",
       ".xr-array-in:checked ~ .xr-array-preview {\n",
       "  display: none;\n",
       "}\n",
       "\n",
       ".xr-array-in:checked ~ .xr-array-data,\n",
       ".xr-array-preview {\n",
       "  display: inline-block;\n",
       "}\n",
       "\n",
       ".xr-dim-list {\n",
       "  display: inline-block !important;\n",
       "  list-style: none;\n",
       "  padding: 0 !important;\n",
       "  margin: 0;\n",
       "}\n",
       "\n",
       ".xr-dim-list li {\n",
       "  display: inline-block;\n",
       "  padding: 0;\n",
       "  margin: 0;\n",
       "}\n",
       "\n",
       ".xr-dim-list:before {\n",
       "  content: '(';\n",
       "}\n",
       "\n",
       ".xr-dim-list:after {\n",
       "  content: ')';\n",
       "}\n",
       "\n",
       ".xr-dim-list li:not(:last-child):after {\n",
       "  content: ',';\n",
       "  padding-right: 5px;\n",
       "}\n",
       "\n",
       ".xr-has-index {\n",
       "  font-weight: bold;\n",
       "}\n",
       "\n",
       ".xr-var-list,\n",
       ".xr-var-item {\n",
       "  display: contents;\n",
       "}\n",
       "\n",
       ".xr-var-item > div,\n",
       ".xr-var-item label,\n",
       ".xr-var-item > .xr-var-name span {\n",
       "  background-color: var(--xr-background-color-row-even);\n",
       "  margin-bottom: 0;\n",
       "}\n",
       "\n",
       ".xr-var-item > .xr-var-name:hover span {\n",
       "  padding-right: 5px;\n",
       "}\n",
       "\n",
       ".xr-var-list > li:nth-child(odd) > div,\n",
       ".xr-var-list > li:nth-child(odd) > label,\n",
       ".xr-var-list > li:nth-child(odd) > .xr-var-name span {\n",
       "  background-color: var(--xr-background-color-row-odd);\n",
       "}\n",
       "\n",
       ".xr-var-name {\n",
       "  grid-column: 1;\n",
       "}\n",
       "\n",
       ".xr-var-dims {\n",
       "  grid-column: 2;\n",
       "}\n",
       "\n",
       ".xr-var-dtype {\n",
       "  grid-column: 3;\n",
       "  text-align: right;\n",
       "  color: var(--xr-font-color2);\n",
       "}\n",
       "\n",
       ".xr-var-preview {\n",
       "  grid-column: 4;\n",
       "}\n",
       "\n",
       ".xr-var-name,\n",
       ".xr-var-dims,\n",
       ".xr-var-dtype,\n",
       ".xr-preview,\n",
       ".xr-attrs dt {\n",
       "  white-space: nowrap;\n",
       "  overflow: hidden;\n",
       "  text-overflow: ellipsis;\n",
       "  padding-right: 10px;\n",
       "}\n",
       "\n",
       ".xr-var-name:hover,\n",
       ".xr-var-dims:hover,\n",
       ".xr-var-dtype:hover,\n",
       ".xr-attrs dt:hover {\n",
       "  overflow: visible;\n",
       "  width: auto;\n",
       "  z-index: 1;\n",
       "}\n",
       "\n",
       ".xr-var-attrs,\n",
       ".xr-var-data {\n",
       "  display: none;\n",
       "  background-color: var(--xr-background-color) !important;\n",
       "  padding-bottom: 5px !important;\n",
       "}\n",
       "\n",
       ".xr-var-attrs-in:checked ~ .xr-var-attrs,\n",
       ".xr-var-data-in:checked ~ .xr-var-data {\n",
       "  display: block;\n",
       "}\n",
       "\n",
       ".xr-var-data > table {\n",
       "  float: right;\n",
       "}\n",
       "\n",
       ".xr-var-name span,\n",
       ".xr-var-data,\n",
       ".xr-attrs {\n",
       "  padding-left: 25px !important;\n",
       "}\n",
       "\n",
       ".xr-attrs,\n",
       ".xr-var-attrs,\n",
       ".xr-var-data {\n",
       "  grid-column: 1 / -1;\n",
       "}\n",
       "\n",
       "dl.xr-attrs {\n",
       "  padding: 0;\n",
       "  margin: 0;\n",
       "  display: grid;\n",
       "  grid-template-columns: 125px auto;\n",
       "}\n",
       "\n",
       ".xr-attrs dt,\n",
       ".xr-attrs dd {\n",
       "  padding: 0;\n",
       "  margin: 0;\n",
       "  float: left;\n",
       "  padding-right: 10px;\n",
       "  width: auto;\n",
       "}\n",
       "\n",
       ".xr-attrs dt {\n",
       "  font-weight: normal;\n",
       "  grid-column: 1;\n",
       "}\n",
       "\n",
       ".xr-attrs dt:hover span {\n",
       "  display: inline-block;\n",
       "  background: var(--xr-background-color);\n",
       "  padding-right: 10px;\n",
       "}\n",
       "\n",
       ".xr-attrs dd {\n",
       "  grid-column: 2;\n",
       "  white-space: pre-wrap;\n",
       "  word-break: break-all;\n",
       "}\n",
       "\n",
       ".xr-icon-database,\n",
       ".xr-icon-file-text2 {\n",
       "  display: inline-block;\n",
       "  vertical-align: middle;\n",
       "  width: 1em;\n",
       "  height: 1.5em !important;\n",
       "  stroke-width: 0;\n",
       "  stroke: currentColor;\n",
       "  fill: currentColor;\n",
       "}\n",
       "</style><pre class='xr-text-repr-fallback'>&lt;xarray.DataArray &#x27;depth&#x27; (depth: 50)&gt;\n",
       "array([4.940250e-01, 1.541375e+00, 2.645669e+00, 3.819495e+00, 5.078224e+00,\n",
       "       6.440614e+00, 7.929560e+00, 9.572997e+00, 1.140500e+01, 1.346714e+01,\n",
       "       1.581007e+01, 1.849556e+01, 2.159882e+01, 2.521141e+01, 2.944473e+01,\n",
       "       3.443415e+01, 4.034405e+01, 4.737369e+01, 5.576429e+01, 6.580727e+01,\n",
       "       7.785385e+01, 9.232607e+01, 1.097293e+02, 1.306660e+02, 1.558507e+02,\n",
       "       1.861256e+02, 2.224752e+02, 2.660403e+02, 3.181274e+02, 3.802130e+02,\n",
       "       4.539377e+02, 5.410889e+02, 6.435668e+02, 7.633331e+02, 9.023393e+02,\n",
       "       1.062440e+03, 1.245291e+03, 1.452251e+03, 1.684284e+03, 1.941893e+03,\n",
       "       2.225078e+03, 2.533336e+03, 2.865703e+03, 3.220820e+03, 3.597032e+03,\n",
       "       3.992484e+03, 4.405224e+03, 4.833291e+03, 5.274784e+03, 5.727917e+03],\n",
       "      dtype=float32)\n",
       "Coordinates:\n",
       "  * depth    (depth) float32 0.494 1.541 2.646 ... 4.833e+03 5.275e+03 5.728e+03\n",
       "Attributes:\n",
       "    valid_min:               0.494025\n",
       "    valid_max:               5727.917\n",
       "    units:                   m\n",
       "    positive:                down\n",
       "    unit_long:               Meters\n",
       "    long_name:               Depth\n",
       "    standard_name:           depth\n",
       "    axis:                    Z\n",
       "    _ChunkSizes:             50\n",
       "    _CoordinateAxisType:     Height\n",
       "    _CoordinateZisPositive:  down</pre><div class='xr-wrap' hidden><div class='xr-header'><div class='xr-obj-type'>xarray.DataArray</div><div class='xr-array-name'>'depth'</div><ul class='xr-dim-list'><li><span class='xr-has-index'>depth</span>: 50</li></ul></div><ul class='xr-sections'><li class='xr-section-item'><div class='xr-array-wrap'><input id='section-2834470a-598c-4f2d-be3c-1b6970418c3c' class='xr-array-in' type='checkbox' checked><label for='section-2834470a-598c-4f2d-be3c-1b6970418c3c' title='Show/hide data repr'><svg class='icon xr-icon-database'><use xlink:href='#icon-database'></use></svg></label><div class='xr-array-preview xr-preview'><span>0.494 1.541 2.646 3.819 ... 4.405e+03 4.833e+03 5.275e+03 5.728e+03</span></div><div class='xr-array-data'><pre>array([4.940250e-01, 1.541375e+00, 2.645669e+00, 3.819495e+00, 5.078224e+00,\n",
       "       6.440614e+00, 7.929560e+00, 9.572997e+00, 1.140500e+01, 1.346714e+01,\n",
       "       1.581007e+01, 1.849556e+01, 2.159882e+01, 2.521141e+01, 2.944473e+01,\n",
       "       3.443415e+01, 4.034405e+01, 4.737369e+01, 5.576429e+01, 6.580727e+01,\n",
       "       7.785385e+01, 9.232607e+01, 1.097293e+02, 1.306660e+02, 1.558507e+02,\n",
       "       1.861256e+02, 2.224752e+02, 2.660403e+02, 3.181274e+02, 3.802130e+02,\n",
       "       4.539377e+02, 5.410889e+02, 6.435668e+02, 7.633331e+02, 9.023393e+02,\n",
       "       1.062440e+03, 1.245291e+03, 1.452251e+03, 1.684284e+03, 1.941893e+03,\n",
       "       2.225078e+03, 2.533336e+03, 2.865703e+03, 3.220820e+03, 3.597032e+03,\n",
       "       3.992484e+03, 4.405224e+03, 4.833291e+03, 5.274784e+03, 5.727917e+03],\n",
       "      dtype=float32)</pre></div></div></li><li class='xr-section-item'><input id='section-1206cfec-752a-4e37-8bb4-9103f0f1255c' class='xr-section-summary-in' type='checkbox'  checked><label for='section-1206cfec-752a-4e37-8bb4-9103f0f1255c' class='xr-section-summary' >Coordinates: <span>(1)</span></label><div class='xr-section-inline-details'></div><div class='xr-section-details'><ul class='xr-var-list'><li class='xr-var-item'><div class='xr-var-name'><span class='xr-has-index'>depth</span></div><div class='xr-var-dims'>(depth)</div><div class='xr-var-dtype'>float32</div><div class='xr-var-preview xr-preview'>0.494 1.541 ... 5.275e+03 5.728e+03</div><input id='attrs-a4ad3fc9-0ef1-4a33-9333-57b67ef47045' class='xr-var-attrs-in' type='checkbox' ><label for='attrs-a4ad3fc9-0ef1-4a33-9333-57b67ef47045' title='Show/Hide attributes'><svg class='icon xr-icon-file-text2'><use xlink:href='#icon-file-text2'></use></svg></label><input id='data-7f36c7e3-441a-4993-968b-3400670b2ccb' class='xr-var-data-in' type='checkbox'><label for='data-7f36c7e3-441a-4993-968b-3400670b2ccb' title='Show/Hide data repr'><svg class='icon xr-icon-database'><use xlink:href='#icon-database'></use></svg></label><div class='xr-var-attrs'><dl class='xr-attrs'><dt><span>valid_min :</span></dt><dd>0.494025</dd><dt><span>valid_max :</span></dt><dd>5727.917</dd><dt><span>units :</span></dt><dd>m</dd><dt><span>positive :</span></dt><dd>down</dd><dt><span>unit_long :</span></dt><dd>Meters</dd><dt><span>long_name :</span></dt><dd>Depth</dd><dt><span>standard_name :</span></dt><dd>depth</dd><dt><span>axis :</span></dt><dd>Z</dd><dt><span>_ChunkSizes :</span></dt><dd>50</dd><dt><span>_CoordinateAxisType :</span></dt><dd>Height</dd><dt><span>_CoordinateZisPositive :</span></dt><dd>down</dd></dl></div><div class='xr-var-data'><pre>array([4.940250e-01, 1.541375e+00, 2.645669e+00, 3.819495e+00, 5.078224e+00,\n",
       "       6.440614e+00, 7.929560e+00, 9.572997e+00, 1.140500e+01, 1.346714e+01,\n",
       "       1.581007e+01, 1.849556e+01, 2.159882e+01, 2.521141e+01, 2.944473e+01,\n",
       "       3.443415e+01, 4.034405e+01, 4.737369e+01, 5.576429e+01, 6.580727e+01,\n",
       "       7.785385e+01, 9.232607e+01, 1.097293e+02, 1.306660e+02, 1.558507e+02,\n",
       "       1.861256e+02, 2.224752e+02, 2.660403e+02, 3.181274e+02, 3.802130e+02,\n",
       "       4.539377e+02, 5.410889e+02, 6.435668e+02, 7.633331e+02, 9.023393e+02,\n",
       "       1.062440e+03, 1.245291e+03, 1.452251e+03, 1.684284e+03, 1.941893e+03,\n",
       "       2.225078e+03, 2.533336e+03, 2.865703e+03, 3.220820e+03, 3.597032e+03,\n",
       "       3.992484e+03, 4.405224e+03, 4.833291e+03, 5.274784e+03, 5.727917e+03],\n",
       "      dtype=float32)</pre></div></li></ul></div></li><li class='xr-section-item'><input id='section-2cd8fb54-2b7a-4349-804b-baf12bb35441' class='xr-section-summary-in' type='checkbox'  ><label for='section-2cd8fb54-2b7a-4349-804b-baf12bb35441' class='xr-section-summary' >Attributes: <span>(11)</span></label><div class='xr-section-inline-details'></div><div class='xr-section-details'><dl class='xr-attrs'><dt><span>valid_min :</span></dt><dd>0.494025</dd><dt><span>valid_max :</span></dt><dd>5727.917</dd><dt><span>units :</span></dt><dd>m</dd><dt><span>positive :</span></dt><dd>down</dd><dt><span>unit_long :</span></dt><dd>Meters</dd><dt><span>long_name :</span></dt><dd>Depth</dd><dt><span>standard_name :</span></dt><dd>depth</dd><dt><span>axis :</span></dt><dd>Z</dd><dt><span>_ChunkSizes :</span></dt><dd>50</dd><dt><span>_CoordinateAxisType :</span></dt><dd>Height</dd><dt><span>_CoordinateZisPositive :</span></dt><dd>down</dd></dl></div></li></ul></div></div>"
      ],
      "text/plain": [
       "<xarray.DataArray 'depth' (depth: 50)>\n",
       "array([4.940250e-01, 1.541375e+00, 2.645669e+00, 3.819495e+00, 5.078224e+00,\n",
       "       6.440614e+00, 7.929560e+00, 9.572997e+00, 1.140500e+01, 1.346714e+01,\n",
       "       1.581007e+01, 1.849556e+01, 2.159882e+01, 2.521141e+01, 2.944473e+01,\n",
       "       3.443415e+01, 4.034405e+01, 4.737369e+01, 5.576429e+01, 6.580727e+01,\n",
       "       7.785385e+01, 9.232607e+01, 1.097293e+02, 1.306660e+02, 1.558507e+02,\n",
       "       1.861256e+02, 2.224752e+02, 2.660403e+02, 3.181274e+02, 3.802130e+02,\n",
       "       4.539377e+02, 5.410889e+02, 6.435668e+02, 7.633331e+02, 9.023393e+02,\n",
       "       1.062440e+03, 1.245291e+03, 1.452251e+03, 1.684284e+03, 1.941893e+03,\n",
       "       2.225078e+03, 2.533336e+03, 2.865703e+03, 3.220820e+03, 3.597032e+03,\n",
       "       3.992484e+03, 4.405224e+03, 4.833291e+03, 5.274784e+03, 5.727917e+03],\n",
       "      dtype=float32)\n",
       "Coordinates:\n",
       "  * depth    (depth) float32 0.494 1.541 2.646 ... 4.833e+03 5.275e+03 5.728e+03\n",
       "Attributes:\n",
       "    valid_min:               0.494025\n",
       "    valid_max:               5727.917\n",
       "    units:                   m\n",
       "    positive:                down\n",
       "    unit_long:               Meters\n",
       "    long_name:               Depth\n",
       "    standard_name:           depth\n",
       "    axis:                    Z\n",
       "    _ChunkSizes:             50\n",
       "    _CoordinateAxisType:     Height\n",
       "    _CoordinateZisPositive:  down"
      ]
     },
     "execution_count": 35,
     "metadata": {},
     "output_type": "execute_result"
    }
   ],
   "source": [
    "ds.depth"
   ]
  },
  {
   "cell_type": "markdown",
   "metadata": {},
   "source": [
    "## 3.4. Set the configuration\n",
    "[Go back to the \"Table of contents\"](#Table-of-contents)"
   ]
  },
  {
   "cell_type": "markdown",
   "metadata": {},
   "source": [
    "Let's check the coordinates names in the cells above (check the ***ds.coords*** outputs) and set the correct variables below:"
   ]
  },
  {
   "cell_type": "code",
   "execution_count": 36,
   "metadata": {},
   "outputs": [],
   "source": [
    "# Set the coordinate names (used later for accessing the data)\n",
    "lon_name = \"longitude\"\n",
    "lat_name = \"latitude\"\n",
    "time_name = \"time\"\n",
    "depth_name = \"depth\""
   ]
  },
  {
   "cell_type": "markdown",
   "metadata": {},
   "source": [
    "Do the same for the variables names (check the ***ds.data_vars*** outputs): "
   ]
  },
  {
   "cell_type": "code",
   "execution_count": 37,
   "metadata": {},
   "outputs": [],
   "source": [
    "# Set the variable names\n",
    "\n",
    "# mass_concentration_of_chlorophyll_a_in_sea_water (CHL)\n",
    "chl_name = \"chl\"\n",
    "\n",
    "# mole_concentration_of_nitrate_in_sea_water (NO3)\n",
    "no3_name = \"no3\"\n",
    "\n",
    "# mole_concentration_of_phosphate_in_sea_water (PO4)\n",
    "po4_name = \"po4\"\n",
    "\n",
    "# mole_concentration_of_dissolved_oxygen_in_sea_water (O2)\n",
    "o2_name = \"o2\""
   ]
  },
  {
   "cell_type": "markdown",
   "metadata": {},
   "source": [
    "## 3.5. Generate the map of surface chlorophyll for a winter month in the Arabian Sea"
   ]
  },
  {
   "cell_type": "markdown",
   "metadata": {},
   "source": [
    "### 3.5.1. Configure the variables for the plots\n",
    "[Go back to the \"Table of contents\"](#Table-of-contents)"
   ]
  },
  {
   "cell_type": "code",
   "execution_count": 38,
   "metadata": {},
   "outputs": [],
   "source": [
    "# --- Choose the variable to plot\n",
    "var_sel = ds[chl_name]\n",
    "\n",
    "dataset_3D = False\n",
    "if depth_name in var_sel.coords:\n",
    "    dataset_3D = True\n",
    "\n",
    "# --- Set up the arrays of coordinates for the selected dataset ---\n",
    "lats = var_sel[lat_name]\n",
    "lons = var_sel[lon_name]\n",
    "times = var_sel[time_name]\n",
    "depths = var_sel[depth_name]\n",
    "\n",
    "\n",
    "# --- Set the area: choose the min and max values for the coordinates ---\n",
    "# (and comment with the symbol # the unnecessary ones!):                                                               \n",
    "                                                                 \n",
    "## Set lat-lon limits - CUSTOM\n",
    "#lon_min = 55\n",
    "#lon_max = 65\n",
    "#lat_min = 15\n",
    "#lat_max = 20\n",
    "\n",
    "# Set lat-lon limits - FULL AREA\n",
    "lat_min = lats.min()\n",
    "lat_max = lats.max()\n",
    "lon_min = lons.min()\n",
    "lon_max = lons.max()\n",
    "\n",
    "# Set the variable min and max values for the plot and the colorbar (otherwise assign None):\n",
    "min_value, max_value = None, None\n",
    "#min_value, max_value = 0, 0.10\n",
    "#min_value, max_value = 0, 12\n",
    "\n",
    "# Set the desired depth in meters\n",
    "d = 0"
   ]
  },
  {
   "cell_type": "markdown",
   "metadata": {},
   "source": [
    "### 3.5.2. Plot the variables\n",
    "[Go back to the \"Table of contents\"](#Table-of-contents)"
   ]
  },
  {
   "cell_type": "code",
   "execution_count": 39,
   "metadata": {},
   "outputs": [
    {
     "data": {
      "image/png": "[encoded data removed]",
      "text/plain": [
       "<Figure size 1152x576 with 2 Axes>"
      ]
     },
     "metadata": {
      "needs_background": "light"
     },
     "output_type": "display_data"
    }
   ],
   "source": [
    "# index for the ds arrays\n",
    "# 0 = Feb, 1 = Mar, 2 = Apr, 3 = May, 4 = Jun, 5 = Jul, 6 = Aug\n",
    "j = 0\n",
    "\n",
    "# Plot configuration\n",
    "width_inch = 16\n",
    "height_inch = 8\n",
    "\n",
    "# Map configuration\n",
    "map_config = { \n",
    "#     \"projection\": \"merc\",\n",
    "    \"llcrnrlat\": lat_min,\n",
    "    \"llcrnrlon\": lon_min,\n",
    "    \"urcrnrlat\": lat_max,\n",
    "    \"urcrnrlon\": lon_max,\n",
    "    \"resolution\": 'i',\n",
    "    \"epsg\": 4326\n",
    "}\n",
    "\n",
    "# Axes labels\n",
    "fontsize = 14\n",
    "xlabel = 'longitude [deg]'\n",
    "ylabel = 'latitude [deg]'\n",
    "xlabelpad = 30\n",
    "ylabelpad = 60\n",
    "\n",
    "# Colorbar configuration\n",
    "cmap = \"jet\"\n",
    "cbar_position = \"right\"\n",
    "\n",
    "title_fontstyle = {\n",
    "    \"fontsize\": \"14\",\n",
    "    \"fontstyle\": \"italic\",\n",
    "    \"fontweight\": \"bold\",\n",
    "    \"pad\": 30\n",
    "}\n",
    "\n",
    "label_fontstyle = {\n",
    "    \"fontsize\": \"12\",\n",
    "    \"labelpad\": 30\n",
    "}\n",
    "\n",
    "# Set the coordinates indexes\n",
    "lat_indexes = getRangeIndexes(lats, lat_min, lat_max)\n",
    "lon_indexes = getRangeIndexes(lons, lon_min, lon_max)\n",
    "time_indexes = [0]\n",
    "depth_indexes = [0]\n",
    "\n",
    "# Get the selected coordinates:\n",
    "lats_sel = lats[lat_indexes]\n",
    "lons_sel = lons[lon_indexes]\n",
    "\n",
    "data = var_sel[j][:, lat_indexes, lon_indexes].sel(depth=d, method='nearest')\n",
    "\n",
    "plt.figure(figsize=(width_inch, height_inch))\n",
    "\n",
    "map = Basemap(**map_config)\n",
    "\n",
    "## contour fill\n",
    "min_value = data.min() if min_value is None else min_value\n",
    "max_value = data.max() if max_value is None else max_value\n",
    "step_value = 0.5\n",
    "contour_levels = np.arange(min_value, max_value, step_value)\n",
    "# map.contourf(xx, yy, data, contour_levels, cmap=cmap)\n",
    "\n",
    "## pcolormesh\n",
    "x = np.linspace(0, map.urcrnrx, data.shape[1])\n",
    "y = np.linspace(0, map.urcrnry, data.shape[0])\n",
    "    \n",
    "xx, yy = np.meshgrid(lons_sel, lats_sel)\n",
    "    \n",
    "#     colormesh = map.pcolormesh(xx, yy, data, cmap=cmap)\n",
    "colormesh = map.pcolormesh(xx, yy, data, vmin=min_value, vmax=max_value, cmap=cmap)\n",
    "    \n",
    "## draw meridians and parallels\n",
    "step_lat = float((lat_max - lat_min) / 5)\n",
    "step_lon = float((lon_max - lon_min) / 5)\n",
    "\n",
    "parallels = np.arange(lat_min, lat_max, step_lat)\n",
    "meridians = np.arange(lon_min, lon_max, step_lon) \n",
    "\n",
    "map.drawmeridians(meridians, labels=[0,0,0,1], fmt=\"%2.1f\")\n",
    "map.drawparallels(parallels, labels=[1,0,0,0], fmt=\"%2.1f\")\n",
    "\n",
    "## draw colorbar\n",
    "map.colorbar(colormesh, cbar_position)\n",
    "\n",
    "## draw countries...\n",
    "map.drawcountries(linewidth=0.25, color='olive')\n",
    "map.fillcontinents(color='lightgray',lake_color='aqua')\n",
    "\n",
    "# get the date for the title\n",
    "refDateTime = str(var_sel[j].time.values)\n",
    "refDate = refDateTime.split(\"T\")[0]\n",
    "refDateOb = datetime.datetime.strptime(refDate, \"%Y-%m-%d\")\n",
    "monthName = refDateOb.strftime(\"%B\")\n",
    "\n",
    "# set title\n",
    "title_sel = data.long_name\n",
    "var_str = \"{} [{}]\".format(title_sel, data.units)\n",
    "\n",
    "if dataset_3D:\n",
    "    depth_str = \"{:.2f}{}\".format(float(data[depth_name]), \"[m]\")\n",
    "    title = ' - '.join((var_str, monthName, depth_str))\n",
    "else:\n",
    "    title = ' - '.join((var_str, monthName))\n",
    "\n",
    "## draw title and axes labels\n",
    "plt.title(title, **title_fontstyle)\n",
    "plt.xlabel(xlabel, labelpad=xlabelpad, fontsize=12)\n",
    "plt.ylabel(ylabel, labelpad=ylabelpad, fontsize=12)    \n",
    "\n",
    "# output file\n",
    "output_file = os.path.join(out_path,title.replace(' ','_')) + \".png\"\n",
    "\n",
    "# save the output file\n",
    "plt.savefig(output_file)\n",
    "\n",
    "# show the picture\n",
    "plt.show()\n",
    "plt.close()"
   ]
  },
  {
   "cell_type": "markdown",
   "metadata": {},
   "source": [
    "## 3.6. Generate the map of surface chlorophyll for a summer month in the Arabian Sea\n",
    "[Go back to the \"Table of contents\"](#Table-of-contents)"
   ]
  },
  {
   "cell_type": "code",
   "execution_count": 40,
   "metadata": {},
   "outputs": [
    {
     "data": {
      "image/png": "[encoded data removed]",
      "text/plain": [
       "<Figure size 1152x576 with 2 Axes>"
      ]
     },
     "metadata": {
      "needs_background": "light"
     },
     "output_type": "display_data"
    }
   ],
   "source": [
    "# Select a summer month\n",
    "# 0 = Feb, 1 = Mar, 2 = Apr, 3 = May, 4 = Jun, 5 = Jul, 6 = Aug\n",
    "j = 6\n",
    "\n",
    "# Extract that month data\n",
    "data = var_sel[j][:, lat_indexes, lon_indexes].sel(depth=d, method='nearest')\n",
    "\n",
    "plt.figure(figsize=(width_inch, height_inch))\n",
    "\n",
    "map = Basemap(**map_config)\n",
    "\n",
    "## contour fill\n",
    "min_value = data.min() if min_value is None else min_value\n",
    "max_value = data.max() if max_value is None else max_value\n",
    "step_value = 0.5\n",
    "contour_levels = np.arange(min_value, max_value, step_value)\n",
    "# map.contourf(xx, yy, data, contour_levels, cmap=cmap)\n",
    "\n",
    "## pcolormesh\n",
    "x = np.linspace(0, map.urcrnrx, data.shape[1])\n",
    "y = np.linspace(0, map.urcrnry, data.shape[0])\n",
    "  \n",
    "xx, yy = np.meshgrid(lons_sel, lats_sel)\n",
    "    \n",
    "#     colormesh = map.pcolormesh(xx, yy, data, cmap=cmap)\n",
    "colormesh = map.pcolormesh(xx, yy, data, vmin=min_value, vmax=max_value, cmap=cmap)\n",
    "    \n",
    "## draw meridians and parallels\n",
    "step_lat = float((lat_max - lat_min) / 5)\n",
    "step_lon = float((lon_max - lon_min) / 5)\n",
    "\n",
    "parallels = np.arange(lat_min, lat_max, step_lat)\n",
    "meridians = np.arange(lon_min, lon_max, step_lon) \n",
    "\n",
    "map.drawmeridians(meridians, labels=[0,0,0,1], fmt=\"%2.1f\")\n",
    "map.drawparallels(parallels, labels=[1,0,0,0], fmt=\"%2.1f\")\n",
    "\n",
    "## draw colorbar\n",
    "map.colorbar(colormesh, cbar_position)\n",
    "\n",
    "## draw countries...\n",
    "map.drawcountries(linewidth=0.25, color='olive')\n",
    "map.fillcontinents(color='lightgray',lake_color='aqua')\n",
    "\n",
    "# get the date for the title\n",
    "refDateTime = str(var_sel[j].time.values)\n",
    "refDate = refDateTime.split(\"T\")[0]\n",
    "refDateOb = datetime.datetime.strptime(refDate, \"%Y-%m-%d\")\n",
    "monthName = refDateOb.strftime(\"%B\")\n",
    "\n",
    "# set title\n",
    "title_sel = data.long_name\n",
    "var_str = \"{} [{}]\".format(title_sel, data.units)\n",
    "\n",
    "if dataset_3D:\n",
    "    depth_str = \"{:.2f}{}\".format(float(data[depth_name]), \"[m]\")\n",
    "    title = ' - '.join((var_str, monthName, depth_str))\n",
    "else:\n",
    "    title = ' - '.join((var_str, monthName))\n",
    "\n",
    "## draw title and axes labels\n",
    "plt.title(title, **title_fontstyle)\n",
    "plt.xlabel(xlabel, labelpad=xlabelpad, fontsize=12)\n",
    "plt.ylabel(ylabel, labelpad=ylabelpad, fontsize=12)    \n",
    "\n",
    "# output file\n",
    "output_file = os.path.join(out_path,title.replace(' ','_')) + \".png\"\n",
    "\n",
    "# save the output file\n",
    "plt.savefig(output_file)\n",
    "\n",
    "# show the picture\n",
    "plt.show()\n",
    "plt.close()"
   ]
  },
  {
   "cell_type": "markdown",
   "metadata": {},
   "source": [
    "###  What does the chlorophyll summer map show, compared to the winter one?\n",
    "\n",
    "The seasonal cycle of phytoplankton over the Arabian Sea is generally characterized by two blooms, one during the summer monsoon, the other one during the winter monsoon. \n",
    "\n",
    " - During summer (June to September), strong and humid southwesterly winds forming the tropospheric Findlater Jet flow over the Arabian Sea. This southwest monsoon (SWM) produces intense upwelling cells that develop along the coasts of Somalia and Oman and bring up nitrate. This drives the summer bloom of chlorophyll.\n",
    " - During boreal winter (November to mid-February), the northeast monsoon (NEM) is characterized by dry and cold continental northeasterly winds which drive convective mixing offshore in the northern and central Arabian Sea. This mixing induces an entrainment of nutrients in the euphotic layer triggering the winter bloom."
   ]
  },
  {
   "cell_type": "markdown",
   "metadata": {},
   "source": [
    "## 3.7. Generate the map of nitrates in summer"
   ]
  },
  {
   "cell_type": "markdown",
   "metadata": {},
   "source": [
    "### 3.7.1. Configure the variables for the plot\n",
    "[Go back to the \"Table of contents\"](#Table-of-contents)"
   ]
  },
  {
   "cell_type": "code",
   "execution_count": 41,
   "metadata": {},
   "outputs": [],
   "source": [
    "# --- Choose the variable to plot\n",
    "var_sel = ds[no3_name]\n",
    "\n",
    "# --- Set the area: choose the min and max values for the coordinates ---\n",
    "# (and comment with the symbol # the unnecessary ones!):                                                               \n",
    "                                                                 \n",
    "## Set lat-lon limits - CUSTOM\n",
    "#lon_min = 55\n",
    "#lon_max = 65\n",
    "#lat_min = 15\n",
    "#lat_max = 20\n",
    "\n",
    "# Set lat-lon limits - FULL AREA\n",
    "lat_min = lats.min()\n",
    "lat_max = lats.max()\n",
    "lon_min = lons.min()\n",
    "lon_max = lons.max()\n",
    "\n",
    "# Set the variable min and max values for the plot and the colorbar (otherwise assign None):\n",
    "#min_value, max_value = None, None\n",
    "min_value, max_value = 0, 20\n",
    "\n",
    "# Set the desired depth in meters\n",
    "d = 0"
   ]
  },
  {
   "cell_type": "markdown",
   "metadata": {},
   "source": [
    "### 3.7.2. Plot the variable\n",
    "[Go back to the \"Table of contents\"](#Table-of-contents)"
   ]
  },
  {
   "cell_type": "code",
   "execution_count": 42,
   "metadata": {},
   "outputs": [
    {
     "data": {
      "image/png": "[encoded data removed]",
      "text/plain": [
       "<Figure size 1152x576 with 2 Axes>"
      ]
     },
     "metadata": {
      "needs_background": "light"
     },
     "output_type": "display_data"
    }
   ],
   "source": [
    "# Select a summer month \n",
    "# 0 = Feb, 1 = Mar, 2 = Apr, 3 = May, 4 = Jun, 5 = Jul, 6 = Aug\n",
    "j = 6\n",
    "\n",
    "# Extract that month data\n",
    "data = var_sel[j][:, lat_indexes, lon_indexes].sel(depth=d, method='nearest')\n",
    "\n",
    "plt.figure(figsize=(width_inch, height_inch))\n",
    "\n",
    "map = Basemap(**map_config)\n",
    "\n",
    "## contour fill\n",
    "min_value = data.min() if min_value is None else min_value\n",
    "max_value = data.max() if max_value is None else max_value\n",
    "step_value = 0.5\n",
    "contour_levels = np.arange(min_value, max_value, step_value)\n",
    "# map.contourf(xx, yy, data, contour_levels, cmap=cmap)\n",
    "\n",
    "## pcolormesh\n",
    "x = np.linspace(0, map.urcrnrx, data.shape[1])\n",
    "y = np.linspace(0, map.urcrnry, data.shape[0])\n",
    "  \n",
    "xx, yy = np.meshgrid(lons_sel, lats_sel)\n",
    "    \n",
    "#     colormesh = map.pcolormesh(xx, yy, data, cmap=cmap)\n",
    "colormesh = map.pcolormesh(xx, yy, data, vmin=min_value, vmax=max_value, cmap=cmap)\n",
    "    \n",
    "## draw meridians and parallels\n",
    "step_lat = float((lat_max - lat_min) / 5)\n",
    "step_lon = float((lon_max - lon_min) / 5)\n",
    "\n",
    "parallels = np.arange(lat_min, lat_max, step_lat)\n",
    "meridians = np.arange(lon_min, lon_max, step_lon) \n",
    "\n",
    "map.drawmeridians(meridians, labels=[0,0,0,1], fmt=\"%2.1f\")\n",
    "map.drawparallels(parallels, labels=[1,0,0,0], fmt=\"%2.1f\")\n",
    "\n",
    "## draw colorbar\n",
    "map.colorbar(colormesh, cbar_position)\n",
    "\n",
    "## draw countries...\n",
    "map.drawcountries(linewidth=0.25, color='olive')\n",
    "map.fillcontinents(color='lightgray',lake_color='aqua')\n",
    "\n",
    "# get the date for the title\n",
    "refDateTime = str(var_sel[j].time.values)\n",
    "refDate = refDateTime.split(\"T\")[0]\n",
    "refDateOb = datetime.datetime.strptime(refDate, \"%Y-%m-%d\")\n",
    "monthName = refDateOb.strftime(\"%B\")\n",
    "\n",
    "# set title\n",
    "title_sel = data.long_name\n",
    "var_str = \"{} [{}]\".format(title_sel, data.units)\n",
    "\n",
    "if dataset_3D:\n",
    "    depth_str = \"{:.2f}{}\".format(float(data[depth_name]), \"[m]\")\n",
    "    title = ' - '.join((var_str, monthName, depth_str))\n",
    "else:\n",
    "    title = ' - '.join((var_str, monthName))\n",
    "\n",
    "## draw title and axes labels\n",
    "plt.title(title, **title_fontstyle)\n",
    "plt.xlabel(xlabel, labelpad=xlabelpad, fontsize=12)\n",
    "plt.ylabel(ylabel, labelpad=ylabelpad, fontsize=12)    \n",
    "\n",
    "# output file\n",
    "output_file = os.path.join(out_path,title.replace(' ','_')) + \".png\"\n",
    "\n",
    "# save the output file\n",
    "plt.savefig(output_file)\n",
    "\n",
    "# show the picture\n",
    "plt.show()\n",
    "plt.close()"
   ]
  },
  {
   "cell_type": "markdown",
   "metadata": {},
   "source": [
    "<div class=\"alert alert-block alert-warning\">\n",
    "\n",
    "### LET'S TRY: Change the plot!\n",
    "\n",
    "If you want, you can change the above plot.\n",
    "\n",
    "For example, you could:\n",
    "- change the variable to plot\n",
    "- change the area\n",
    "- change the min/max values for the choosen variable\n",
    "- change the depth level (only for 3D datasets! ;))\n",
    "\n",
    "Go back to [3.7.1. Configure the variables for the plot](#3.7.1.-Configure-the-variables-for-the-plot) and then re-execute the cell for generating the plot. Try!"
   ]
  },
  {
   "cell_type": "markdown",
   "metadata": {},
   "source": [
    "***"
   ]
  },
  {
   "cell_type": "markdown",
   "metadata": {},
   "source": [
    "# 4. Exercise n.2: Plot of transects"
   ]
  },
  {
   "cell_type": "markdown",
   "metadata": {},
   "source": [
    "[Go back to the \"Table of contents\"](#Table-of-contents)"
   ]
  },
  {
   "cell_type": "markdown",
   "metadata": {},
   "source": [
    "## 4.1. Extract data for a given latitude value"
   ]
  },
  {
   "cell_type": "code",
   "execution_count": 43,
   "metadata": {},
   "outputs": [],
   "source": [
    "# Set the coordinates min and max values\n",
    "depth_min = 0\n",
    "depth_max = 500 \n",
    "lat_point = 20\n",
    "lon_min = 50\n",
    "lon_max = 75\n",
    "\n",
    "# Set the indexes of coordinates\n",
    "depth_indexes = getRangeIndexes(depths, depth_min, depth_max) if dataset_3D else [0]\n",
    "lat_indexes = np.abs(lats-lat_point).argmin()\n",
    "lon_indexes = getRangeIndexes(lons, lon_min, lon_max)\n",
    "time_indexes = 0\n",
    "\n",
    "# Extract the coordinates subsets\n",
    "lons_sel = ds[lon_name][lon_indexes]\n",
    "lats_sel = ds[lat_name][lat_indexes]\n",
    "depths_sel = -ds[depth_name][depth_indexes] # note the minus '-ds'. Why?\n",
    "\n",
    "# Set the variables to plot\n",
    "CHL = ds[chl_name].sel(latitude=lat_point, method=\"nearest\").sel(depth=slice(depth_min, depth_max))\n",
    "PHO = ds[po4_name].sel(latitude=lat_point, method=\"nearest\").sel(depth=slice(depth_min, depth_max))\n",
    "NO3 = ds[no3_name].sel(latitude=lat_point, method=\"nearest\").sel(depth=slice(depth_min, depth_max))\n",
    "O2 = ds[o2_name].sel(latitude=lat_point, method=\"nearest\").sel(depth=slice(depth_min, depth_max))\n",
    "\n",
    "# Set the variable min and max values for the plot and the colorbar (otherwise assign None):\n",
    "min_value, max_value = None, None\n",
    "# min_value, max_value = 0, 250"
   ]
  },
  {
   "cell_type": "markdown",
   "metadata": {},
   "source": [
    "If you want to check a variable content, write its name in the cell below and press RUN (or shift-enter):"
   ]
  },
  {
   "cell_type": "code",
   "execution_count": 44,
   "metadata": {},
   "outputs": [
    {
     "data": {
      "text/html": [
       "<div><svg style=\"position: absolute; width: 0; height: 0; overflow: hidden\">\n",
       "<defs>\n",
       "<symbol id=\"icon-database\" viewBox=\"0 0 32 32\">\n",
       "<path d=\"M16 0c-8.837 0-16 2.239-16 5v4c0 2.761 7.163 5 16 5s16-2.239 16-5v-4c0-2.761-7.163-5-16-5z\"></path>\n",
       "<path d=\"M16 17c-8.837 0-16-2.239-16-5v6c0 2.761 7.163 5 16 5s16-2.239 16-5v-6c0 2.761-7.163 5-16 5z\"></path>\n",
       "<path d=\"M16 26c-8.837 0-16-2.239-16-5v6c0 2.761 7.163 5 16 5s16-2.239 16-5v-6c0 2.761-7.163 5-16 5z\"></path>\n",
       "</symbol>\n",
       "<symbol id=\"icon-file-text2\" viewBox=\"0 0 32 32\">\n",
       "<path d=\"M28.681 7.159c-0.694-0.947-1.662-2.053-2.724-3.116s-2.169-2.030-3.116-2.724c-1.612-1.182-2.393-1.319-2.841-1.319h-15.5c-1.378 0-2.5 1.121-2.5 2.5v27c0 1.378 1.122 2.5 2.5 2.5h23c1.378 0 2.5-1.122 2.5-2.5v-19.5c0-0.448-0.137-1.23-1.319-2.841zM24.543 5.457c0.959 0.959 1.712 1.825 2.268 2.543h-4.811v-4.811c0.718 0.556 1.584 1.309 2.543 2.268zM28 29.5c0 0.271-0.229 0.5-0.5 0.5h-23c-0.271 0-0.5-0.229-0.5-0.5v-27c0-0.271 0.229-0.5 0.5-0.5 0 0 15.499-0 15.5 0v7c0 0.552 0.448 1 1 1h7v19.5z\"></path>\n",
       "<path d=\"M23 26h-14c-0.552 0-1-0.448-1-1s0.448-1 1-1h14c0.552 0 1 0.448 1 1s-0.448 1-1 1z\"></path>\n",
       "<path d=\"M23 22h-14c-0.552 0-1-0.448-1-1s0.448-1 1-1h14c0.552 0 1 0.448 1 1s-0.448 1-1 1z\"></path>\n",
       "<path d=\"M23 18h-14c-0.552 0-1-0.448-1-1s0.448-1 1-1h14c0.552 0 1 0.448 1 1s-0.448 1-1 1z\"></path>\n",
       "</symbol>\n",
       "</defs>\n",
       "</svg>\n",
       "<style>/* CSS stylesheet for displaying xarray objects in jupyterlab.\n",
       " *\n",
       " */\n",
       "\n",
       ":root {\n",
       "  --xr-font-color0: var(--jp-content-font-color0, rgba(0, 0, 0, 1));\n",
       "  --xr-font-color2: var(--jp-content-font-color2, rgba(0, 0, 0, 0.54));\n",
       "  --xr-font-color3: var(--jp-content-font-color3, rgba(0, 0, 0, 0.38));\n",
       "  --xr-border-color: var(--jp-border-color2, #e0e0e0);\n",
       "  --xr-disabled-color: var(--jp-layout-color3, #bdbdbd);\n",
       "  --xr-background-color: var(--jp-layout-color0, white);\n",
       "  --xr-background-color-row-even: var(--jp-layout-color1, white);\n",
       "  --xr-background-color-row-odd: var(--jp-layout-color2, #eeeeee);\n",
       "}\n",
       "\n",
       "html[theme=dark],\n",
       "body.vscode-dark {\n",
       "  --xr-font-color0: rgba(255, 255, 255, 1);\n",
       "  --xr-font-color2: rgba(255, 255, 255, 0.54);\n",
       "  --xr-font-color3: rgba(255, 255, 255, 0.38);\n",
       "  --xr-border-color: #1F1F1F;\n",
       "  --xr-disabled-color: #515151;\n",
       "  --xr-background-color: #111111;\n",
       "  --xr-background-color-row-even: #111111;\n",
       "  --xr-background-color-row-odd: #313131;\n",
       "}\n",
       "\n",
       ".xr-wrap {\n",
       "  display: block;\n",
       "  min-width: 300px;\n",
       "  max-width: 700px;\n",
       "}\n",
       "\n",
       ".xr-text-repr-fallback {\n",
       "  /* fallback to plain text repr when CSS is not injected (untrusted notebook) */\n",
       "  display: none;\n",
       "}\n",
       "\n",
       ".xr-header {\n",
       "  padding-top: 6px;\n",
       "  padding-bottom: 6px;\n",
       "  margin-bottom: 4px;\n",
       "  border-bottom: solid 1px var(--xr-border-color);\n",
       "}\n",
       "\n",
       ".xr-header > div,\n",
       ".xr-header > ul {\n",
       "  display: inline;\n",
       "  margin-top: 0;\n",
       "  margin-bottom: 0;\n",
       "}\n",
       "\n",
       ".xr-obj-type,\n",
       ".xr-array-name {\n",
       "  margin-left: 2px;\n",
       "  margin-right: 10px;\n",
       "}\n",
       "\n",
       ".xr-obj-type {\n",
       "  color: var(--xr-font-color2);\n",
       "}\n",
       "\n",
       ".xr-sections {\n",
       "  padding-left: 0 !important;\n",
       "  display: grid;\n",
       "  grid-template-columns: 150px auto auto 1fr 20px 20px;\n",
       "}\n",
       "\n",
       ".xr-section-item {\n",
       "  display: contents;\n",
       "}\n",
       "\n",
       ".xr-section-item input {\n",
       "  display: none;\n",
       "}\n",
       "\n",
       ".xr-section-item input + label {\n",
       "  color: var(--xr-disabled-color);\n",
       "}\n",
       "\n",
       ".xr-section-item input:enabled + label {\n",
       "  cursor: pointer;\n",
       "  color: var(--xr-font-color2);\n",
       "}\n",
       "\n",
       ".xr-section-item input:enabled + label:hover {\n",
       "  color: var(--xr-font-color0);\n",
       "}\n",
       "\n",
       ".xr-section-summary {\n",
       "  grid-column: 1;\n",
       "  color: var(--xr-font-color2);\n",
       "  font-weight: 500;\n",
       "}\n",
       "\n",
       ".xr-section-summary > span {\n",
       "  display: inline-block;\n",
       "  padding-left: 0.5em;\n",
       "}\n",
       "\n",
       ".xr-section-summary-in:disabled + label {\n",
       "  color: var(--xr-font-color2);\n",
       "}\n",
       "\n",
       ".xr-section-summary-in + label:before {\n",
       "  display: inline-block;\n",
       "  content: '►';\n",
       "  font-size: 11px;\n",
       "  width: 15px;\n",
       "  text-align: center;\n",
       "}\n",
       "\n",
       ".xr-section-summary-in:disabled + label:before {\n",
       "  color: var(--xr-disabled-color);\n",
       "}\n",
       "\n",
       ".xr-section-summary-in:checked + label:before {\n",
       "  content: '▼';\n",
       "}\n",
       "\n",
       ".xr-section-summary-in:checked + label > span {\n",
       "  display: none;\n",
       "}\n",
       "\n",
       ".xr-section-summary,\n",
       ".xr-section-inline-details {\n",
       "  padding-top: 4px;\n",
       "  padding-bottom: 4px;\n",
       "}\n",
       "\n",
       ".xr-section-inline-details {\n",
       "  grid-column: 2 / -1;\n",
       "}\n",
       "\n",
       ".xr-section-details {\n",
       "  display: none;\n",
       "  grid-column: 1 / -1;\n",
       "  margin-bottom: 5px;\n",
       "}\n",
       "\n",
       ".xr-section-summary-in:checked ~ .xr-section-details {\n",
       "  display: contents;\n",
       "}\n",
       "\n",
       ".xr-array-wrap {\n",
       "  grid-column: 1 / -1;\n",
       "  display: grid;\n",
       "  grid-template-columns: 20px auto;\n",
       "}\n",
       "\n",
       ".xr-array-wrap > label {\n",
       "  grid-column: 1;\n",
       "  vertical-align: top;\n",
       "}\n",
       "\n",
       ".xr-preview {\n",
       "  color: var(--xr-font-color3);\n",
       "}\n",
       "\n",
       ".xr-array-preview,\n",
       ".xr-array-data {\n",
       "  padding: 0 5px !important;\n",
       "  grid-column: 2;\n",
       "}\n",
       "\n",
       ".xr-array-data,\n",
       ".xr-array-in:checked ~ .xr-array-preview {\n",
       "  display: none;\n",
       "}\n",
       "\n",
       ".xr-array-in:checked ~ .xr-array-data,\n",
       ".xr-array-preview {\n",
       "  display: inline-block;\n",
       "}\n",
       "\n",
       ".xr-dim-list {\n",
       "  display: inline-block !important;\n",
       "  list-style: none;\n",
       "  padding: 0 !important;\n",
       "  margin: 0;\n",
       "}\n",
       "\n",
       ".xr-dim-list li {\n",
       "  display: inline-block;\n",
       "  padding: 0;\n",
       "  margin: 0;\n",
       "}\n",
       "\n",
       ".xr-dim-list:before {\n",
       "  content: '(';\n",
       "}\n",
       "\n",
       ".xr-dim-list:after {\n",
       "  content: ')';\n",
       "}\n",
       "\n",
       ".xr-dim-list li:not(:last-child):after {\n",
       "  content: ',';\n",
       "  padding-right: 5px;\n",
       "}\n",
       "\n",
       ".xr-has-index {\n",
       "  font-weight: bold;\n",
       "}\n",
       "\n",
       ".xr-var-list,\n",
       ".xr-var-item {\n",
       "  display: contents;\n",
       "}\n",
       "\n",
       ".xr-var-item > div,\n",
       ".xr-var-item label,\n",
       ".xr-var-item > .xr-var-name span {\n",
       "  background-color: var(--xr-background-color-row-even);\n",
       "  margin-bottom: 0;\n",
       "}\n",
       "\n",
       ".xr-var-item > .xr-var-name:hover span {\n",
       "  padding-right: 5px;\n",
       "}\n",
       "\n",
       ".xr-var-list > li:nth-child(odd) > div,\n",
       ".xr-var-list > li:nth-child(odd) > label,\n",
       ".xr-var-list > li:nth-child(odd) > .xr-var-name span {\n",
       "  background-color: var(--xr-background-color-row-odd);\n",
       "}\n",
       "\n",
       ".xr-var-name {\n",
       "  grid-column: 1;\n",
       "}\n",
       "\n",
       ".xr-var-dims {\n",
       "  grid-column: 2;\n",
       "}\n",
       "\n",
       ".xr-var-dtype {\n",
       "  grid-column: 3;\n",
       "  text-align: right;\n",
       "  color: var(--xr-font-color2);\n",
       "}\n",
       "\n",
       ".xr-var-preview {\n",
       "  grid-column: 4;\n",
       "}\n",
       "\n",
       ".xr-var-name,\n",
       ".xr-var-dims,\n",
       ".xr-var-dtype,\n",
       ".xr-preview,\n",
       ".xr-attrs dt {\n",
       "  white-space: nowrap;\n",
       "  overflow: hidden;\n",
       "  text-overflow: ellipsis;\n",
       "  padding-right: 10px;\n",
       "}\n",
       "\n",
       ".xr-var-name:hover,\n",
       ".xr-var-dims:hover,\n",
       ".xr-var-dtype:hover,\n",
       ".xr-attrs dt:hover {\n",
       "  overflow: visible;\n",
       "  width: auto;\n",
       "  z-index: 1;\n",
       "}\n",
       "\n",
       ".xr-var-attrs,\n",
       ".xr-var-data {\n",
       "  display: none;\n",
       "  background-color: var(--xr-background-color) !important;\n",
       "  padding-bottom: 5px !important;\n",
       "}\n",
       "\n",
       ".xr-var-attrs-in:checked ~ .xr-var-attrs,\n",
       ".xr-var-data-in:checked ~ .xr-var-data {\n",
       "  display: block;\n",
       "}\n",
       "\n",
       ".xr-var-data > table {\n",
       "  float: right;\n",
       "}\n",
       "\n",
       ".xr-var-name span,\n",
       ".xr-var-data,\n",
       ".xr-attrs {\n",
       "  padding-left: 25px !important;\n",
       "}\n",
       "\n",
       ".xr-attrs,\n",
       ".xr-var-attrs,\n",
       ".xr-var-data {\n",
       "  grid-column: 1 / -1;\n",
       "}\n",
       "\n",
       "dl.xr-attrs {\n",
       "  padding: 0;\n",
       "  margin: 0;\n",
       "  display: grid;\n",
       "  grid-template-columns: 125px auto;\n",
       "}\n",
       "\n",
       ".xr-attrs dt,\n",
       ".xr-attrs dd {\n",
       "  padding: 0;\n",
       "  margin: 0;\n",
       "  float: left;\n",
       "  padding-right: 10px;\n",
       "  width: auto;\n",
       "}\n",
       "\n",
       ".xr-attrs dt {\n",
       "  font-weight: normal;\n",
       "  grid-column: 1;\n",
       "}\n",
       "\n",
       ".xr-attrs dt:hover span {\n",
       "  display: inline-block;\n",
       "  background: var(--xr-background-color);\n",
       "  padding-right: 10px;\n",
       "}\n",
       "\n",
       ".xr-attrs dd {\n",
       "  grid-column: 2;\n",
       "  white-space: pre-wrap;\n",
       "  word-break: break-all;\n",
       "}\n",
       "\n",
       ".xr-icon-database,\n",
       ".xr-icon-file-text2 {\n",
       "  display: inline-block;\n",
       "  vertical-align: middle;\n",
       "  width: 1em;\n",
       "  height: 1.5em !important;\n",
       "  stroke-width: 0;\n",
       "  stroke: currentColor;\n",
       "  fill: currentColor;\n",
       "}\n",
       "</style><pre class='xr-text-repr-fallback'>&lt;xarray.DataArray &#x27;o2&#x27; (time: 7, depth: 31, longitude: 101)&gt;\n",
       "array([[[nan, nan, ..., nan, nan],\n",
       "        [nan, nan, ..., nan, nan],\n",
       "        ...,\n",
       "        [nan, nan, ..., nan, nan],\n",
       "        [nan, nan, ..., nan, nan]],\n",
       "\n",
       "       [[nan, nan, ..., nan, nan],\n",
       "        [nan, nan, ..., nan, nan],\n",
       "        ...,\n",
       "        [nan, nan, ..., nan, nan],\n",
       "        [nan, nan, ..., nan, nan]],\n",
       "\n",
       "       ...,\n",
       "\n",
       "       [[nan, nan, ..., nan, nan],\n",
       "        [nan, nan, ..., nan, nan],\n",
       "        ...,\n",
       "        [nan, nan, ..., nan, nan],\n",
       "        [nan, nan, ..., nan, nan]],\n",
       "\n",
       "       [[nan, nan, ..., nan, nan],\n",
       "        [nan, nan, ..., nan, nan],\n",
       "        ...,\n",
       "        [nan, nan, ..., nan, nan],\n",
       "        [nan, nan, ..., nan, nan]]], dtype=float32)\n",
       "Coordinates:\n",
       "  * depth      (depth) float32 0.494 1.541 2.646 3.819 ... 318.1 380.2 453.9\n",
       "    latitude   float32 20.0\n",
       "  * time       (time) datetime64[ns] 2019-02-15 ... 2019-08-16T12:00:00\n",
       "  * longitude  (longitude) float32 50.0 50.25 50.5 50.75 ... 74.5 74.75 75.0\n",
       "Attributes:\n",
       "    long_name:      Dissolved Oxygen\n",
       "    standard_name:  mole_concentration_of_dissolved_molecular_oxygen_in_sea_w...\n",
       "    units:          mmol m-3\n",
       "    unit_long:      millimoles of Oxygen per cubic meter\n",
       "    _ChunkSizes:    [  1  13 171 360]</pre><div class='xr-wrap' hidden><div class='xr-header'><div class='xr-obj-type'>xarray.DataArray</div><div class='xr-array-name'>'o2'</div><ul class='xr-dim-list'><li><span class='xr-has-index'>time</span>: 7</li><li><span class='xr-has-index'>depth</span>: 31</li><li><span class='xr-has-index'>longitude</span>: 101</li></ul></div><ul class='xr-sections'><li class='xr-section-item'><div class='xr-array-wrap'><input id='section-c0a63cdd-be00-4241-91f1-019f1effeebf' class='xr-array-in' type='checkbox' checked><label for='section-c0a63cdd-be00-4241-91f1-019f1effeebf' title='Show/hide data repr'><svg class='icon xr-icon-database'><use xlink:href='#icon-database'></use></svg></label><div class='xr-array-preview xr-preview'><span>nan nan nan nan nan nan nan nan ... nan nan nan nan nan nan nan nan</span></div><div class='xr-array-data'><pre>array([[[nan, nan, ..., nan, nan],\n",
       "        [nan, nan, ..., nan, nan],\n",
       "        ...,\n",
       "        [nan, nan, ..., nan, nan],\n",
       "        [nan, nan, ..., nan, nan]],\n",
       "\n",
       "       [[nan, nan, ..., nan, nan],\n",
       "        [nan, nan, ..., nan, nan],\n",
       "        ...,\n",
       "        [nan, nan, ..., nan, nan],\n",
       "        [nan, nan, ..., nan, nan]],\n",
       "\n",
       "       ...,\n",
       "\n",
       "       [[nan, nan, ..., nan, nan],\n",
       "        [nan, nan, ..., nan, nan],\n",
       "        ...,\n",
       "        [nan, nan, ..., nan, nan],\n",
       "        [nan, nan, ..., nan, nan]],\n",
       "\n",
       "       [[nan, nan, ..., nan, nan],\n",
       "        [nan, nan, ..., nan, nan],\n",
       "        ...,\n",
       "        [nan, nan, ..., nan, nan],\n",
       "        [nan, nan, ..., nan, nan]]], dtype=float32)</pre></div></div></li><li class='xr-section-item'><input id='section-36951959-c73b-4f4b-9661-04270ab22388' class='xr-section-summary-in' type='checkbox'  checked><label for='section-36951959-c73b-4f4b-9661-04270ab22388' class='xr-section-summary' >Coordinates: <span>(4)</span></label><div class='xr-section-inline-details'></div><div class='xr-section-details'><ul class='xr-var-list'><li class='xr-var-item'><div class='xr-var-name'><span class='xr-has-index'>depth</span></div><div class='xr-var-dims'>(depth)</div><div class='xr-var-dtype'>float32</div><div class='xr-var-preview xr-preview'>0.494 1.541 2.646 ... 380.2 453.9</div><input id='attrs-2659f9c2-e6ff-4d60-b0f5-8ba9c91e46a8' class='xr-var-attrs-in' type='checkbox' ><label for='attrs-2659f9c2-e6ff-4d60-b0f5-8ba9c91e46a8' title='Show/Hide attributes'><svg class='icon xr-icon-file-text2'><use xlink:href='#icon-file-text2'></use></svg></label><input id='data-dafe3d38-5c55-4d84-83e1-49029cc5a73e' class='xr-var-data-in' type='checkbox'><label for='data-dafe3d38-5c55-4d84-83e1-49029cc5a73e' title='Show/Hide data repr'><svg class='icon xr-icon-database'><use xlink:href='#icon-database'></use></svg></label><div class='xr-var-attrs'><dl class='xr-attrs'><dt><span>valid_min :</span></dt><dd>0.494025</dd><dt><span>valid_max :</span></dt><dd>5727.917</dd><dt><span>units :</span></dt><dd>m</dd><dt><span>positive :</span></dt><dd>down</dd><dt><span>unit_long :</span></dt><dd>Meters</dd><dt><span>long_name :</span></dt><dd>Depth</dd><dt><span>standard_name :</span></dt><dd>depth</dd><dt><span>axis :</span></dt><dd>Z</dd><dt><span>_ChunkSizes :</span></dt><dd>50</dd><dt><span>_CoordinateAxisType :</span></dt><dd>Height</dd><dt><span>_CoordinateZisPositive :</span></dt><dd>down</dd></dl></div><div class='xr-var-data'><pre>array([  0.494025,   1.541375,   2.645669,   3.819495,   5.078224,   6.440614,\n",
       "         7.92956 ,   9.572997,  11.405   ,  13.46714 ,  15.81007 ,  18.49556 ,\n",
       "        21.59882 ,  25.21141 ,  29.44473 ,  34.43415 ,  40.34405 ,  47.37369 ,\n",
       "        55.76429 ,  65.80727 ,  77.85385 ,  92.32607 , 109.7293  , 130.666   ,\n",
       "       155.8507  , 186.1256  , 222.4752  , 266.0403  , 318.1274  , 380.213   ,\n",
       "       453.9377  ], dtype=float32)</pre></div></li><li class='xr-var-item'><div class='xr-var-name'><span>latitude</span></div><div class='xr-var-dims'>()</div><div class='xr-var-dtype'>float32</div><div class='xr-var-preview xr-preview'>20.0</div><input id='attrs-e2a1b7bb-7024-4811-a0bb-8c0226a34f0f' class='xr-var-attrs-in' type='checkbox' ><label for='attrs-e2a1b7bb-7024-4811-a0bb-8c0226a34f0f' title='Show/Hide attributes'><svg class='icon xr-icon-file-text2'><use xlink:href='#icon-file-text2'></use></svg></label><input id='data-177d6c18-41a5-4d11-bbd5-634dffe0f0b2' class='xr-var-data-in' type='checkbox'><label for='data-177d6c18-41a5-4d11-bbd5-634dffe0f0b2' title='Show/Hide data repr'><svg class='icon xr-icon-database'><use xlink:href='#icon-database'></use></svg></label><div class='xr-var-attrs'><dl class='xr-attrs'><dt><span>valid_min :</span></dt><dd>10.0</dd><dt><span>valid_max :</span></dt><dd>25.0</dd><dt><span>step :</span></dt><dd>0.25</dd><dt><span>units :</span></dt><dd>degrees_north</dd><dt><span>unit_long :</span></dt><dd>Degrees North</dd><dt><span>long_name :</span></dt><dd>Latitude</dd><dt><span>standard_name :</span></dt><dd>latitude</dd><dt><span>axis :</span></dt><dd>Y</dd><dt><span>_ChunkSizes :</span></dt><dd>681</dd><dt><span>_CoordinateAxisType :</span></dt><dd>Lat</dd></dl></div><div class='xr-var-data'><pre>array(20., dtype=float32)</pre></div></li><li class='xr-var-item'><div class='xr-var-name'><span class='xr-has-index'>time</span></div><div class='xr-var-dims'>(time)</div><div class='xr-var-dtype'>datetime64[ns]</div><div class='xr-var-preview xr-preview'>2019-02-15 ... 2019-08-16T12:00:00</div><input id='attrs-041cbb6a-dfd9-4988-8061-6b62d2c7b1bc' class='xr-var-attrs-in' type='checkbox' ><label for='attrs-041cbb6a-dfd9-4988-8061-6b62d2c7b1bc' title='Show/Hide attributes'><svg class='icon xr-icon-file-text2'><use xlink:href='#icon-file-text2'></use></svg></label><input id='data-c2050aaa-e586-4efa-8587-7bc9795ef49a' class='xr-var-data-in' type='checkbox'><label for='data-c2050aaa-e586-4efa-8587-7bc9795ef49a' title='Show/Hide data repr'><svg class='icon xr-icon-database'><use xlink:href='#icon-database'></use></svg></label><div class='xr-var-attrs'><dl class='xr-attrs'><dt><span>long_name :</span></dt><dd>Time (hours since 1950-01-01)</dd><dt><span>standard_name :</span></dt><dd>time</dd><dt><span>axis :</span></dt><dd>T</dd><dt><span>_ChunkSizes :</span></dt><dd>1</dd><dt><span>_CoordinateAxisType :</span></dt><dd>Time</dd><dt><span>valid_min :</span></dt><dd>605928.0</dd><dt><span>valid_max :</span></dt><dd>610308.0</dd></dl></div><div class='xr-var-data'><pre>array([&#x27;2019-02-15T00:00:00.000000000&#x27;, &#x27;2019-03-16T12:00:00.000000000&#x27;,\n",
       "       &#x27;2019-04-16T00:00:00.000000000&#x27;, &#x27;2019-05-16T12:00:00.000000000&#x27;,\n",
       "       &#x27;2019-06-16T00:00:00.000000000&#x27;, &#x27;2019-07-16T12:00:00.000000000&#x27;,\n",
       "       &#x27;2019-08-16T12:00:00.000000000&#x27;], dtype=&#x27;datetime64[ns]&#x27;)</pre></div></li><li class='xr-var-item'><div class='xr-var-name'><span class='xr-has-index'>longitude</span></div><div class='xr-var-dims'>(longitude)</div><div class='xr-var-dtype'>float32</div><div class='xr-var-preview xr-preview'>50.0 50.25 50.5 ... 74.5 74.75 75.0</div><input id='attrs-2c38b5f3-3b77-4cef-9152-319c3bf9e246' class='xr-var-attrs-in' type='checkbox' ><label for='attrs-2c38b5f3-3b77-4cef-9152-319c3bf9e246' title='Show/Hide attributes'><svg class='icon xr-icon-file-text2'><use xlink:href='#icon-file-text2'></use></svg></label><input id='data-1a93148d-851b-4874-96e4-82f2c042bb54' class='xr-var-data-in' type='checkbox'><label for='data-1a93148d-851b-4874-96e4-82f2c042bb54' title='Show/Hide data repr'><svg class='icon xr-icon-database'><use xlink:href='#icon-database'></use></svg></label><div class='xr-var-attrs'><dl class='xr-attrs'><dt><span>valid_min :</span></dt><dd>50.0</dd><dt><span>valid_max :</span></dt><dd>75.0</dd><dt><span>step :</span></dt><dd>0.25</dd><dt><span>units :</span></dt><dd>degrees_east</dd><dt><span>unit_long :</span></dt><dd>Degrees East</dd><dt><span>long_name :</span></dt><dd>Longitude</dd><dt><span>standard_name :</span></dt><dd>longitude</dd><dt><span>axis :</span></dt><dd>X</dd><dt><span>_ChunkSizes :</span></dt><dd>1440</dd><dt><span>_CoordinateAxisType :</span></dt><dd>Lon</dd></dl></div><div class='xr-var-data'><pre>array([50.  , 50.25, 50.5 , 50.75, 51.  , 51.25, 51.5 , 51.75, 52.  , 52.25,\n",
       "       52.5 , 52.75, 53.  , 53.25, 53.5 , 53.75, 54.  , 54.25, 54.5 , 54.75,\n",
       "       55.  , 55.25, 55.5 , 55.75, 56.  , 56.25, 56.5 , 56.75, 57.  , 57.25,\n",
       "       57.5 , 57.75, 58.  , 58.25, 58.5 , 58.75, 59.  , 59.25, 59.5 , 59.75,\n",
       "       60.  , 60.25, 60.5 , 60.75, 61.  , 61.25, 61.5 , 61.75, 62.  , 62.25,\n",
       "       62.5 , 62.75, 63.  , 63.25, 63.5 , 63.75, 64.  , 64.25, 64.5 , 64.75,\n",
       "       65.  , 65.25, 65.5 , 65.75, 66.  , 66.25, 66.5 , 66.75, 67.  , 67.25,\n",
       "       67.5 , 67.75, 68.  , 68.25, 68.5 , 68.75, 69.  , 69.25, 69.5 , 69.75,\n",
       "       70.  , 70.25, 70.5 , 70.75, 71.  , 71.25, 71.5 , 71.75, 72.  , 72.25,\n",
       "       72.5 , 72.75, 73.  , 73.25, 73.5 , 73.75, 74.  , 74.25, 74.5 , 74.75,\n",
       "       75.  ], dtype=float32)</pre></div></li></ul></div></li><li class='xr-section-item'><input id='section-96e861ee-7f71-4bff-84d9-cb0f5aadf152' class='xr-section-summary-in' type='checkbox'  checked><label for='section-96e861ee-7f71-4bff-84d9-cb0f5aadf152' class='xr-section-summary' >Attributes: <span>(5)</span></label><div class='xr-section-inline-details'></div><div class='xr-section-details'><dl class='xr-attrs'><dt><span>long_name :</span></dt><dd>Dissolved Oxygen</dd><dt><span>standard_name :</span></dt><dd>mole_concentration_of_dissolved_molecular_oxygen_in_sea_water</dd><dt><span>units :</span></dt><dd>mmol m-3</dd><dt><span>unit_long :</span></dt><dd>millimoles of Oxygen per cubic meter</dd><dt><span>_ChunkSizes :</span></dt><dd>[  1  13 171 360]</dd></dl></div></li></ul></div></div>"
      ],
      "text/plain": [
       "<xarray.DataArray 'o2' (time: 7, depth: 31, longitude: 101)>\n",
       "array([[[nan, nan, ..., nan, nan],\n",
       "        [nan, nan, ..., nan, nan],\n",
       "        ...,\n",
       "        [nan, nan, ..., nan, nan],\n",
       "        [nan, nan, ..., nan, nan]],\n",
       "\n",
       "       [[nan, nan, ..., nan, nan],\n",
       "        [nan, nan, ..., nan, nan],\n",
       "        ...,\n",
       "        [nan, nan, ..., nan, nan],\n",
       "        [nan, nan, ..., nan, nan]],\n",
       "\n",
       "       ...,\n",
       "\n",
       "       [[nan, nan, ..., nan, nan],\n",
       "        [nan, nan, ..., nan, nan],\n",
       "        ...,\n",
       "        [nan, nan, ..., nan, nan],\n",
       "        [nan, nan, ..., nan, nan]],\n",
       "\n",
       "       [[nan, nan, ..., nan, nan],\n",
       "        [nan, nan, ..., nan, nan],\n",
       "        ...,\n",
       "        [nan, nan, ..., nan, nan],\n",
       "        [nan, nan, ..., nan, nan]]], dtype=float32)\n",
       "Coordinates:\n",
       "  * depth      (depth) float32 0.494 1.541 2.646 3.819 ... 318.1 380.2 453.9\n",
       "    latitude   float32 20.0\n",
       "  * time       (time) datetime64[ns] 2019-02-15 ... 2019-08-16T12:00:00\n",
       "  * longitude  (longitude) float32 50.0 50.25 50.5 50.75 ... 74.5 74.75 75.0\n",
       "Attributes:\n",
       "    long_name:      Dissolved Oxygen\n",
       "    standard_name:  mole_concentration_of_dissolved_molecular_oxygen_in_sea_w...\n",
       "    units:          mmol m-3\n",
       "    unit_long:      millimoles of Oxygen per cubic meter\n",
       "    _ChunkSizes:    [  1  13 171 360]"
      ]
     },
     "execution_count": 44,
     "metadata": {},
     "output_type": "execute_result"
    }
   ],
   "source": [
    "O2"
   ]
  },
  {
   "cell_type": "markdown",
   "metadata": {},
   "source": [
    "## 4.2. Configure the plot\n",
    "[Go back to the \"Table of contents\"](#Table-of-contents)"
   ]
  },
  {
   "cell_type": "code",
   "execution_count": 45,
   "metadata": {},
   "outputs": [],
   "source": [
    "# Create the meshgrid for the plot \n",
    "X, Y = np.meshgrid(lons_sel, depths_sel)\n",
    "\n",
    "# Plot configuration\n",
    "width_inch = 14\n",
    "height_inch = 8\n",
    "\n",
    "# Axes labels\n",
    "fontsize = 14\n",
    "xlabel = \"longitude [degE]\"\n",
    "ylabel = \"depth [m]\"\n",
    "\n",
    "# Colorbar configuration\n",
    "cmap = \"jet\"\n",
    "cbar_position = \"right\"\n",
    "\n",
    "contour_levels = 100\n",
    "\n",
    "title_fontstyle = {\n",
    "    \"fontsize\": \"14\",\n",
    "    \"fontstyle\": \"italic\",\n",
    "    \"fontweight\": \"bold\",\n",
    "    \"pad\": 30\n",
    "}\n",
    "label_fontstyle = {\n",
    "    \"fontsize\": \"12\",\n",
    "#     \"labelpad\": 10\n",
    "}"
   ]
  },
  {
   "cell_type": "code",
   "execution_count": 46,
   "metadata": {},
   "outputs": [],
   "source": [
    "# function for plotting the transect (it uses many \"hidden\" variables...)\n",
    "def plot_transect(data, min_value, max_value, step_value):\n",
    "    fig = plt.figure(figsize=(width_inch, height_inch))\n",
    "\n",
    "    # Get the timestep\n",
    "    timestep = np.datetime_as_string(data.time,'h')\n",
    "\n",
    "    # Create the meshgrid for the plot \n",
    "    xx, yy = np.meshgrid(lons_sel, depths_sel)\n",
    "\n",
    "    # set variable limits\n",
    "    min_value = data.min() if min_value is None else min_value\n",
    "    max_value = data.max() if max_value is None else max_value\n",
    "    contour_levels = np.arange(min_value, max_value, step_value)\n",
    "    \n",
    "    # contour fill\n",
    "    plt.contourf(xx, yy, data, contour_levels, cmap=cmap, vmin=min_value, vmax=max_value, extend='both')\n",
    "    \n",
    "    plt.grid()\n",
    "    plt.colorbar(extend='both')\n",
    "\n",
    "    title_sel = data.long_name\n",
    "    var_str = \"{} [{}]\".format(title_sel, data.units)\n",
    "    title = ' - '.join((var_str, timestep))\n",
    "\n",
    "    plt.title(title, **title_fontstyle)\n",
    "    plt.xlabel(xlabel, **label_fontstyle)\n",
    "    plt.ylabel(ylabel, **label_fontstyle)\n",
    "\n",
    "    # output file\n",
    "    output_file = os.path.join(out_path,title.replace(' ','_')) + \".png\"\n",
    "\n",
    "    # save the output file\n",
    "    plt.savefig(output_file)\n",
    "\n",
    "    plt.show()\n",
    "\n",
    "    plt.close()"
   ]
  },
  {
   "cell_type": "markdown",
   "metadata": {},
   "source": [
    "## 4.3. Plot a transect of nitrate\n",
    "[Go back to the \"Table of contents\"](#Table-of-contents)\n",
    "\n",
    "First, we plot nitrate selecting the min and max range and step value of colorbar"
   ]
  },
  {
   "cell_type": "code",
   "execution_count": 47,
   "metadata": {},
   "outputs": [
    {
     "data": {
      "image/png": "[encoded data removed]",
      "text/plain": [
       "<Figure size 1008x576 with 2 Axes>"
      ]
     },
     "metadata": {
      "needs_background": "light"
     },
     "output_type": "display_data"
    }
   ],
   "source": [
    "# select the month of interest\n",
    "# 0 = Feb, 1 = Mar, 2 = Apr, 3 = May, 4 = Jun, 5 = Jul, 6 = Aug\n",
    "j = 6\n",
    "\n",
    "# extract data for that month\n",
    "data = NO3[j]\n",
    "\n",
    "# plot the transect\n",
    "plot_transect(data, 0, 25, 0.1)"
   ]
  },
  {
   "cell_type": "markdown",
   "metadata": {},
   "source": [
    "### What does the nitrate section show?\n",
    "\n",
    "This nitrate section shows the inclination of the nitracline from east to west. This highlights the upwelling of nitrate along the coasts of Somalia and Oman (West of 60°E) in Summer (July and August). If you change the month, you will see that the nitracline deepens in the west of the basin. \n",
    "\n",
    "If you switch to the phosphate variable (another macro-nutrient limiting the primary production), you will see the same behaviour as with nitrate."
   ]
  },
  {
   "cell_type": "markdown",
   "metadata": {},
   "source": [
    "## 4.4. Plot a transect of oxygen\n",
    "[Go back to the \"Table of contents\"](#Table-of-contents)"
   ]
  },
  {
   "cell_type": "markdown",
   "metadata": {},
   "source": [
    "We plot here the same section in the Arabian Sea at 20° but for the oxygen variable. We see here a mixed layer of a few tens of meters of depth well oxygenated. Underneath (below the oxycline), there is a very thick Oxygen Minimum Zone (about 1000 m thick). You can see it in full if you increase maximum depth of the plot to 3000 m for example."
   ]
  },
  {
   "cell_type": "code",
   "execution_count": 48,
   "metadata": {},
   "outputs": [
    {
     "data": {
      "image/png": "[encoded data removed]",
      "text/plain": [
       "<Figure size 1008x576 with 2 Axes>"
      ]
     },
     "metadata": {
      "needs_background": "light"
     },
     "output_type": "display_data"
    }
   ],
   "source": [
    "# Select a summer month\n",
    "j = 6\n",
    "\n",
    "# Extract data for that month\n",
    "data = O2[j]\n",
    "\n",
    "# plot data\n",
    "plot_transect(data, 0, 250, 1)"
   ]
  },
  {
   "cell_type": "markdown",
   "metadata": {},
   "source": [
    "***"
   ]
  },
  {
   "cell_type": "markdown",
   "metadata": {},
   "source": [
    "# 5. Exercise n.3: Temporal evolution in the North-West Pacific Basin (in the area of the Kuroshio current)"
   ]
  },
  {
   "cell_type": "markdown",
   "metadata": {},
   "source": [
    "[Go back to the \"Table of contents\"](#Table-of-contents)"
   ]
  },
  {
   "cell_type": "markdown",
   "metadata": {},
   "source": [
    "## 5.1. Access the data"
   ]
  },
  {
   "cell_type": "code",
   "execution_count": 49,
   "metadata": {},
   "outputs": [],
   "source": [
    "# Input netcdf file name\n",
    "nc = os.path.join(data_path, \"global-analysis-forecast-bio-001-028-monthly_ex3.nc\")\n",
    "\n",
    "# open the dataset\n",
    "ds = xr.open_dataset(nc)"
   ]
  },
  {
   "cell_type": "markdown",
   "metadata": {},
   "source": [
    "### Get info about the dataset:"
   ]
  },
  {
   "cell_type": "code",
   "execution_count": 50,
   "metadata": {},
   "outputs": [
    {
     "data": {
      "text/plain": [
       "<bound method Dataset.info of <xarray.Dataset>\n",
       "Dimensions:    (depth: 1, latitude: 61, longitude: 201, time: 24)\n",
       "Coordinates:\n",
       "  * depth      (depth) float32 0.494\n",
       "  * latitude   (latitude) float32 25.0 25.25 25.5 25.75 ... 39.5 39.75 40.0\n",
       "  * time       (time) datetime64[ns] 2019-01-16T12:00:00 ... 2020-12-16T12:00:00\n",
       "  * longitude  (longitude) float32 130.0 130.2 130.5 130.8 ... 179.5 179.8 180.0\n",
       "Data variables:\n",
       "    chl        (time, depth, latitude, longitude) float32 ...\n",
       "Attributes: (12/18)\n",
       "    title:                         Monthly mean fields for product GLOBAL_ANA...\n",
       "    references:                    http://marine.copernicus.eu\n",
       "    credit:                        E.U. Copernicus Marine Service Information...\n",
       "    licence:                       http://marine.copernicus.eu/services-portf...\n",
       "    contact:                       servicedesk.cmems@mercator-ocean.eu\n",
       "    producer:                      CMEMS - Global Monitoring and Forecasting ...\n",
       "    ...                            ...\n",
       "    product_user_manual:           http://marine.copernicus.eu/documents/PUM/...\n",
       "    quality_information_document:  http://marine.copernicus.eu/documents/QUID...\n",
       "    _CoordSysBuilder:              ucar.nc2.dataset.conv.CF1Convention\n",
       "    Conventions:                   CF-1.0\n",
       "    comment:                       \n",
       "    history:                       Data extracted from dataset http://localho...>"
      ]
     },
     "execution_count": 50,
     "metadata": {},
     "output_type": "execute_result"
    }
   ],
   "source": [
    "ds.info"
   ]
  },
  {
   "cell_type": "code",
   "execution_count": 51,
   "metadata": {},
   "outputs": [
    {
     "data": {
      "text/plain": [
       "Data variables:\n",
       "    chl      (time, depth, latitude, longitude) float32 ..."
      ]
     },
     "execution_count": 51,
     "metadata": {},
     "output_type": "execute_result"
    }
   ],
   "source": [
    "ds.data_vars"
   ]
  },
  {
   "cell_type": "code",
   "execution_count": 52,
   "metadata": {},
   "outputs": [
    {
     "data": {
      "text/plain": [
       "Coordinates:\n",
       "  * depth      (depth) float32 0.494\n",
       "  * latitude   (latitude) float32 25.0 25.25 25.5 25.75 ... 39.5 39.75 40.0\n",
       "  * time       (time) datetime64[ns] 2019-01-16T12:00:00 ... 2020-12-16T12:00:00\n",
       "  * longitude  (longitude) float32 130.0 130.2 130.5 130.8 ... 179.5 179.8 180.0"
      ]
     },
     "execution_count": 52,
     "metadata": {},
     "output_type": "execute_result"
    }
   ],
   "source": [
    "ds.coords"
   ]
  },
  {
   "cell_type": "markdown",
   "metadata": {},
   "source": [
    "## 5.2. Set the configuration\n",
    "[Go back to the \"Table of contents\"](#Table-of-contents)"
   ]
  },
  {
   "cell_type": "markdown",
   "metadata": {},
   "source": [
    "Let's check the coordinates names in the cells above (check the ***ds.coords*** outputs) and set the correct variables below:"
   ]
  },
  {
   "cell_type": "code",
   "execution_count": 53,
   "metadata": {},
   "outputs": [],
   "source": [
    "# Set the coordinate names (used later for accessing the data)\n",
    "lon_name = \"longitude\"\n",
    "lat_name = \"latitude\"\n",
    "time_name = \"time\"\n",
    "depth_name = \"depth\""
   ]
  },
  {
   "cell_type": "markdown",
   "metadata": {},
   "source": [
    "Do the same for the variables names (check the ***ds.data_vars*** outputs): "
   ]
  },
  {
   "cell_type": "code",
   "execution_count": 54,
   "metadata": {},
   "outputs": [],
   "source": [
    "# Set the variable names\n",
    "\n",
    "# mass_concentration_of_chlorophyll_a_in_sea_water (CHL)\n",
    "chl_name = \"chl\""
   ]
  },
  {
   "cell_type": "markdown",
   "metadata": {},
   "source": [
    "## 5.3. Generate the temporal evolution plot for chlorophyll - Hovmöller diagram (lat/time)"
   ]
  },
  {
   "cell_type": "markdown",
   "metadata": {},
   "source": [
    "### 5.3.1. Configure the variables for the plots\n",
    "[Go back to the \"Table of contents\"](#Table-of-contents)"
   ]
  },
  {
   "cell_type": "code",
   "execution_count": 55,
   "metadata": {},
   "outputs": [],
   "source": [
    "# --- Choose the variable to plot\n",
    "var_sel = ds[chl_name]\n",
    "\n",
    "dataset_3D = False\n",
    "if depth_name in var_sel.coords:\n",
    "    dataset_3D = True\n",
    "\n",
    "# --- Set up the arrays of coordinates for the selected dataset ---\n",
    "lats = var_sel[lat_name]\n",
    "lons = var_sel[lon_name]\n",
    "times = var_sel[time_name]\n",
    "depths = var_sel[depth_name]\n",
    "\n",
    "# --- Set the area: choose the min and max values for the coordinates ---\n",
    "# (and comment with the symbol # the unnecessary ones!):                                                               \n",
    "                                                                 \n",
    "## Set lat-lon limits - CUSTOM\n",
    "#lon_min = 55\n",
    "#lon_max = 65\n",
    "#lat_min = 15\n",
    "#lat_max = 20\n",
    "\n",
    "# Set lat-lon limits - FULL AREA\n",
    "lat_min = lats.min()\n",
    "lat_max = lats.max()\n",
    "lon_min = lons.min()\n",
    "lon_max = lons.max()\n",
    "\n",
    "# Get the time limits\n",
    "time_min = times.min()\n",
    "time_max = times.max()\n",
    "\n",
    "# Set the variable min and max values for the plot and the colorbar (otherwise assign None):\n",
    "min_value, max_value = None, None\n",
    "#min_value, max_value = 0, 0.10\n",
    "#min_value, max_value = 0, 12\n",
    "\n",
    "# Set the desired depth in meters\n",
    "d = 0"
   ]
  },
  {
   "cell_type": "markdown",
   "metadata": {},
   "source": [
    "### 5.3.2. Plot the variables\n",
    "[Go back to the \"Table of contents\"](#Table-of-contents)"
   ]
  },
  {
   "cell_type": "code",
   "execution_count": 56,
   "metadata": {},
   "outputs": [],
   "source": [
    "# Set the longitude of interest\n",
    "lon_sel = 170\n",
    "\n",
    "# Select data at the desired longitude\n",
    "data = var_sel.sel(longitude=lon_sel, method='nearest')[:, 0, :]"
   ]
  },
  {
   "cell_type": "code",
   "execution_count": 57,
   "metadata": {},
   "outputs": [
    {
     "data": {
      "text/plain": [
       "<Figure size 1152x576 with 0 Axes>"
      ]
     },
     "metadata": {},
     "output_type": "display_data"
    },
    {
     "data": {
      "image/png": "[encoded data removed]",
      "text/plain": [
       "<Figure size 432x288 with 2 Axes>"
      ]
     },
     "metadata": {
      "needs_background": "light"
     },
     "output_type": "display_data"
    }
   ],
   "source": [
    "# Plot configuration\n",
    "width_inch = 16\n",
    "height_inch = 8\n",
    "\n",
    "# Axes labels\n",
    "fontsize = 14\n",
    "xlabel = 'time [month]'\n",
    "ylabel = 'latitude [deg]'\n",
    "xlabelpad = 30\n",
    "ylabelpad = 60\n",
    "\n",
    "# Colorbar configuration\n",
    "cmap = \"jet\"\n",
    "cbar_position = \"right\"\n",
    "\n",
    "title_fontstyle = {\n",
    "    \"fontsize\": \"14\",\n",
    "    \"fontstyle\": \"italic\",\n",
    "    \"fontweight\": \"bold\",\n",
    "    \"pad\": 30\n",
    "}\n",
    "\n",
    "label_fontstyle = {\n",
    "    \"fontsize\": \"12\",\n",
    "    \"labelpad\": 30\n",
    "}\n",
    "\n",
    "# Set the coordinates indexes\n",
    "lat_indexes = getRangeIndexes(lats, lat_min, lat_max)\n",
    "time_indexes = getRangeIndexes(times, time_min, time_max)\n",
    "depth_indexes = [0]\n",
    "\n",
    "# Get the selected coordinates:\n",
    "lats_sel = lats[lat_indexes]\n",
    "times_sel = times[time_indexes]\n",
    "plt.figure(figsize=(width_inch, height_inch))\n",
    "\n",
    "# contour fill\n",
    "min_value = data.min() if min_value is None else min_value\n",
    "max_value = data.max() if max_value is None else max_value\n",
    "step_value = 0.5\n",
    "#xx, yy = np.meshgrid(lats_sel, time_indexes)\n",
    "xx, yy = np.meshgrid(time_indexes, lats_sel)\n",
    "\n",
    "# draw colorbar\n",
    "fig, _axs = plt.subplots(nrows=1, ncols=1)\n",
    "fig.colorbar(colormesh)\n",
    "\n",
    "# pcolormesh\n",
    "colormesh = _axs.pcolormesh(xx, yy, data.T, vmin=min_value, vmax=max_value, cmap=cmap)\n",
    "\n",
    "# set title\n",
    "title_sel = data.long_name\n",
    "var_str = \"{} [{}]\".format(title_sel, data.units)\n",
    "\n",
    "if dataset_3D:\n",
    "    depth_str = \"{:.2f}{}\".format(float(data[depth_name]), \"[m]\")\n",
    "    title = '%s, %s degE, %s' % (var_str, str(lon_sel), depth_str)\n",
    "else:\n",
    "    title = '%s, %s degE' % (var_str, str(lon_sel))\n",
    "\n",
    "# draw title and axes labels\n",
    "plt.title(title, **title_fontstyle)\n",
    "plt.xlabel(xlabel, labelpad=xlabelpad, fontsize=12)\n",
    "plt.ylabel(ylabel, labelpad=ylabelpad, fontsize=12)    \n",
    "\n",
    "# output file\n",
    "output_file = os.path.join(out_path,title.replace(' ','_')) + \".png\"\n",
    "\n",
    "# save the output file\n",
    "plt.savefig(output_file)\n",
    "\n",
    "# show the picture\n",
    "plt.show()\n",
    "plt.close()"
   ]
  },
  {
   "cell_type": "markdown",
   "metadata": {},
   "source": [
    "***"
   ]
  },
  {
   "cell_type": "markdown",
   "metadata": {},
   "source": [
    "This figure shows the seasonal cycle of the chlorophyll at the boundary between subtropical and subpolar gyres of the Pacific Ocean. We see a very oligotrophic region with very low chlorophyll levels all year long south of 28°N. Further north, we see a marked seasonal cycle typical of subpolar gyres: a spring bloom due to the mixed layer restratification followed by a period with very low chlorophyll levels (very shallow mixed layer) in summer and a deepening of the mixed layer in autumn associated with increasing chlorophyll concentration. "
   ]
  },
  {
   "cell_type": "markdown",
   "metadata": {},
   "source": [
    "# 6. Conclusion"
   ]
  },
  {
   "cell_type": "markdown",
   "metadata": {},
   "source": [
    "<div class=\"alert alert-block alert-success\">\n",
    "    <b>CONGRATULATIONS</b><br>\n",
    "  \n",
    "--- \n",
    "\n",
    "#### And thank you for your attention! :) We hope you enjoyed this training on the Global Biogeochemical model data provided by Copernicus Marine Service, for free, thanks to the European Commission.\n",
    "\n",
    "#### Now let's try to download new data and variables and to access and visualize them... you can try to make new maps and plots... and don't forget to try to the other [Copernicus Marine Global products](https://resources.marine.copernicus.eu/?option=com_csw&task=results)!\n",
    "\n",
    "This training course is over but we'd love to hear from you about how we could improve it (topics, tools, storytelling, format, speed etc). "
   ]
  },
  {
   "cell_type": "markdown",
   "metadata": {},
   "source": [
    "[Go back to the \"Table of contents\"](#Table-of-contents)"
   ]
  }
 ],
 "metadata": {
  "finalized": {
   "timestamp": 1575910822768,
   "trusted": true
  },
  "kernelspec": {
   "display_name": "Python 3",
   "language": "python",
   "name": "python3"
  },
  "language_info": {
   "codemirror_mode": {
    "name": "ipython",
    "version": 3
   },
   "file_extension": ".py",
   "mimetype": "text/x-python",
   "name": "python",
   "nbconvert_exporter": "python",
   "pygments_lexer": "ipython3",
   "version": "3.7.3"
  }
 },
 "nbformat": 4,
 "nbformat_minor": 4
}
