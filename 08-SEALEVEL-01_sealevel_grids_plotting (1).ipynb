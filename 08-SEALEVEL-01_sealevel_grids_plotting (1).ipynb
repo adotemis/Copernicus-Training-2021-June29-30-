{
 "cells": [
  {
   "cell_type": "markdown",
   "metadata": {},
   "source": [
    "![header](https://i.imgur.com/I4ake6d.jpg)\n",
    "\n",
    "\n",
    "\n",
    "# Copernicus Marine Sea Level America Training (1/2)\n",
    "\n",
    "<div style=\"text-align: right\"><i> 08-01-SEALEVEL-Part-one-out-of-two </i></div>\n",
    "\n",
    "***\n",
    "\n",
    "# How to quickly plot Copernicus Sea Level Satellite Observations data ?\n",
    "\n",
    "<img src=\"./img/08-SL-01_ProductLevelPrez-2.png\" width=\"900\">"
   ]
  },
  {
   "cell_type": "markdown",
   "metadata": {},
   "source": [
    "***\n",
    "**General Note 1**: Execute each cell through the <button class=\"btn btn-default btn-xs\"><i class=\"icon-play fa fa-play\"></i></button> button from the top MENU (or keyboard shortcut `Shift` + `Enter`).<br>\n",
    "<br>\n",
    "**General Note 2**: If, for any reason, the kernel is not working anymore, in the top MENU, click on the <button class=\"btn btn-default btn-xs\"><i class=\"fa fa-repeat icon-repeat\"></i></button> button. Then, in the top MENU, click on \"Cell\" and select \"Run All Above Selected Cell\".<br>\n",
    "***"
   ]
  },
  {
   "cell_type": "markdown",
   "metadata": {},
   "source": [
    "# Table of contents\n",
    "\n",
    "- [1. Introduction](#1.-Introduction)\n",
    "- [2. Initialize Dataset from File](#2.-Initialize-Dataset-from-File)\n",
    "  - [2.1. Load L4 Product through xarray](#2.1.-Load-L4-Product-through-xarray)\n",
    "  - [2.2. Examine L4 Product Metadata](#2.2.-Examine-L4-Product-Metadata)\n",
    "- [3. Read and load a data variable for L4 Product: Sea Level Anomalies](#3.-Read-and-load-a-data-variable-for-L4-Product:-Sea-Level-Anomalies)\n",
    "- [4. Plot the Data](#4.-Plot-the-Data)\n",
    "  - [4.1. Plot the whole dataset for Sea Level Anomaly](#4.1.-Plot-the-whole-dataset-for-Sea-Level-Anomaly)\n",
    "  - [4.2. Zoom visually on the area](#4.2.-Zoom-visually-on-the-area)\n",
    "  - [4.3. Mapping the dynamic topography](#4.3.-Mapping-the-dynamic-topography)\n",
    "  - [4.4. Mapping the geostrophic currents](#4.4.-Mapping-the-geostrophic-currents)\n",
    "  - [4.5. Mapping the formal error (err)](#4.5.-Mapping-the-formal-error-(err))\n",
    "  \n",
    "***"
   ]
  },
  {
   "cell_type": "markdown",
   "metadata": {},
   "source": [
    "## 1. Introduction\n"
   ]
  },
  {
   "cell_type": "markdown",
   "metadata": {},
   "source": [
    "[Go back to the \"Table of contents\"](#Table-of-contents)"
   ]
  },
  {
   "cell_type": "markdown",
   "metadata": {},
   "source": [
    "We will focus on the following product (available on the [Copernicus Catalogue](http://marine.copernicus.eu/services-portfolio/access-to-products/?option=com_csw&task=results)):\n",
    "- [SEALEVEL_GLO_PHY_L4_NRT_OBSERVATIONS_008_046](https://resources.marine.copernicus.eu/?option=com_csw&view=details&product_id=SEALEVEL_GLO_PHY_L4_NRT_OBSERVATIONS_008_046)\n",
    "\n",
    "Those data come from several radar altimetry satellites, and provide with sea surface height with respect to different vertical references. This is not a \"raw\" product straight from satellite measurements, but is mightily processed. We will see later on some rawer products.\n",
    "\n",
    "\n",
    "<div class=\"alert alert-block alert-success\">\n",
    "<b>Specificities</b>\n",
    "\n",
    "***  \n",
    "- `Level4`: gap-free gridded data. These products are altimetry maps and constitute the highest-level and most user-friendly altimetry data. Data have had the greatest amount of processing applied, possibly including modelled output and measurements from several satellites and several days. All input data are validated.\n",
    "</div>\n",
    "\n",
    "To read more about the processing, you can see [[Pujol et al, 2016](./docs/References/os-12-1067-2016.pdf)] and [[Taburet et al, 2019](./docs/References/os-15-1207-2019.pdf)] in the <b>docs/references</b> folder.\n",
    "\n",
    "<hr width='50%'>\n",
    "\n",
    "We will look at the area west of central America with eddies shed."
   ]
  },
  {
   "cell_type": "markdown",
   "metadata": {},
   "source": [
    "<hr>\n",
    "\n",
    "### Environment Setup\n",
    "\n",
    "At first, let's setup the notebook with all the necessary tools available from the Jupyter Notebook Ecosystem.\n",
    "\n",
    "#### Importing modules\n",
    "* Unlike MATLAB, Python libraries need to be `imported` before they can be used\n",
    "* Imported libraries often have a short name (\"namespace\")\n",
    "* Portions of libraries, can be imported"
   ]
  },
  {
   "cell_type": "code",
   "execution_count": null,
   "metadata": {},
   "outputs": [],
   "source": [
    "%matplotlib inline\n",
    "import xarray                     # Import xarray (python interface to manipulate multidimensional gridded data)\n",
    "import matplotlib                 # Import the math & plotting library\n",
    "import matplotlib.pyplot as plt   # Define the namespace for the plots\n",
    "plt.rcParams[\"figure.figsize\"] = (14,7) #define the size of the figures \n",
    "import cartopy                  # Import the mapping library (note: this is needed to deal with mapping projections)\n",
    "import cartopy.crs as ccrs      #  Define the namespace for the geographical projections\n",
    "\n",
    "# The following is not generally recommended, but avoid un-necessary warning messages in today's training frame\n",
    "import warnings\n",
    "warnings.filterwarnings('ignore')"
   ]
  },
  {
   "cell_type": "markdown",
   "metadata": {},
   "source": [
    "## 2. Initialize Dataset from File"
   ]
  },
  {
   "cell_type": "markdown",
   "metadata": {},
   "source": [
    "[Go back to the \"Table of contents\"](#Table-of-contents)"
   ]
  },
  {
   "cell_type": "markdown",
   "metadata": {},
   "source": [
    "### 2.1. Load L4 Product through xarray"
   ]
  },
  {
   "cell_type": "code",
   "execution_count": null,
   "metadata": {},
   "outputs": [],
   "source": [
    "# define the folder where the data were stored. \n",
    "rootPath = 'data/'\n",
    "# define the file in the data folder\n",
    "MyInputFile = 'nrt_global_allsat_phy_l4_20210413_20210413.nc'\n",
    "mydataset = xarray.open_dataset(rootPath + MyInputFile)"
   ]
  },
  {
   "cell_type": "markdown",
   "metadata": {},
   "source": [
    "First, let's inspect the content of this netCDF file to see the variables names and the size in longitude/latitude or other dimensions. Another way of doing this is to use the \"Panoply\" software."
   ]
  },
  {
   "cell_type": "markdown",
   "metadata": {},
   "source": [
    "### 2.2. Examine L4 Product Metadata\n",
    "[Go back to the \"Table of contents\"](#Table-of-contents)"
   ]
  },
  {
   "cell_type": "markdown",
   "metadata": {},
   "source": [
    "NetCDF is a self-described format, i.e. it includes information (\"metadata\") that describes and explains the data, such as explicit name (long_name), standardized name (standard_name), comment, units, min and max values, also default value, etc. Those information are called \"attributes\", and are specific to the file, or to each variable; they are mostly optional, but highly recommended; the \"standardization\" of the format makes some of them mandatory. It is part of the CMEMS requirements. \n",
    "\n",
    "<div class=\"alert alert-block alert-success\">\n",
    "<b>Objective</b>\n",
    "\n",
    "***  \n",
    "We will print the list of variables defined within the file.\n",
    "</div> \n",
    "\n",
    "To read more about the processing, you can also see [[Pujol et al, 2016](./docs/References/os-12-1067-2016.pdf)] and [[Taburet et al, 2019](./docs/References/os-15-1207-2019.pdf)]"
   ]
  },
  {
   "cell_type": "code",
   "execution_count": null,
   "metadata": {},
   "outputs": [],
   "source": [
    "mydataset.data_vars"
   ]
  },
  {
   "cell_type": "markdown",
   "metadata": {},
   "source": [
    "Those are the variables within the product; \n",
    "The names between parenthesis are the dimensions of the variable, i.e. the parameters the data use as coordinates (here, time, latitude and longitude).\n",
    "The main interest of the NetCDF data format is to be self-described, i.e., it includes a number of information describing the data (variables and dimensions both), such as units, standardized names (following a precise dictionary with international conventions set), long_name, comment...\n",
    "You can have a look at them using python (they are also described in the product user manual, see in the [Product User Manual (PUM)](./docs/ProductUserManual/CMEMS-SL-PUM-008-032-062.pdf))"
   ]
  },
  {
   "cell_type": "code",
   "execution_count": null,
   "metadata": {},
   "outputs": [],
   "source": [
    "variable = 'sla'\n",
    "print('the unit of the variable', variable, 'is', mydataset[variable].attrs['units'])"
   ]
  },
  {
   "cell_type": "markdown",
   "metadata": {},
   "source": [
    "<div class=\"alert alert-block alert-info\">\n",
    "<b>TIP</b>\n",
    "\n",
    "***\n",
    "Using .attrs['name of the attribute'] , with name of the attribute = 'long_name', or 'standard_name', or 'comment' you can have a look at the other information. \n",
    "</div> "
   ]
  },
  {
   "cell_type": "markdown",
   "metadata": {},
   "source": [
    "## 3. Read and load a data variable for L4 Product: Sea Level Anomalies"
   ]
  },
  {
   "cell_type": "markdown",
   "metadata": {},
   "source": [
    "[Go back to the \"Table of contents\"](#Table-of-contents)"
   ]
  },
  {
   "cell_type": "markdown",
   "metadata": {},
   "source": [
    "<div class=\"alert alert-block alert-success\">\n",
    "<b>Objective</b>\n",
    "\n",
    "***  \n",
    "We will read the Sea Level Anomalies variable.\n",
    "</div>  \n",
    "\n",
    "If you had a look at the standard names, you have seen that this is also called \"sea_surface_height_above_sea_level\"; \n",
    "\n",
    "Acronyms used below:\n",
    "- <b>SLA</b> Sea Level Anomaly  (sea surface height with respect to a mean sea surface); it represents ocean variability\n",
    "- <b>ADT</b> Absolute Dynamic Topography  (sea surface height with respect to the geoid); it represents the heights linked to everything moving in the ocean\n",
    "- <b>MSS</b> Mean Sea Surface (a multi-year average of the sea surface heights with respect to a reference ellipsoid -- MSS is not provided here)\n",
    "- <b>MDT</b> Mean Dynamic Topography : ADT = SLA + MDT ; MDT is obtained through MSS - geoid and also drifter current velocity analysis. It represents the heights linked to the mean stable currents. It is now provided through CMEMS as another dataset.\n",
    "\n",
    "\n",
    "(NB. the reference ellipsoid is a geometric surface approximating Earth surface ; the geoid is an equipotential of the Earth gravity field)\n",
    "\n",
    "<img src=\"./img/08-SEALEVEL-01_names-heights.png\" width=\"400\">"
   ]
  },
  {
   "cell_type": "markdown",
   "metadata": {},
   "source": [
    "***\n",
    "\n",
    "<b>We have chosen April 13, 2021 to visualise and test the data.</b>"
   ]
  },
  {
   "cell_type": "code",
   "execution_count": null,
   "metadata": {},
   "outputs": [],
   "source": [
    "# we define the date so as to be able to use it afterwards\n",
    "mydate = '2021-04-13'\n",
    "# we subset the initial dataset at this date in SeaLevelAnom using sel (for \"selection\")\n",
    "# note that in the provided file you only have one date. \n",
    "SeaLevelAnom = mydataset['sla'].sel(time=mydate)\n",
    "# Finally, we upload and store the latitude and longitude so as to be able to call them later on\n",
    "latitude = mydataset['latitude']\n",
    "longitude = mydataset['longitude']"
   ]
  },
  {
   "cell_type": "markdown",
   "metadata": {},
   "source": [
    "## 4. Plot the Data"
   ]
  },
  {
   "cell_type": "markdown",
   "metadata": {},
   "source": [
    "[Go back to the \"Table of contents\"](#Table-of-contents)"
   ]
  },
  {
   "cell_type": "markdown",
   "metadata": {},
   "source": [
    "### 4.1. Plot the whole dataset for Sea Level Anomaly"
   ]
  },
  {
   "cell_type": "markdown",
   "metadata": {},
   "source": [
    "We start with the coordinates of the \"global\" zone, i.e. the full geographical spread of the dataset. Note that the longitudes are defined from -180°E to 180°E\n",
    "\n",
    "<img src=\"./img/slaglo_0centered.png\">"
   ]
  },
  {
   "cell_type": "code",
   "execution_count": null,
   "metadata": {},
   "outputs": [],
   "source": [
    "lon_min=-180. ; lon_max=180. ; lat_min=-90. ; lat_max=90."
   ]
  },
  {
   "cell_type": "markdown",
   "metadata": {},
   "source": [
    "We plot the Sea Level Anomalies in a \"plate carree\" projection (scale: longitude = latitude), see more [here](https://scitools.org.uk/cartopy/docs/latest/crs/projections.html).\n",
    "\n",
    "We are keeping the default color scale minimum and maximum (i.e. the minimum and maximum value of the variable within the given file -- it could be different on another day).\n",
    "The lands are colored in grey (lightgrey) and delimited by a 1-px line. \n",
    "We set the extent of the plot using the maximum and minimum longitude and latitude defined above. \n",
    "We add a color scale (colorbar), and a title; here we put the unit of the scale in the title, in a 16-size font."
   ]
  },
  {
   "cell_type": "code",
   "execution_count": null,
   "metadata": {},
   "outputs": [],
   "source": [
    "# Create python object from the \"matplotlib\" and its \"pyplot\" package (shortened as plt)\n",
    "plt.figure()\n",
    "# Create an \"ax\" from which we add the projection\n",
    "ax = plt.axes(projection=ccrs.PlateCarree())\n",
    "# Add a layer for the continent\n",
    "ax.add_feature(cartopy.feature.LAND, linewidth=1, facecolor='lightgrey', edgecolor='k', zorder=1)\n",
    "# Set the extent of the map.\n",
    "ax.set_extent([lon_min, lon_max, lat_min, lat_max])\n",
    "# Define a colormesh which is the color plot\n",
    "mymap = ax.pcolormesh(longitude, latitude, SeaLevelAnom, cmap='RdYlBu_r')\n",
    "# Add a colorbar to the map object to give scale\n",
    "plt.colorbar(mymap, ax=ax)\n",
    "# Add a title to the map object\n",
    "plt.title('Sea Level Anomalies [m]', size=16)\n",
    "plt.show()"
   ]
  },
  {
   "cell_type": "markdown",
   "metadata": {},
   "source": [
    "### 4.2. Zoom visually on the area\n",
    "[Go back to the \"Table of contents\"](#Table-of-contents)"
   ]
  },
  {
   "cell_type": "markdown",
   "metadata": {},
   "source": [
    "<div class=\"alert alert-block alert-success\">\n",
    "<b>Objective</b>\n",
    "\n",
    "***  \n",
    "We are focusing on a particular area.\n",
    "</div>  \n",
    "We will look at the region lon_min=-120. ; lon_max=-75. ; lat_min=5. ; lat_max=20.\n",
    "\n",
    "We have, still loaded into memory: longitude, latitude and SeaLevelAnom\n",
    "\n",
    "<img src=\"./img/sla_Tehuantepec.png\">\n"
   ]
  },
  {
   "cell_type": "code",
   "execution_count": null,
   "metadata": {},
   "outputs": [],
   "source": [
    "lon_min=-120. ; lon_max=-75. ; lat_min=5. ; lat_max=20.\n",
    "\n",
    "plt.figure()\n",
    "ax = plt.axes(projection=ccrs.PlateCarree())\n",
    "ax.add_feature(cartopy.feature.LAND, linewidth=1, facecolor='lightgrey', edgecolor='k', zorder=1)\n",
    "ax.set_extent([lon_min, lon_max, lat_min, lat_max])\n",
    "\n",
    "# actually plot the data\n",
    "mymap = ax.pcolormesh(longitude, latitude, SeaLevelAnom, transform=ccrs.PlateCarree(), cmap='RdYlBu_r')\n",
    "plt.colorbar(mymap, ax=ax)\n",
    "\n",
    "plt.title('Sea Level Anomalies [m]', size=16)\n",
    "plt.show()"
   ]
  },
  {
   "cell_type": "markdown",
   "metadata": {},
   "source": [
    "<div class=\"alert alert-block alert-info\">\n",
    "<b>TIP</b> How to best fit a colorscale?\n",
    "\n",
    "***\n",
    "In the previous plots, we used the default minimum and maximum variable values for the color scale. Note that since we're using the global data file, it is defined on the global minimum and maximum. \n",
    "However, if you want to compare different dates or datasets you may need to force the minimum and maximum to identical values rather than use an automated definition (either the default, or defining it by telling explicitely it is the minimum of the data and the maximum of it -- which lead rigourously to the same). \n",
    "\n",
    "Moreover, the overall impression is rather uniform. You may prefer to see more details, and fitting the scale to (at least) the local min/max is a first step. \n",
    "\n",
    "</div>\n",
    "\n",
    "So, here we will have a look at the above map, and define those extrema. \n",
    "you can try:\n",
    "\n",
    "- colormin=-0.5 ; colormax=0.5 \n",
    "\n",
    "- Or colormin=-0.25 ; colormax=0.25\n",
    "\n",
    "The second version will be saturated at the highest and lowest values, but will show more details for lower values -- it is your choice, depending on what you want to highlight. Going even lower for a global map is usual (+/-0.20 m or even +/-0.15 m) for the large quiet areas."
   ]
  },
  {
   "cell_type": "code",
   "execution_count": null,
   "metadata": {
    "tags": []
   },
   "outputs": [],
   "source": [
    "plt.figure()\n",
    "# sketchy coasts on the map... we call on a higher resolution library for land contours\n",
    "ax = plt.axes(projection=ccrs.PlateCarree())\n",
    "ax.add_feature(cartopy.feature.LAND, linewidth=1, facecolor='lightgrey', edgecolor='k', zorder=1)\n",
    "#adding a grid to mark longitudes and latitudes, with labels\n",
    "ax.gridlines(crs=ccrs.PlateCarree(), draw_labels=True, linewidth=1, color='gray', alpha=0.5, linestyle='--')\n",
    "ax.set_extent([lon_min, lon_max, lat_min, lat_max])\n",
    "# actually plot the data\n",
    "mymap = ax.pcolormesh(longitude, latitude, SeaLevelAnom, vmin=colormin, vmax=colormax, cmap='RdYlBu_r')\n",
    "plt.colorbar(mymap, ax=ax)\n",
    "#we pad the title to let some space for the grid label\n",
    "plt.title('Sea Level Anomalies [m]', size=16, pad=24)\n",
    "plt.show()"
   ]
  },
  {
   "cell_type": "markdown",
   "metadata": {},
   "source": [
    "You can see a series of three-four warm eddies (\"big red dot\", i.e. higher-than-average-level roundish feature) in the Pacific, at around 10°N."
   ]
  },
  {
   "cell_type": "markdown",
   "metadata": {},
   "source": [
    "### 4.3. Mapping the dynamic topography\n",
    "[Go back to the \"Table of contents\"](#Table-of-contents)"
   ]
  },
  {
   "cell_type": "markdown",
   "metadata": {},
   "source": [
    "<div class=\"alert alert-block alert-success\">\n",
    "<b>Objective</b>\n",
    "\n",
    "***  \n",
    "How to map another variable?\n",
    "</div>  \n",
    "We map now the Absolute Dynamic Topography (ADT)."
   ]
  },
  {
   "cell_type": "code",
   "execution_count": null,
   "metadata": {},
   "outputs": [],
   "source": [
    "AbsDynTopo = mydataset['adt'].sel(time=mydate)\n",
    "#longitude and latitude are already loaded into memory\n",
    "colormin=0 ; colormax=1.0\n",
    "plt.figure()\n",
    "# sketchy coasts on the map... we call on a higher resolution library for land contours\n",
    "ax = plt.axes(projection=ccrs.PlateCarree())\n",
    "ax.add_feature(cartopy.feature.LAND, linewidth=1, facecolor='lightgrey', edgecolor='k', zorder=1)\n",
    "ax.gridlines()\n",
    "ax.set_extent([lon_min, lon_max, lat_min, lat_max])\n",
    "# actually plot the data\n",
    "mymap = ax.pcolormesh(longitude, latitude, AbsDynTopo, vmin=colormin, vmax=colormax, cmap='RdYlBu_r')\n",
    "plt.colorbar(mymap, ax=ax)\n",
    "plt.title('Absolute Dynamic Topography [m]', size=16)\n",
    "plt.show()"
   ]
  },
  {
   "cell_type": "markdown",
   "metadata": {},
   "source": [
    "Note that the plot is mostly higher than zero in this region (Pacific ocean absolute dynamic topography is higher than, e.g. Atlantic one), while the automated scale (defined from the global data) is not;\n",
    "You can limit it to 0.0 , 1.0 ( vmin=colormin, vmax=colormax, with colormin=0 ; colormax=1.0 )"
   ]
  },
  {
   "cell_type": "markdown",
   "metadata": {},
   "source": [
    "### 4.4. Mapping the geostrophic currents\n",
    "[Go back to the \"Table of contents\"](#Table-of-contents)"
   ]
  },
  {
   "cell_type": "markdown",
   "metadata": {},
   "source": [
    "In the data, you can also see two sets of variables named \"geo\" for geostrophic currents. We map one of them overlaid on previous Absolute Dynamic Topography map. \n",
    "For this, we will chose the one matching this variable: we have anomalies of the current, and the absolute version too. \n",
    "<br>Note that the plotting is quite long"
   ]
  },
  {
   "cell_type": "code",
   "execution_count": null,
   "metadata": {},
   "outputs": [],
   "source": [
    "colormin=0. ; colormax=1.\n",
    "\n",
    "uadtg = mydataset['ugos'].sel(time=mydate)\n",
    "vadtg = mydataset['vgos'].sel(time=mydate)\n",
    "\n",
    "plt.figure()\n",
    "ax = plt.axes(projection=ccrs.PlateCarree())\n",
    "ax.add_feature(cartopy.feature.LAND, linewidth=1, facecolor='lightgrey', edgecolor='k', zorder=1)\n",
    "ax.gridlines()\n",
    "# Set the extent of the map\n",
    "ax.set_extent([lon_min, lon_max, lat_min, lat_max])\n",
    "\n",
    "# Define a colormesh which is the color plot\n",
    "mymap = ax.pcolormesh(longitude, latitude, AbsDynTopo, vmin=colormin, vmax=colormax, cmap='RdYlBu_r', zorder=1)\n",
    "#here we have two components of a vector; we plot them as arrows\n",
    "arrows = ax.quiver(longitude, latitude, uadtg, vadtg)\n",
    "# Add a colorbar to the map object to give scale\n",
    "plt.colorbar(mymap, ax=ax)\n",
    "# Add a title to the map object\n",
    "plt.title('Absolute Dynamic Topography [m]', size=16)"
   ]
  },
  {
   "cell_type": "markdown",
   "metadata": {},
   "source": [
    "All those black dots are the arrows representing the currents. They are too small.\n",
    "\n",
    "<div class=\"alert alert-block alert-info\">\n",
    "<b>TIP</b> How to play with the size of arrows?\n",
    "\n",
    "***\n",
    "Several options exist at this point:\n",
    "- extract(select) a smaller area from your data to better see the arrows (here the scale is defined upon the global dataset, with an geographically extracted data file, it would fit the extrema of your area)\n",
    "- scale the arrows by defining \"scale= \" in ax.quiver\n",
    "- subsample your grid of arrows (e.g., every degree i.e. every four value)\n",
    "- average the velocities every degree or so (neater, but not often done)\n",
    " \n",
    "</div>\n",
    "\n",
    "We will explore a combination of the second and third options.\n",
    "\n",
    "Note that in the case of a strong current, you would have had long arrows within the currents, and much smaller ones out of it. \n",
    "The right balance depends on your need: \n",
    "- if you are looking at the strong current, use high values \n",
    "- if you are looking at the circulation away from the current, use lower values - the arrows within the current will be too long, but you will see some details away from it. "
   ]
  },
  {
   "cell_type": "code",
   "execution_count": null,
   "metadata": {
    "tags": []
   },
   "outputs": [],
   "source": [
    "colormin=0. ; colormax=1.\n",
    "\n",
    "plt.figure()\n",
    "ax = plt.axes(projection=ccrs.PlateCarree())\n",
    "ax.add_feature(cartopy.feature.LAND, linewidth=1, facecolor='lightgrey', edgecolor='k', zorder=1)\n",
    "ax.gridlines()\n",
    "# Set the extent of the map\n",
    "ax.set_extent([lon_min, lon_max, lat_min, lat_max])\n",
    "\n",
    "# Define a colormesh which is the color plot\n",
    "colormesh = ax.pcolormesh(longitude, latitude, AbsDynTopo,  vmin=colormin, vmax=colormax, cmap='RdYlBu_r', zorder=1)\n",
    "#here we have two components of a vector; we plot them as arrows\n",
    "\n",
    "# un-comment one of each of the lines below -- one \"subsampl\", one \"arrowscale\"\n",
    "# subsampl is used to take only one point every (value), \n",
    "# arrowscale: the higher the value, the smaller the arrow\n",
    "#subsampl = 1 \n",
    "#subsampl = 4\n",
    "subsampl = 2\n",
    "#arrowscale = 10.\n",
    "#arrowscale = 50.\n",
    "arrowscale = 25.\n",
    "\n",
    "arrows = ax.quiver(longitude[::subsampl], latitude[::subsampl], uadtg[::subsampl,::subsampl], vadtg[::subsampl,::subsampl], scale=arrowscale)\n",
    "# Add a colorbar to the map object to give scale\n",
    "plt.colorbar(colormesh, ax=ax)\n",
    "# Add a title to the map object\n",
    "plt.title('Absolute Dynamic Topography [m]', size=16)"
   ]
  },
  {
   "cell_type": "markdown",
   "metadata": {},
   "source": [
    "You see currents around the (warm) eddies we saw above. "
   ]
  },
  {
   "cell_type": "markdown",
   "metadata": {},
   "source": [
    "### 4.5. Mapping the formal error (err)\n",
    "[Go back to the \"Table of contents\"](#Table-of-contents)"
   ]
  },
  {
   "cell_type": "markdown",
   "metadata": {},
   "source": [
    "Another available variable in the dataset is \"err\".\n",
    "\"err\" is the error made in the mapping process. However, it does not include the measurement error (a complicated business in satellite in general, altimetry in particular. Teams are working on it, though, and it should be added in the near future).\n",
    "\n",
    "A plot may help you to see what this is about."
   ]
  },
  {
   "cell_type": "code",
   "execution_count": null,
   "metadata": {},
   "outputs": [],
   "source": [
    "Err_mapping = mydataset['err'].sel(time=mydate)\n",
    "latitude = mydataset['latitude']\n",
    "longitude = mydataset['longitude']\n",
    "\n",
    "plt.figure()\n",
    "ax = plt.axes(projection=ccrs.PlateCarree())\n",
    "ax.gridlines()\n",
    "ax.add_feature(cartopy.feature.LAND, linewidth=1, facecolor='lightgrey', edgecolor='k', zorder=1)\n",
    "ax.set_extent([lon_min, lon_max, lat_min, lat_max])\n",
    "# actually plot the data\n",
    "colormin=0. ; colormax=0.1\n",
    "colormesh = ax.pcolormesh(longitude, latitude, Err_mapping, vmin=colormin, vmax=colormax, cmap='RdYlBu_r')\n",
    "plt.colorbar(colormesh, ax=ax)\n",
    "plt.title('Formal mapping error', size=18)\n",
    "plt.show()"
   ]
  },
  {
   "cell_type": "markdown",
   "metadata": {},
   "source": [
    "In this plot, you can see some kind of ghost lines made by the lowest errors. \n",
    "Those are in fact the ground tracks overflown by the altimeter satellites. They are the places where the altimeters acquired measurements (and where those were considered valid by the validation processes). \n",
    "We will explore this more in depth in the second module."
   ]
  },
  {
   "cell_type": "markdown",
   "metadata": {},
   "source": [
    "<div class=\"alert alert-block alert-warning\">\n",
    "\n",
    "### This module in finished, so we close the file."
   ]
  },
  {
   "cell_type": "code",
   "execution_count": null,
   "metadata": {},
   "outputs": [],
   "source": [
    "mydataset.close()"
   ]
  },
  {
   "cell_type": "markdown",
   "metadata": {},
   "source": [
    "<div class=\"alert alert-block alert-success\">\n",
    "\n",
    "## Next Tutorial\n",
    "\n",
    "_Click on the hyperlink below to continue the training_\n",
    "\n",
    "[**08-SEALEVEL-02_sealevel-L3_uses.ipynb**](08-SEALEVEL-02_sealevel-L3_uses.ipynb)\n"
   ]
  }
 ],
 "metadata": {
  "kernelspec": {
   "display_name": "Python 3",
   "language": "python",
   "name": "python3"
  },
  "language_info": {
   "codemirror_mode": {
    "name": "ipython",
    "version": 3
   },
   "file_extension": ".py",
   "mimetype": "text/x-python",
   "name": "python",
   "nbconvert_exporter": "python",
   "pygments_lexer": "ipython3",
   "version": "3.7.3"
  }
 },
 "nbformat": 4,
 "nbformat_minor": 4
}
