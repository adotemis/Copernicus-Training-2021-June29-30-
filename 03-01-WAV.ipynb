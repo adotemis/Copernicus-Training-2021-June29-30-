{
 "cells": [
  {
   "cell_type": "markdown",
   "metadata": {},
   "source": [
    "![header](https://i.imgur.com/I4ake6d.jpg)"
   ]
  },
  {
   "cell_type": "markdown",
   "metadata": {},
   "source": [
    "# COPERNICUS MARINE WAVE ASIA TRAINING\n",
    "\n",
    "<div style=\"text-align: right\"><i> 03-01-WAV </i></div>\n",
    "\n",
    "***\n",
    "\n",
    "<center><h1>How to visualize maps of wave height and direction and generate the wave rose from long time series</h1></center>"
   ]
  },
  {
   "cell_type": "markdown",
   "metadata": {},
   "source": [
    "***\n",
    "**General Note 1**: Execute each cell through the <button class=\"btn btn-default btn-xs\"><i class=\"icon-play fa fa-play\"></i></button> button from the top MENU (or keyboard shortcut `Shift` + `Enter`).<br>\n",
    "<br>\n",
    "**General Note 2**: If, for any reason, the kernel is not working anymore, in the top MENU, click on the <button class=\"btn btn-default btn-xs\"><i class=\"fa fa-repeat icon-repeat\"></i></button> button. Then, in the top MENU, click on \"Cell\" and select \"Run All Above Selected Cell\".<br>\n",
    "***"
   ]
  },
  {
   "cell_type": "markdown",
   "metadata": {},
   "source": [
    "# Table of contents\n",
    "- [1. Introduction](#1.-Introduction)\n",
    "- [2. Exercise n.1: Plot of maps](#2.-Exercise-n.1:-Plot-of-maps)\n",
    "    - [2.1. About the data](#2.1.-About-the-data)\n",
    "    - [2.2. Download the data](#2.2.-Download-the-data)\n",
    "    - [2.3. The exercise](#2.3.-The-exercise)\n",
    "        - [2.3.1. Required Python version](#2.3.1.-Required-Python-version)\n",
    "        - [2.3.2. Required modules](#2.3.2.-Required-modules)\n",
    "        - [2.3.3. Import the modules](#2.3.3.-Import-the-modules)\n",
    "        - [2.3.4. Access the data](#2.3.4.-Access-the-data)\n",
    "        - [2.3.5. Set the configuration](#2.3.5.-Set-the-configuration)\n",
    "        - [2.3.6. Configure the variables for the plots](#2.3.6.-Configure-the-variables-for-the-plots)\n",
    "        - [2.3.7. Generate the maps](#2.3.7.-Generate-the-maps)\n",
    "- [3. Exercise n.2: Plot of wave rose](#3.-Exercise-n.2:-Plot-of-Wave-rose)\n",
    "    - [3.1. About the data](#3.1.-About-the-data)\n",
    "    - [3.2. Download the data](#3.2.-Download-the-data)\n",
    "    - [3.3. The exercise](#3.3.-The-exercise)\n",
    "        - [3.3.1. Required Python version](#3.3.1.-Required-Python-version)\n",
    "        - [3.3.2. Required modules](#3.3.2.-Required-modules)\n",
    "        - [3.3.3. Import the modules](#3.3.3.-Import-the-modules)\n",
    "        - [3.3.4. Access the data](#3.3.4.-Access-the-data)\n",
    "        - [3.3.5. Set the configuration](#3.3.5.-Set-the-configuration)\n",
    "        - [3.3.6. Plot the wind rose](#3.3.6.-Plot-the-wind-rose)\n",
    "        - [3.3.7. Look at the data](#3.3.7.-Look-at-the-data)\n",
    "        - [3.3.8. Save the data in csv file format](#3.3.8.-Save-the-data-in-csv-file-format)\n",
    "- [4. Conclusion](#4.-Conclusion)\n",
    "***"
   ]
  },
  {
   "cell_type": "markdown",
   "metadata": {},
   "source": [
    "# 1. Introduction"
   ]
  },
  {
   "cell_type": "markdown",
   "metadata": {},
   "source": [
    "[Go back to the \"Table of contents\"](#Table-of-contents)"
   ]
  },
  {
   "cell_type": "markdown",
   "metadata": {},
   "source": [
    "GLO-MFC wave analysis products are used to analyse and visualize wave characteristics. The user (e.g. coastal engineer, port authority, consultant) can easily visualize, for a predetermined region, wave variables  (e.g. `significant wave height` and `wave direction`) in 2D surface maps selecting simply the time range. \n",
    "\n",
    "The user can also  generate a `wave rose diagram`  which is a useful tool in wave climate,  for a specified  point. The wave rose uses `significant wave height` and `wave direction` data from a 10 years hindcast simulation. \n",
    "\n",
    "The diagram shows the percentage of the time that the waves occur from a particular direction (24 directional ranges - 15 deg each). Each spoke is broken down into color bands that show wave height ranges."
   ]
  },
  {
   "cell_type": "markdown",
   "metadata": {},
   "source": [
    "***"
   ]
  },
  {
   "cell_type": "markdown",
   "metadata": {},
   "source": [
    "# 2. Exercise n.1: Plot of maps"
   ]
  },
  {
   "cell_type": "markdown",
   "metadata": {},
   "source": [
    "[Go back to the \"Table of contents\"](#Table-of-contents)"
   ]
  },
  {
   "cell_type": "markdown",
   "metadata": {},
   "source": [
    "***"
   ]
  },
  {
   "cell_type": "markdown",
   "metadata": {},
   "source": [
    "## 2.1. About the data"
   ]
  },
  {
   "cell_type": "markdown",
   "metadata": {},
   "source": [
    "[Go back to the \"Table of contents\"](#Table-of-contents)"
   ]
  },
  {
   "cell_type": "markdown",
   "metadata": {},
   "source": [
    "## *Model description*\n",
    "\n",
    "This exercise is based on the product:"
   ]
  },
  {
   "cell_type": "markdown",
   "metadata": {},
   "source": [
    "### [GLOBAL_ANALYSIS_FORECAST_WAV_001_027](https://resources.marine.copernicus.eu/?option=com_csw&view=details&product_id=GLOBAL_ANALYSIS_FORECAST_WAV_001_027)"
   ]
  },
  {
   "cell_type": "markdown",
   "metadata": {},
   "source": [
    "The operational global ocean analysis and forecast system of Météo-France with a resolution of 1/12 degree is providing daily analyses and 10-day forecasts for the global ocean sea surface waves. This product includes 3-hourly instantaneous fields of integrated wave parameters from the total spectrum (significant height, period, direction, Stokes drift,...etc), as well as the following partitions: the wind wave, the primary and secondary swell waves.\n",
    "\n",
    "The global wave system of Météo-France is based on the wave model MFWAM which is a third generation wave model. MFWAM uses the computing code ECWAM-IFS-38R2 with a dissipation terms developed by Ardhuin et al. (2010). The model MFWAM was upgraded on november 2014 thanks to improvements obtained from the european research project « my wave » (Janssen et al. 2014). The model mean bathymetry is generated by using 2-minute gridded global topography data ETOPO2/NOAA. Native model grid is irregular with decreasing distance in the latitudinal direction close to the poles. At the equator, the distance in the latitudinal direction is more or less fixed with grid size 1/10°.\n",
    "\n",
    "The operational model MFWAM is driven by 6-hourly analysis and 3-hourly forecasted winds from the IFS-ECMWF atmospheric system. The wave spectrum is discretized in 24 directions and 30 frequencies starting from 0.035 Hz to 0.58 Hz. The model MFWAM uses the assimilation of altimeters with a time step of 6 hours. The global wave system provides analysis 4 times a day, and a forecast of 10 days at 0:00 UTC. The wave model MFWAM uses the partitioning to split the swell spectrum in primary and secondary swells.\n",
    "\n",
    "<img src=\"./img/GLOBAL_ANALYSIS_FORECAST_WAV_001_027_table.png\">"
   ]
  },
  {
   "cell_type": "markdown",
   "metadata": {},
   "source": [
    "## *Get more info on the product*\n",
    "\n",
    "1. You can find info on this product and access to the download services in the [dedicated Product Page on Copernicus Marine (CMEMS) Web portal](https://resources.marine.copernicus.eu/?option=com_csw&view=details&product_id=GLOBAL_ANALYSIS_FORECAST_WAV_001_027)\n",
    "<br><br>\n",
    "2. For **detailed information** about the product, please consult the **document**: [Product User Manual (PUM)](./docs/CMEMS-GLO-PUM-001-027.pdf)\n",
    "<br><br>\n",
    "3. For information about **the quality and validation** of the product, please consult the **document**: [Quality Information Document (QUID)](./docs/CMEMS-GLO-QUID-001-027.pdf)"
   ]
  },
  {
   "cell_type": "markdown",
   "metadata": {},
   "source": [
    "***"
   ]
  },
  {
   "cell_type": "markdown",
   "metadata": {},
   "source": [
    "# 2.2. Download the data"
   ]
  },
  {
   "cell_type": "markdown",
   "metadata": {},
   "source": [
    "[Go back to the \"Table of contents\"](#Table-of-contents)"
   ]
  },
  {
   "cell_type": "markdown",
   "metadata": {},
   "source": [
    "## *Parameters used for downloading the data*\n",
    "\n",
    "| Parameter | Value |\n",
    "| :---: | :---|\n",
    "| **Product** | GLOBAL_ANALYSIS_FORECAST_WAV_001_027 |\n",
    "| **Datasets** |global-analysis-forecast-wav-001-027 |\n",
    "| **Frequency** | 3-hourly-instantaneous |\n",
    "| **Lat min** | 5 |\n",
    "| **Lat max** | 50 |\n",
    "| **Lon min** | 100 |\n",
    "| **Lon max** | 160 |\n",
    "| **Timesteps** | from 2020-08-29 00:00:00 to 2020-09-05 00:00:00 |\n",
    "| **Variables** | VHM0, VMDR |\n",
    "| **Service for downloading** | SUBSETTER |\n",
    "| **Total dimension** | 100 MB |"
   ]
  },
  {
   "cell_type": "markdown",
   "metadata": {},
   "source": [
    "## How to download the products?\n",
    "\n",
    "If you need some help about the different services for downloading the CMEMS products, please check this [tutorial](\n",
    "https://help-cmems.mercator-ocean.fr/en/articles/4469993-how-to-download-copernicus-marine-data)"
   ]
  },
  {
   "cell_type": "markdown",
   "metadata": {},
   "source": [
    "<div class=\"alert alert-block alert-warning\">\n",
    "    <b>Get the CMEMS User credentials</b>\n",
    "<hr>\n",
    "The data are already available in this notebook. But if you want to download the data by yourself, please be sure to have by your CMEMS User credentials. Otherwise please get them <a href=\"http://marine.copernicus.eu/services-portfolio/register-now/\" target=\"_blank\">here</a>."
   ]
  },
  {
   "cell_type": "markdown",
   "metadata": {},
   "source": [
    "## Download with *motuclient*\n",
    "\n",
    "Data can be alternatively downloaded with **motuclient**, a multiplatform python script to automate extraction of information from the Marine Copernicus portal. To install motuclient:"
   ]
  },
  {
   "cell_type": "markdown",
   "metadata": {},
   "source": [
    "```\n",
    "!pip install motuclient\n",
    "```"
   ]
  },
  {
   "cell_type": "code",
   "execution_count": null,
   "metadata": {},
   "outputs": [],
   "source": []
  },
  {
   "cell_type": "markdown",
   "metadata": {},
   "source": [
    "To get more info on motuclient visit the related [web page](https://help-cmems.mercator-ocean.fr/en/articles/4796533-what-are-the-motu-client-motuclient-and-python-requirements)."
   ]
  },
  {
   "cell_type": "markdown",
   "metadata": {},
   "source": [
    "Using *motuclient* you'll be able to download data with the following command line. You have to copy this line to another cell for being execute (**NOTE:** don't forget to set username and password!):"
   ]
  },
  {
   "cell_type": "markdown",
   "metadata": {},
   "source": [
    "```\n",
    "!python -m motuclient --motu http://nrt.cmems-du.eu/motu-web/Motu --service-id GLOBAL_ANALYSIS_FORECAST_WAV_001_027-TDS --product-id global-analysis-forecast-wav-001-027 --longitude-min 100 --longitude-max 160 --latitude-min 5 --latitude-max 50 --date-min \"2020-08-29 00:00:00\" --date-max \"2020-09-05 00:00:00\" --variable VHM0 --out-dir data --out-name global-analysis-forecast-wav-001-027_ex1.nc --user <USERNAME> --pwd <PASSWORD>\n",
    "```"
   ]
  },
  {
   "cell_type": "code",
   "execution_count": null,
   "metadata": {},
   "outputs": [],
   "source": []
  },
  {
   "cell_type": "markdown",
   "metadata": {},
   "source": [
    "Check if the file has been created... "
   ]
  },
  {
   "cell_type": "code",
   "execution_count": null,
   "metadata": {},
   "outputs": [],
   "source": [
    "import os\n",
    "for filename in os.listdir('data'):\n",
    "    if filename.endswith(\".nc\"):\n",
    "        print(filename)"
   ]
  },
  {
   "cell_type": "markdown",
   "metadata": {},
   "source": [
    "***"
   ]
  },
  {
   "cell_type": "markdown",
   "metadata": {},
   "source": [
    "# 2.3. Exercise n.1: Maps of significant wave height"
   ]
  },
  {
   "cell_type": "markdown",
   "metadata": {},
   "source": [
    "[Go back to the \"Table of contents\"](#Table-of-contents)"
   ]
  },
  {
   "cell_type": "markdown",
   "metadata": {},
   "source": [
    "### 2.3.1. Required Python version\n",
    "[Go back to the \"Table of contents\"](#Table-of-contents)\n",
    "\n",
    "Install the needed Python modules (for local installation, can be skipped during Training)"
   ]
  },
  {
   "cell_type": "markdown",
   "metadata": {},
   "source": [
    "**Requirement: Python version 3.7.10**"
   ]
  },
  {
   "cell_type": "code",
   "execution_count": null,
   "metadata": {},
   "outputs": [],
   "source": [
    "!python --version"
   ]
  },
  {
   "cell_type": "markdown",
   "metadata": {},
   "source": [
    "If needed you can install the right Python version in this way:\n",
    "```\n",
    "conda install python=3.7.10\n",
    "```"
   ]
  },
  {
   "cell_type": "markdown",
   "metadata": {},
   "source": [
    "### 2.3.2. Required modules\n",
    "[Go back to the \"Table of contents\"](#Table-of-contents)"
   ]
  },
  {
   "cell_type": "markdown",
   "metadata": {},
   "source": [
    "| Module name | Description |\n",
    "| :---: | :---|\n",
    "| **os** | [ Miscellaneous operating system interfaces](https://docs.python.org/3.7/library/os.html) for managing paths, creating directories,... |\n",
    "| **numpy** | [NumPy](https://numpy.org/) is the fundamental package for scientific computing with Python and for managing ND-arrays |\n",
    "| **xarray** | [Xarray](http://xarray.pydata.org/en/stable/) introduces labels in the form of dimensions, coordinates and attributes on top of raw NumPy-like arrays, which allows for a more intuitive, more concise, and less error-prone developer experience. |\n",
    "| **matplotlib** |[Matplotlib](https://matplotlib.org/) is a Python 2D plotting library which produces publication quality figures |\n",
    "| **basemap** |[The matplotlib basemap toolkit](https://matplotlib.org/basemap/) is a library for plotting 2D data on maps in Python. |\n",
    "| **datetime** |[The datetime module](https://docs.python.org/3.8/library/datetime.html) supplies classes for manipulating dates and times in both simple and complex ways. |"
   ]
  },
  {
   "cell_type": "markdown",
   "metadata": {},
   "source": [
    "If you are using the standard *Anaconda3* installation, you can install the needed modules executing the following command in the following cell:\n",
    "```\n",
    "conda install numpy=1.19.2 numpy-base=1.19.2 xarray=0.17.0 matplotlib=3.2.2 matplotlib-base=3.2.2 basemap=1.2.0 basemap-data-hires=1.2.0 netcdf4=1.5.6 basemap-data-hires=1.2.0 geos=3.6.2 proj4=5.2.0 pyproj=1.9.6 pyshp=2.1.3 \n",
    "```"
   ]
  },
  {
   "cell_type": "markdown",
   "metadata": {},
   "source": [
    "### 2.3.3. Import the modules\n",
    "[Go back to the \"Table of contents\"](#Table-of-contents)"
   ]
  },
  {
   "cell_type": "markdown",
   "metadata": {},
   "source": [
    "For avoiding the warning messages during the execution and installation process, at first remove them:"
   ]
  },
  {
   "cell_type": "code",
   "execution_count": null,
   "metadata": {},
   "outputs": [],
   "source": [
    "import warnings\n",
    "warnings.filterwarnings('ignore')"
   ]
  },
  {
   "cell_type": "code",
   "execution_count": null,
   "metadata": {},
   "outputs": [],
   "source": [
    "import os\n",
    "import numpy as np\n",
    "import xarray as xr\n",
    "import matplotlib.pyplot as plt\n",
    "from mpl_toolkits.basemap import Basemap\n",
    "import datetime"
   ]
  },
  {
   "cell_type": "markdown",
   "metadata": {},
   "source": [
    "*Don't change the following constants, which define the training and the notebook codes*:"
   ]
  },
  {
   "cell_type": "code",
   "execution_count": null,
   "metadata": {},
   "outputs": [],
   "source": [
    "REGION_CODE = \"01\"\n",
    "NB_CODE = \"03\""
   ]
  },
  {
   "cell_type": "markdown",
   "metadata": {},
   "source": [
    "**checkDir**: function for creating a path, if needed"
   ]
  },
  {
   "cell_type": "code",
   "execution_count": null,
   "metadata": {},
   "outputs": [],
   "source": [
    "def checkDir(outPath):\n",
    "    if not os.path.exists(outPath):\n",
    "        os.makedirs(outPath)"
   ]
  },
  {
   "cell_type": "markdown",
   "metadata": {},
   "source": [
    "**getRangeIndexes**: function for getting the indexes of the array *arr* between the *var_min* and *var_max* values:"
   ]
  },
  {
   "cell_type": "code",
   "execution_count": null,
   "metadata": {},
   "outputs": [],
   "source": [
    "def getRangeIndexes(arr, var_min, var_max):\n",
    "    return np.where((arr >= var_min) & (arr <= var_max))[0]"
   ]
  },
  {
   "cell_type": "markdown",
   "metadata": {},
   "source": [
    "**decompose_wind_direction**: function to decompose the direction in degree in u and v components:"
   ]
  },
  {
   "cell_type": "code",
   "execution_count": null,
   "metadata": {},
   "outputs": [],
   "source": [
    "def decompose_wind_direction(wdir_deg):\n",
    "    \"\"\"generate the u/v rectangular components from wind directions\n",
    "    \"\"\"\n",
    "    wdir_rad = wdir_deg * np.pi / 180\n",
    "    u = -np.sin(wdir_rad)\n",
    "    v = -np.cos(wdir_rad)\n",
    "    return u, v"
   ]
  },
  {
   "cell_type": "markdown",
   "metadata": {},
   "source": [
    "Set the paths:"
   ]
  },
  {
   "cell_type": "code",
   "execution_count": null,
   "metadata": {},
   "outputs": [],
   "source": [
    "# Path for netcdf files\n",
    "data_path = './data'\n",
    "# Path for the output files (images, etc)\n",
    "out_path = './out/'+REGION_CODE+'-'+NB_CODE"
   ]
  },
  {
   "cell_type": "code",
   "execution_count": null,
   "metadata": {},
   "outputs": [],
   "source": [
    "# Create directories\n",
    "checkDir(data_path)\n",
    "checkDir(out_path)"
   ]
  },
  {
   "cell_type": "markdown",
   "metadata": {},
   "source": [
    "Check if the new directories have been created... "
   ]
  },
  {
   "cell_type": "code",
   "execution_count": null,
   "metadata": {},
   "outputs": [],
   "source": [
    "for filename in os.listdir('.'):\n",
    "    print(filename)"
   ]
  },
  {
   "cell_type": "markdown",
   "metadata": {},
   "source": [
    "... and if the data files are available:"
   ]
  },
  {
   "cell_type": "code",
   "execution_count": null,
   "metadata": {},
   "outputs": [],
   "source": [
    "for filename in os.listdir(data_path):\n",
    "    if filename.endswith(\".nc\"):\n",
    "        print(filename) "
   ]
  },
  {
   "cell_type": "markdown",
   "metadata": {},
   "source": [
    "### 2.3.4. Access the data\n",
    "[Go back to the \"Table of contents\"](#Table-of-contents)"
   ]
  },
  {
   "cell_type": "code",
   "execution_count": null,
   "metadata": {},
   "outputs": [],
   "source": [
    "# Input netcdf file\n",
    "\n",
    "# 3-hourly instantaneous of 29 August-4 September 2020 \n",
    "wav_f = \"global-analysis-forecast-wav-001-027_ex1.nc\"\n",
    "\n",
    "# Build the complete nc path\n",
    "wav_nc = os.path.join(data_path, wav_f)"
   ]
  },
  {
   "cell_type": "code",
   "execution_count": null,
   "metadata": {},
   "outputs": [],
   "source": [
    "# Open the nc dataset\n",
    "wav_ds = xr.open_dataset(wav_nc)"
   ]
  },
  {
   "cell_type": "markdown",
   "metadata": {},
   "source": [
    "<div class=\"alert alert-block alert-info\">\n",
    "<b>TIP</b>\n",
    "\n",
    "***\n",
    "Get info about the dataset for \"Wave fields\": write the name of wave dataset (wav_ds) and press return.\n",
    "</div> "
   ]
  },
  {
   "cell_type": "code",
   "execution_count": null,
   "metadata": {},
   "outputs": [],
   "source": [
    "wav_ds"
   ]
  },
  {
   "cell_type": "markdown",
   "metadata": {},
   "source": [
    "And about the variables:"
   ]
  },
  {
   "cell_type": "code",
   "execution_count": null,
   "metadata": {},
   "outputs": [],
   "source": [
    "wav_ds.data_vars"
   ]
  },
  {
   "cell_type": "markdown",
   "metadata": {},
   "source": [
    "... the coordinates:"
   ]
  },
  {
   "cell_type": "code",
   "execution_count": null,
   "metadata": {},
   "outputs": [],
   "source": [
    "wav_ds.coords"
   ]
  },
  {
   "cell_type": "markdown",
   "metadata": {},
   "source": [
    "### 2.3.5. Set the configuration\n",
    "[Go back to the \"Table of contents\"](#Table-of-contents)"
   ]
  },
  {
   "cell_type": "markdown",
   "metadata": {},
   "source": [
    "Let's check the coordinates names in the cells above (check the ***ds.coords*** outputs) and set the correct variables below:"
   ]
  },
  {
   "cell_type": "code",
   "execution_count": null,
   "metadata": {},
   "outputs": [],
   "source": [
    "# Set the coordinate names (used later for accessing the data)\n",
    "lon_name = \"longitude\"\n",
    "lat_name = \"latitude\"\n",
    "time_name = \"time\"\n",
    "depth_name = \"depth\" # not used in this case"
   ]
  },
  {
   "cell_type": "markdown",
   "metadata": {},
   "source": [
    "Do the same for the variables names (check the ***ds.data_vars*** outputs): "
   ]
  },
  {
   "cell_type": "code",
   "execution_count": null,
   "metadata": {},
   "outputs": [],
   "source": [
    "# Set the variable names\n",
    "hs_name = \"VHM0\" # wave height\n",
    "wdir_name = \"VMDR\" # wave direction"
   ]
  },
  {
   "cell_type": "markdown",
   "metadata": {},
   "source": [
    "### 2.3.6. Configure the variables for the plots\n",
    "[Go back to the \"Table of contents\"](#Table-of-contents)"
   ]
  },
  {
   "cell_type": "code",
   "execution_count": null,
   "metadata": {},
   "outputs": [],
   "source": [
    "# Data to plot\n",
    "var_sel = wav_ds[hs_name]\n",
    "# Data to plot for directions\n",
    "var_sel_dir = wav_ds[wdir_name]\n",
    "\n",
    "# --- Set up the arrays of coordinates for the selected dataset ---\n",
    "# \n",
    "lats = var_sel[lat_name]\n",
    "lons = var_sel[lon_name]\n",
    "times = var_sel[time_name]\n",
    "\n",
    "# This is not the case: it is not a 3D dataset\n",
    "dataset_3D = False\n",
    "if depth_name in var_sel.coords:\n",
    "    dataset_3D = True"
   ]
  },
  {
   "cell_type": "markdown",
   "metadata": {},
   "source": [
    "Set the limits for the area: choose the min and max values for the coordinates (and comment with the symbol # the unnecessary ones!):  "
   ]
  },
  {
   "cell_type": "code",
   "execution_count": null,
   "metadata": {},
   "outputs": [],
   "source": [
    "# Set lat-lon limits - FULL AREA\n",
    "lat_min = lats.min()\n",
    "lat_max = lats.max()\n",
    "lon_min = lons.min()\n",
    "lon_max = lons.max()\n",
    "\n",
    "# # Set lat-lon limits - CUSTOM AREA\n",
    "# lon_min = 100\n",
    "# lon_max = 120\n",
    "# lat_min = 5\n",
    "# lat_max = 25"
   ]
  },
  {
   "cell_type": "markdown",
   "metadata": {},
   "source": [
    "Set the variable's min and max values for the plot and the colorbar (otherwise assign None):"
   ]
  },
  {
   "cell_type": "code",
   "execution_count": null,
   "metadata": {},
   "outputs": [],
   "source": [
    "min_value, max_value = None, 15\n",
    "#min_value, max_value = 0, 10\n",
    "\n",
    "# Skip points for the vectors of directions\n",
    "skip_points = 20 # for wider areas\n",
    "# skip_points = 5 # for narrow areas"
   ]
  },
  {
   "cell_type": "markdown",
   "metadata": {},
   "source": [
    "Set the time period:"
   ]
  },
  {
   "cell_type": "code",
   "execution_count": null,
   "metadata": {},
   "outputs": [],
   "source": [
    "start_date = np.datetime64(datetime.datetime(2020,8,28,0))\n",
    "end_date = np.datetime64(datetime.datetime(2020,9,5,0)) # last time step"
   ]
  },
  {
   "cell_type": "markdown",
   "metadata": {},
   "source": [
    "Filter the timesteps:"
   ]
  },
  {
   "cell_type": "code",
   "execution_count": null,
   "metadata": {},
   "outputs": [],
   "source": [
    "# hours_step = 1 # take the values every 3 hours\n",
    "hours_step = 2 # take the values every 6 hours"
   ]
  },
  {
   "cell_type": "markdown",
   "metadata": {},
   "source": [
    "### 2.3.7. Generate the maps\n",
    "[Go back to the \"Table of contents\"](#Table-of-contents)"
   ]
  },
  {
   "cell_type": "code",
   "execution_count": null,
   "metadata": {
    "tags": []
   },
   "outputs": [],
   "source": [
    "# Plot configuration\n",
    "width_inch = 16\n",
    "height_inch = 8\n",
    "\n",
    "# Map configuration\n",
    "map_config = { \n",
    "#     \"projection\": \"merc\",\n",
    "    \"llcrnrlat\": lat_min,\n",
    "    \"llcrnrlon\": lon_min,\n",
    "    \"urcrnrlat\": lat_max,\n",
    "    \"urcrnrlon\": lon_max,\n",
    "    \"resolution\": 'i',\n",
    "    \"epsg\": 4326\n",
    "}\n",
    "\n",
    "# Axes labels\n",
    "fontsize = 14\n",
    "xlabel = 'longitude [deg]'\n",
    "ylabel = 'latitude [deg]'\n",
    "xlabelpad = 30\n",
    "ylabelpad = 60\n",
    "\n",
    "# Colorbar configuration\n",
    "cmap = \"jet\"\n",
    "cbar_position = \"right\"\n",
    "\n",
    "title_fontstyle = {\n",
    "    \"fontsize\": \"14\",\n",
    "    \"fontstyle\": \"italic\",\n",
    "    \"fontweight\": \"bold\",\n",
    "    \"pad\": 30\n",
    "}\n",
    "\n",
    "label_fontstyle = {\n",
    "    \"fontsize\": \"12\",\n",
    "    \"labelpad\": 30\n",
    "}\n",
    "\n",
    "# Set the coordinates indexes\n",
    "lat_indexes = getRangeIndexes(lats, lat_min, lat_max)\n",
    "lon_indexes = getRangeIndexes(lons, lon_min, lon_max)\n",
    "time_indexes = getRangeIndexes(times, start_date, end_date)\n",
    "depth_indexes = [0] # surface\n",
    "\n",
    "# Get the selected coordinates:\n",
    "lats_sel = lats[lat_indexes]\n",
    "lons_sel = lons[lon_indexes]\n",
    "# times_sel = times[time_indexes]\n",
    "\n",
    "# Filter the timesteps\n",
    "time_indexes = time_indexes[0:-1:hours_step]\n",
    "\n",
    "for t in time_indexes:\n",
    " \n",
    "    timestep = np.datetime_as_string(times[t],'h')\n",
    "    \n",
    "    if dataset_3D:\n",
    "        data = var_sel[t, d, lat_indexes, lon_indexes]\n",
    "    else: \n",
    "        data = var_sel[t, lat_indexes, lon_indexes]\n",
    "\n",
    "    plt.figure(figsize=(width_inch, height_inch))\n",
    "\n",
    "    map = Basemap(**map_config)\n",
    "\n",
    "    ## contour fill\n",
    "    min_value = data.min() if min_value is None else min_value\n",
    "    max_value = data.max() if max_value is None else max_value\n",
    "    step_value = 0.5\n",
    "    contour_levels = np.arange(min_value, max_value, step_value)\n",
    "    # map.contourf(xx, yy, data, contour_levels, cmap=cmap)\n",
    "\n",
    "    ## pcolormesh\n",
    "    x = np.linspace(0, map.urcrnrx, data.shape[1])\n",
    "    y = np.linspace(0, map.urcrnry, data.shape[0])\n",
    "    \n",
    "    xx, yy = np.meshgrid(lons_sel, lats_sel)\n",
    "    \n",
    "#     colormesh = map.pcolormesh(xx, yy, data, cmap=cmap)\n",
    "    colormesh = map.pcolormesh(xx, yy, data, vmin=min_value, vmax=max_value, cmap=cmap)\n",
    "    \n",
    "    # --- plot directions ---\n",
    "    u, v = decompose_wind_direction(var_sel_dir[t, lat_indexes, lon_indexes])\n",
    "    \n",
    "    u_skip = u[::skip_points, ::skip_points]\n",
    "    v_skip = v[::skip_points, ::skip_points]\n",
    "    xx_skip = xx[::skip_points, ::skip_points]\n",
    "    yy_skip = yy[::skip_points, ::skip_points]\n",
    "    map.quiver(xx_skip, yy_skip, u_skip, v_skip, scale=40)\n",
    "    \n",
    "    \n",
    "    ## draw meridians and parallels\n",
    "    step_lat = float((lat_max - lat_min) / 5)\n",
    "    step_lon = float((lon_max - lon_min) / 5)\n",
    "\n",
    "    parallels = np.arange(lat_min, lat_max, step_lat)\n",
    "    meridians = np.arange(lon_min, lon_max, step_lon) \n",
    "\n",
    "    map.drawmeridians(meridians, labels=[0,0,0,1], fmt=\"%2.1f\")\n",
    "    map.drawparallels(parallels, labels=[1,0,0,0], fmt=\"%2.1f\")\n",
    "\n",
    "    ## draw colorbar\n",
    "    map.colorbar(colormesh, cbar_position)\n",
    "\n",
    "    ## draw countries...\n",
    "    map.drawcountries(linewidth=0.25, color='olive')\n",
    "    map.fillcontinents(color='lightgray',lake_color='aqua')\n",
    "\n",
    "    ## ... or draw the world using data from different providers (comment the previous lines!)\n",
    "#     map.arcgisimage(service='World_Shaded_Relief', xpixels = 1500, verbose=False)\n",
    "#     map.arcgisimage(service='ESRI_Imagery_World_2D', xpixels = 1500, verbose=False) \n",
    "#     map.bluemarble()\n",
    "#     map.etopo()\n",
    "#     map.shadedrelief()\n",
    "\n",
    "    # set title\n",
    "    title_sel = data.long_name\n",
    "    timestep = np.datetime_as_string(times[t],'h')\n",
    "    var_str = \"{} [{}]\".format(title_sel, data.units)\n",
    "    if dataset_3D:\n",
    "        depth_str = \"{:.2f}{}\".format(float(data[depth_name]), \"[m]\")\n",
    "        title = ' - '.join((var_str, timestep, depth_str))\n",
    "    else:\n",
    "        title = ' - '.join((var_str, timestep))\n",
    "    \n",
    "    ## draw title and axes labels\n",
    "    plt.title(title, **title_fontstyle)\n",
    "    plt.xlabel(xlabel, labelpad=xlabelpad, fontsize=12)\n",
    "    plt.ylabel(ylabel, labelpad=ylabelpad, fontsize=12)    \n",
    "    \n",
    "    # output file\n",
    "    output_file = os.path.join(out_path,title.replace(' ','_')) + \".png\"\n",
    "\n",
    "    # save the output file\n",
    "    plt.savefig(output_file)\n",
    "\n",
    "    plt.show()\n",
    "\n",
    "    plt.close()"
   ]
  },
  {
   "cell_type": "markdown",
   "metadata": {},
   "source": [
    "If you can't see easily the maps, you can disable the scrolling. \n",
    "Choose the previous cell (that with the maps), then select in the menu: **Cell &rarr; Current Output &rarr; Toggle Scrolling**"
   ]
  },
  {
   "cell_type": "markdown",
   "metadata": {},
   "source": [
    "<div class=\"alert alert-block alert-warning\">\n",
    "\n",
    "### LET'S TRY: Change the plot!\n",
    "\n",
    "If you want, you can change the above plot.\n",
    "\n",
    "For example, you could:\n",
    "- change the area (remember to change the *skip_points* too!)\n",
    "- change the min/max values for the choosen variable\n",
    "- change start and end time \n",
    "- change the hours step\n",
    "\n",
    "Go back to [Configure the variables for the plots](#Configure-the-variables-for-the-plots) and then re-execute the cell for generating the plot. Try!"
   ]
  },
  {
   "cell_type": "markdown",
   "metadata": {},
   "source": [
    "[Go back to the \"Table of contents\"](#Table-of-contents)"
   ]
  },
  {
   "cell_type": "markdown",
   "metadata": {},
   "source": [
    "***"
   ]
  },
  {
   "cell_type": "markdown",
   "metadata": {},
   "source": [
    "# 3. Exercise n.2: Plot of Wave rose\n",
    "[Go back to the \"Table of contents\"](#Table-of-contents)"
   ]
  },
  {
   "cell_type": "markdown",
   "metadata": {},
   "source": [
    "***"
   ]
  },
  {
   "cell_type": "markdown",
   "metadata": {},
   "source": [
    "# 3.1. About the data"
   ]
  },
  {
   "cell_type": "markdown",
   "metadata": {},
   "source": [
    "[Go back to the \"Table of contents\"](#Table-of-contents)"
   ]
  },
  {
   "cell_type": "markdown",
   "metadata": {},
   "source": [
    "## *Model description*\n",
    "\n",
    "This exercise is based on the product:"
   ]
  },
  {
   "cell_type": "markdown",
   "metadata": {},
   "source": [
    "### [GLOBAL_REANALYSIS_WAV_001_032](https://resources.marine.copernicus.eu/?option=com_csw&view=details&product_id=GLOBAL_REANALYSIS_WAV_001_032)"
   ]
  },
  {
   "cell_type": "markdown",
   "metadata": {},
   "source": [
    "GLOBAL_REANALYSIS_WAV_001_032 for the global wave reanalysis describing past sea states since years 1993. This product also bears the name of WAVERYS within the GLO-HR MFC. for correspondence to other global multi-year products like GLORYS. BIORYS. etc. \n",
    "\n",
    "The core of WAVERYS is based on the MFWAM model. a third generation wave model that calculates the wave spectrum. i.e. the distribution of sea state energy in frequency and direction on a 1/5° irregular grid. Average wave quantities derived from this wave spectrum. such as the SWH (significant wave height) or the average wave period. are delivered on a regular 1/5° grid with a 3h time step. \n",
    "\n",
    "The wave spectrum is discretized into 30 frequencies obtained from a geometric sequence of first member 0.035 Hz and a reason 7.5. WAVERYS takes into account oceanic currents from the GLORYS12 physical ocean reanalysis and assimilates significant wave height observed from historical altimetry missions and directional wave spectra from Sentinel 1 SAR from 2017 onwards.\n",
    "\n",
    "<img src=\"./img/GLOBAL_REANALYSIS_WAV_001_032_table.png\">"
   ]
  },
  {
   "cell_type": "markdown",
   "metadata": {},
   "source": [
    "## Parameters used for downloading the data\n",
    "\n",
    "| Parameter | Value |\n",
    "| :---: | :---|\n",
    "| **Product** | GLOBAL_REANALYSIS_WAV_001_032 |\n",
    "| **Datasets** |global_reanalysis_wav_001_032 |\n",
    "| **Frequency** | 3-hourly-instantaneus |\n",
    "| **Lat min** | -8 |\n",
    "| **Lat max** | -4 |\n",
    "| **Lon min** | 100 |\n",
    "| **Lon max** | 104 |\n",
    "| **Timesteps** | from 2009-01-01 00:00:00 to 2019-12-31 21:00:00 |\n",
    "| **Variables** | VHM0, VMDR |\n",
    "| **Service for downloading** | SUBSETTER |\n",
    "| **Total dimension** | 50 MB |"
   ]
  },
  {
   "cell_type": "markdown",
   "metadata": {},
   "source": [
    "## How to download the products?\n",
    "\n",
    "If you need some help about the different services for downloading the CMEMS products, please check this [tutorial](\n",
    "https://help-cmems.mercator-ocean.fr/en/articles/4469993-how-to-download-copernicus-marine-data)"
   ]
  },
  {
   "cell_type": "markdown",
   "metadata": {},
   "source": [
    "<div class=\"alert alert-block alert-warning\">\n",
    "    <b>Get the CMEMS User credentials</b>\n",
    "<hr>\n",
    "The data are already available in this notebook. But if you want to download the data by yourself, please be sure to have by your CMEMS User credentials. Otherwise please get them <a href=\"http://marine.copernicus.eu/services-portfolio/register-now/\" target=\"_blank\">here</a>."
   ]
  },
  {
   "cell_type": "markdown",
   "metadata": {},
   "source": [
    "## Download with *motuclient*\n",
    "\n",
    "Data can be alternatively downloaded with **motuclient**, a multiplatform python script to automate extraction of information from the Marine Copernicus portal. To install motuclient:"
   ]
  },
  {
   "cell_type": "markdown",
   "metadata": {},
   "source": [
    "```\n",
    "!pip install motuclient\n",
    "```"
   ]
  },
  {
   "cell_type": "code",
   "execution_count": null,
   "metadata": {},
   "outputs": [],
   "source": []
  },
  {
   "cell_type": "markdown",
   "metadata": {},
   "source": [
    "To get more info on motuclient visit the related [web page](https://help-cmems.mercator-ocean.fr/en/articles/4796533-what-are-the-motu-client-motuclient-and-python-requirements)."
   ]
  },
  {
   "cell_type": "markdown",
   "metadata": {},
   "source": [
    "Using *motuclient* you'll be able to download data with the following command line. You have to copy this line to another cell for being execute (**NOTE:** don't forget to set username and password!):"
   ]
  },
  {
   "cell_type": "markdown",
   "metadata": {},
   "source": [
    "```\n",
    "!python -m motuclient --motu http://my.cmems-du.eu/motu-web/Motu --service-id GLOBAL_REANALYSIS_WAV_001_032-TDS --product-id global-reanalysis-wav-001-032 --longitude-min 100 --longitude-max 104 --latitude-min -8 --latitude-max -4 --date-min \"2009-01-01 00:00:00\" --date-max \"2019-12-31 21:00:00\" --variable VHM0 --variable VMDR --out-dir  data --out-name global-reanalysis-wav-001-032_ex2.nc --user <USERNAME> --pwd <PASSWORD>\n",
    "```"
   ]
  },
  {
   "cell_type": "markdown",
   "metadata": {},
   "source": [
    "Check if the file has been created... "
   ]
  },
  {
   "cell_type": "code",
   "execution_count": null,
   "metadata": {},
   "outputs": [],
   "source": [
    "import os\n",
    "for filename in os.listdir('data'):\n",
    "    if filename.endswith(\".nc\"):\n",
    "        print(filename)"
   ]
  },
  {
   "cell_type": "markdown",
   "metadata": {},
   "source": [
    "***"
   ]
  },
  {
   "cell_type": "markdown",
   "metadata": {},
   "source": [
    "# 3.3. The exercise"
   ]
  },
  {
   "cell_type": "markdown",
   "metadata": {},
   "source": [
    "[Go back to the \"Table of contents\"](#Table-of-contents)"
   ]
  },
  {
   "cell_type": "markdown",
   "metadata": {},
   "source": [
    "### 3.3.1. Required Python version\n",
    "[Go back to the \"Table of contents\"](#Table-of-contents)\n",
    "\n",
    "Install the needed Python modules (for local installation, can be skipped during Training)"
   ]
  },
  {
   "cell_type": "markdown",
   "metadata": {},
   "source": [
    "**Requirement: Python version 3.7.10**"
   ]
  },
  {
   "cell_type": "markdown",
   "metadata": {},
   "source": [
    "Check your Python version:"
   ]
  },
  {
   "cell_type": "code",
   "execution_count": null,
   "metadata": {},
   "outputs": [],
   "source": [
    "!python --version"
   ]
  },
  {
   "cell_type": "markdown",
   "metadata": {},
   "source": [
    "If needed you can install the right Python version in this way:\n",
    "```\n",
    "conda install python=3.7.10\n",
    "```"
   ]
  },
  {
   "cell_type": "markdown",
   "metadata": {},
   "source": [
    "### 3.3.2. Required modules\n",
    "[Go back to the \"Table of contents\"](#Table-of-contents)"
   ]
  },
  {
   "cell_type": "markdown",
   "metadata": {},
   "source": [
    "| Module name | Description |\n",
    "| :---: | :---|\n",
    "| **os** | [ Miscellaneous operating system interfaces](https://docs.python.org/3.7/library/os.html) for managing paths, creating directories,... |\n",
    "| **numpy** | [NumPy](https://numpy.org/) is the fundamental package for scientific computing with Python and for managing ND-arrays |\n",
    "| **xarray** | [Xarray](http://xarray.pydata.org/en/stable/) introduces labels in the form of dimensions, coordinates and attributes on top of raw NumPy-like arrays, which allows for a more intuitive, more concise, and less error-prone developer experience. |\n",
    "| **matplotlib** |[Matplotlib](https://matplotlib.org/) is a Python 2D plotting library which produces publication quality figures |\n",
    "| **basemap** |[The matplotlib basemap toolkit](https://matplotlib.org/basemap/) is a library for plotting 2D data on maps in Python. |\n",
    "| **datetime** |[The datetime module](https://docs.python.org/3.8/library/datetime.html) supplies classes for manipulating dates and times in both simple and complex ways. |\n",
    "| **pandas** |[pandas](https://pandas.pydata.org/) is a library providing high-performance, easy-to-use data structures and data analysis tools for Python |\n",
    "| **windrose** | see the description below the table |"
   ]
  },
  {
   "cell_type": "markdown",
   "metadata": {},
   "source": [
    "The most important module used here is **windrose**.\n",
    "\n",
    "A wind rose is a graphic tool used by meteorologists to give a succinct view of how wind speed and direction are typically distributed at a particular location. It can also be used to describe air quality pollution sources. The wind rose tool uses Matplotlib as a backend. Data can be passed to the package using Numpy arrays or a Pandas DataFrame.\n",
    "\n",
    "[Windrose](https://github.com/python-windrose/windrose/) is a Python library to manage wind data, draw windroses (also known as polar rose plots), and fit Weibull probability density functions.\n",
    "\n",
    "[Documentation on windrose](https://windrose.readthedocs.io/en/latest/)"
   ]
  },
  {
   "cell_type": "markdown",
   "metadata": {},
   "source": [
    "If you are using the standard *Anaconda3* installation, you can install the needed modules executing the following command in the following cell:\n",
    "```\n",
    "conda install numpy=1.19.2 numpy-base=1.19.2 xarray=0.17.0 matplotlib=3.2.2 matplotlib-base=3.2.2 basemap=1.2.0 basemap-data-hires=1.2.0 netcdf4=1.5.6 basemap-data-hires=1.2.0 geos=3.6.2 proj4=5.2.0 pyproj=1.9.6 pyshp=2.1.3 \n",
    "```"
   ]
  },
  {
   "cell_type": "markdown",
   "metadata": {},
   "source": [
    "And now install the **windrose** package which belongs to the channel **conda-forge**:\n",
    "```\n",
    "conda install -c conda-forge windrose\n",
    "```"
   ]
  },
  {
   "cell_type": "markdown",
   "metadata": {},
   "source": [
    "### 3.3.3. Import the modules\n",
    "[Go back to the \"Table of contents\"](#Table-of-contents)"
   ]
  },
  {
   "cell_type": "markdown",
   "metadata": {},
   "source": [
    "For avoiding the warning messages during the execution and installation process, at first remove them:"
   ]
  },
  {
   "cell_type": "code",
   "execution_count": null,
   "metadata": {},
   "outputs": [],
   "source": [
    "import warnings\n",
    "warnings.filterwarnings('ignore')"
   ]
  },
  {
   "cell_type": "code",
   "execution_count": null,
   "metadata": {},
   "outputs": [],
   "source": [
    "import os\n",
    "import numpy as np\n",
    "import xarray as xr\n",
    "import matplotlib.pyplot as plt\n",
    "from mpl_toolkits.basemap import Basemap\n",
    "import datetime"
   ]
  },
  {
   "cell_type": "code",
   "execution_count": null,
   "metadata": {},
   "outputs": [],
   "source": [
    "import windrose\n",
    "import pandas as pd"
   ]
  },
  {
   "cell_type": "markdown",
   "metadata": {},
   "source": [
    "*Don't change the following constants, which define the training and the notebook codes*:"
   ]
  },
  {
   "cell_type": "code",
   "execution_count": null,
   "metadata": {},
   "outputs": [],
   "source": [
    "REGION_CODE = \"01\"\n",
    "NB_CODE = \"03\""
   ]
  },
  {
   "cell_type": "markdown",
   "metadata": {},
   "source": [
    "**checkDir**: function for creating a path, if needed"
   ]
  },
  {
   "cell_type": "code",
   "execution_count": null,
   "metadata": {},
   "outputs": [],
   "source": [
    "def checkDir(outPath):\n",
    "    if not os.path.exists(outPath):\n",
    "        os.makedirs(outPath)"
   ]
  },
  {
   "cell_type": "markdown",
   "metadata": {},
   "source": [
    "**getRangeIndexes**: function for getting the indexes of the array *arr* between the *var_min* and *var_max* values:"
   ]
  },
  {
   "cell_type": "code",
   "execution_count": null,
   "metadata": {},
   "outputs": [],
   "source": [
    "def getRangeIndexes(arr, var_min, var_max):\n",
    "    return np.where((arr >= var_min) & (arr <= var_max))[0]"
   ]
  },
  {
   "cell_type": "markdown",
   "metadata": {},
   "source": [
    "Set the paths:"
   ]
  },
  {
   "cell_type": "code",
   "execution_count": null,
   "metadata": {},
   "outputs": [],
   "source": [
    "# Path for netcdf files\n",
    "data_path = './data'\n",
    "# Path for the output files (images, etc)\n",
    "out_path = './out/'+REGION_CODE+'-'+NB_CODE"
   ]
  },
  {
   "cell_type": "code",
   "execution_count": null,
   "metadata": {},
   "outputs": [],
   "source": [
    "# Create directories\n",
    "checkDir(data_path)\n",
    "checkDir(out_path)"
   ]
  },
  {
   "cell_type": "markdown",
   "metadata": {},
   "source": [
    "Check if the new directories have been created... "
   ]
  },
  {
   "cell_type": "code",
   "execution_count": null,
   "metadata": {},
   "outputs": [],
   "source": [
    "for filename in os.listdir('.'):\n",
    "    print(filename)"
   ]
  },
  {
   "cell_type": "markdown",
   "metadata": {},
   "source": [
    "... and if the data files are available:"
   ]
  },
  {
   "cell_type": "code",
   "execution_count": null,
   "metadata": {},
   "outputs": [],
   "source": [
    "for filename in os.listdir(data_path):\n",
    "    if filename.endswith(\".nc\"):\n",
    "        print(filename) "
   ]
  },
  {
   "cell_type": "markdown",
   "metadata": {},
   "source": [
    "### 3.3.4. Access the data\n",
    "[Go back to the \"Table of contents\"](#Table-of-contents)"
   ]
  },
  {
   "cell_type": "code",
   "execution_count": null,
   "metadata": {},
   "outputs": [],
   "source": [
    "# Input netcdf file\n",
    "\n",
    "# 3-hourly instantaneous from 2019-01-01 to 2021-05-01 \n",
    "wav_f = \"global-reanalysis-wav-001-032_ex2.nc\"\n",
    "\n",
    "# Build the complete nc path\n",
    "wav_nc = os.path.join(data_path, wav_f)"
   ]
  },
  {
   "cell_type": "code",
   "execution_count": null,
   "metadata": {},
   "outputs": [],
   "source": [
    "# Open the nc dataset\n",
    "wav_ds = xr.open_dataset(wav_nc)"
   ]
  },
  {
   "cell_type": "markdown",
   "metadata": {},
   "source": [
    "<div class=\"alert alert-block alert-info\">\n",
    "<b>TIP</b>\n",
    "\n",
    "***\n",
    "Get info about the dataset for \"Wave fields\": write the name of wave dataset (wav_ds) and press return.\n",
    "</div> "
   ]
  },
  {
   "cell_type": "code",
   "execution_count": null,
   "metadata": {},
   "outputs": [],
   "source": [
    "wav_ds"
   ]
  },
  {
   "cell_type": "markdown",
   "metadata": {},
   "source": [
    "And about the variables:"
   ]
  },
  {
   "cell_type": "code",
   "execution_count": null,
   "metadata": {},
   "outputs": [],
   "source": [
    "wav_ds.data_vars"
   ]
  },
  {
   "cell_type": "markdown",
   "metadata": {},
   "source": [
    "... the coordinates:"
   ]
  },
  {
   "cell_type": "code",
   "execution_count": null,
   "metadata": {},
   "outputs": [],
   "source": [
    "wav_ds.coords"
   ]
  },
  {
   "cell_type": "markdown",
   "metadata": {},
   "source": [
    "### 3.3.5. Set the configuration\n",
    "[Go back to the \"Table of contents\"](#Table-of-contents)"
   ]
  },
  {
   "cell_type": "markdown",
   "metadata": {},
   "source": [
    "Let's check the coordinates names in the cells above (check the ***ds.coords*** outputs) and set the correct variables below:"
   ]
  },
  {
   "cell_type": "code",
   "execution_count": null,
   "metadata": {},
   "outputs": [],
   "source": [
    "# Set the coordinate names (used later for accessing the data)\n",
    "lon_name = \"longitude\"\n",
    "lat_name = \"latitude\"\n",
    "time_name = \"time\"\n",
    "depth_name = \"depth\" # not used in this case"
   ]
  },
  {
   "cell_type": "markdown",
   "metadata": {},
   "source": [
    "Do the same for the variables names (check the ***ds.data_vars*** outputs): "
   ]
  },
  {
   "cell_type": "code",
   "execution_count": null,
   "metadata": {},
   "outputs": [],
   "source": [
    "# Set the variable names\n",
    "hs_name = \"VHM0\" # wave height\n",
    "wdir_name = \"VMDR\" # wave direction"
   ]
  },
  {
   "cell_type": "markdown",
   "metadata": {},
   "source": [
    "Choose the point of your interest:"
   ]
  },
  {
   "cell_type": "code",
   "execution_count": null,
   "metadata": {},
   "outputs": [],
   "source": [
    "# Set the point of interest\n",
    "point = {'x': 102.00,\n",
    "         'y': -6}"
   ]
  },
  {
   "cell_type": "code",
   "execution_count": null,
   "metadata": {},
   "outputs": [],
   "source": [
    "# Extract the sub-dataset for the defined point\n",
    "ds_sel = wav_ds.sel(latitude=point['y'], longitude=point['x'], method='nearest')"
   ]
  },
  {
   "cell_type": "code",
   "execution_count": null,
   "metadata": {},
   "outputs": [],
   "source": [
    "ds_sel"
   ]
  },
  {
   "cell_type": "markdown",
   "metadata": {},
   "source": [
    "### Extract the Wave Height for the selected timeseries:"
   ]
  },
  {
   "cell_type": "code",
   "execution_count": null,
   "metadata": {},
   "outputs": [],
   "source": [
    "# Extract the Wave Height\n",
    "hs_sel = ds_sel[hs_name].round(2)\n",
    "hs_sel"
   ]
  },
  {
   "cell_type": "markdown",
   "metadata": {},
   "source": [
    "### Extract the Wave Directions for the selected timeseries:"
   ]
  },
  {
   "cell_type": "code",
   "execution_count": null,
   "metadata": {},
   "outputs": [],
   "source": [
    "# Extract the Wave Direction\n",
    "dir_sel = ds_sel[wdir_name].astype(int)\n",
    "dir_sel\n",
    "#time_sel = ds_sel[time_var]"
   ]
  },
  {
   "cell_type": "code",
   "execution_count": null,
   "metadata": {},
   "outputs": [],
   "source": [
    "# Set the \"Significant Wave height\" plot parameters:\n",
    "hs_min = 0.5\n",
    "hs_max = 5\n",
    "hs_step = 0.25\n",
    "\n",
    "# Set the numbers of bins (limits) for hs.\n",
    "bin_hs = np.arange(hs_min, hs_max, hs_step)\n",
    "\n",
    "# Set numbers of bins for directions (directions “bundaries”) \n",
    "# used to compute the distribution by waves direction sector.\n",
    "bin_dir = 24 # 360 degrees/24 = 15 degrees each"
   ]
  },
  {
   "cell_type": "markdown",
   "metadata": {},
   "source": [
    "### 3.3.6. Plot the wind rose \n",
    "[Go back to the \"Table of contents\"](#Table-of-contents)"
   ]
  },
  {
   "cell_type": "code",
   "execution_count": null,
   "metadata": {},
   "outputs": [],
   "source": [
    "def plot_windrose(ds, normed):\n",
    "    var_title = ds.long_name\n",
    "\n",
    "    title = '{}\\n' \\\n",
    "            'Lat: {y}[degN]  Lon: {x}[degE]'.format(var_title, y = point['y'], x = point['x'])\n",
    "\n",
    "    ax = windrose.WindroseAxes.from_ax()\n",
    "    ax.bar(dir_sel.data, hs_sel.data, bins=bin_hs, nsector=bin_dir, normed=normed, opening=1, edgecolor='k')\n",
    "\n",
    "    ax.legend(title='Hs')\n",
    "    ax.set_legend(prop={'size': 'large'})\n",
    "\n",
    "    plt.title(title)\n",
    "\n",
    "    # output file\n",
    "    output_file = os.path.join(out_path, var_title.replace(' ','_')) + \".png\"\n",
    "\n",
    "    # save the output file\n",
    "    #plt.savefig(output_file)\n",
    "\n",
    "    plt.show()\n",
    "\n",
    "    plt.close()\n",
    "    \n",
    "    table = ax._info['table']\n",
    "    return table"
   ]
  },
  {
   "cell_type": "markdown",
   "metadata": {},
   "source": [
    "Plot the windrose **normed**:"
   ]
  },
  {
   "cell_type": "code",
   "execution_count": null,
   "metadata": {},
   "outputs": [],
   "source": [
    "t_normed = plot_windrose(wav_ds[hs_name], True)"
   ]
  },
  {
   "cell_type": "markdown",
   "metadata": {},
   "source": [
    "Try to change ```hs_max``` or the other parameters and regenerate the plot."
   ]
  },
  {
   "cell_type": "markdown",
   "metadata": {},
   "source": [
    "Plot the windrose **not normed**:"
   ]
  },
  {
   "cell_type": "code",
   "execution_count": null,
   "metadata": {},
   "outputs": [],
   "source": [
    "t = plot_windrose(wav_ds[hs_name], False)"
   ]
  },
  {
   "cell_type": "markdown",
   "metadata": {},
   "source": [
    "The population of each circle is given in frequency in the normed wave rose and in occurrence in the not normed one."
   ]
  },
  {
   "cell_type": "markdown",
   "metadata": {},
   "source": [
    "### 3.3.7. Look at the data\n",
    "[Go back to the \"Table of contents\"](#Table-of-contents)"
   ]
  },
  {
   "cell_type": "markdown",
   "metadata": {},
   "source": [
    "After plotting the rose, you can have a look at the frequency values used by windrose and generated by the plot function (see the property ```ax._info```):"
   ]
  },
  {
   "cell_type": "code",
   "execution_count": null,
   "metadata": {},
   "outputs": [],
   "source": [
    "t_normed.shape"
   ]
  },
  {
   "cell_type": "markdown",
   "metadata": {},
   "source": [
    "This table has dimensions: ```bin_hs.size``` x ```bin_dir.size```:"
   ]
  },
  {
   "cell_type": "code",
   "execution_count": null,
   "metadata": {},
   "outputs": [],
   "source": [
    "df = pd.DataFrame(t_normed)\n",
    "df"
   ]
  },
  {
   "cell_type": "markdown",
   "metadata": {},
   "source": [
    "You can even print a table for all the data of *Significant Wave height* and *Direction* used for generating the plot:"
   ]
  },
  {
   "cell_type": "code",
   "execution_count": null,
   "metadata": {},
   "outputs": [],
   "source": [
    "# Show the table\n",
    "df = pd.DataFrame({\"Timestep\": hs_sel.time, \"SWH\": hs_sel, \"Direction\": dir_sel })\n",
    "df"
   ]
  },
  {
   "cell_type": "markdown",
   "metadata": {},
   "source": [
    "### 3.3.8. Save the data in csv file format\n",
    "[Go back to the \"Table of contents\"](#Table-of-contents)"
   ]
  },
  {
   "cell_type": "code",
   "execution_count": null,
   "metadata": {},
   "outputs": [],
   "source": [
    "# Save the table\n",
    "fname_table = \"windrose_data.csv\"\n",
    "output_table =  os.path.join(out_path, fname_table)\n",
    "df.to_csv(output_table )"
   ]
  },
  {
   "cell_type": "markdown",
   "metadata": {},
   "source": [
    "The csv output is at the following path:"
   ]
  },
  {
   "cell_type": "code",
   "execution_count": null,
   "metadata": {},
   "outputs": [],
   "source": [
    "output_table"
   ]
  },
  {
   "cell_type": "markdown",
   "metadata": {},
   "source": [
    "***"
   ]
  },
  {
   "cell_type": "markdown",
   "metadata": {},
   "source": [
    "# 4. Conclusion"
   ]
  },
  {
   "cell_type": "markdown",
   "metadata": {},
   "source": [
    "<div class=\"alert alert-block alert-success\">\n",
    "    <b>CONGRATULATIONS</b><br>\n",
    "  \n",
    "--- \n",
    "\n",
    "#### And thank you for your attention! :) We hope you enjoyed this training on the Global Wave model data provided by Copernicus Marine Service, for free, thanks to the European Commission.\n",
    "\n",
    "#### Now let's try to download new data and variables and to access and visualize them... you can try to make new maps and plots... and don't forget to try to the other [Copernicus Marine products](http://marine.copernicus.eu/services-portfolio/access-to-products/?option=com_csw&task=results)!\n",
    "\n",
    "This training course is over but we'd love to hear from you about how we could improve it (topics, tools, storytelling, format, speed etc). "
   ]
  },
  {
   "cell_type": "markdown",
   "metadata": {},
   "source": [
    "[Go back to the \"Table of contents\"](#Table-of-contents)"
   ]
  },
  {
   "cell_type": "code",
   "execution_count": null,
   "metadata": {},
   "outputs": [],
   "source": []
  }
 ],
 "metadata": {
  "finalized": {
   "timestamp": 1575910793989,
   "trusted": true
  },
  "kernelspec": {
   "display_name": "Python 3",
   "language": "python",
   "name": "python3"
  },
  "language_info": {
   "codemirror_mode": {
    "name": "ipython",
    "version": 3
   },
   "file_extension": ".py",
   "mimetype": "text/x-python",
   "name": "python",
   "nbconvert_exporter": "python",
   "pygments_lexer": "ipython3",
   "version": "3.7.3"
  }
 },
 "nbformat": 4,
 "nbformat_minor": 4
}
