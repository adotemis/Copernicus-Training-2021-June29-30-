{
 "cells": [
  {
   "cell_type": "markdown",
   "metadata": {
    "tags": []
   },
   "source": [
    "![header](https://i.imgur.com/I4ake6d.jpg)"
   ]
  },
  {
   "cell_type": "markdown",
   "metadata": {},
   "source": [
    "# COPERNICUS MARINE SEA SURFACE TEMPERATURE TRAINING\n",
    "\n",
    "***\n",
    "<center><h1>How to visualise maps and time series of Sea Surface Temperature (SST)</h1></center>"
   ]
  },
  {
   "cell_type": "markdown",
   "metadata": {},
   "source": [
    "***\n",
    "**General Note 1**: Execute each cell through the <button class=\"btn btn-default btn-xs\"><i class=\"icon-play fa fa-play\"></i></button> button from the top MENU (or keyboard shortcut `Shift` + `Enter`).<br>\n",
    "<br>\n",
    "**General Note 2**: If, for any reason, the kernel is not working anymore, in the top MENU, click on the <button class=\"btn btn-default btn-xs\"><i class=\"fa fa-repeat icon-repeat\"></i></button> button. Then, in the top MENU, click on \"Cell\" and select \"Run All Above Selected Cell\".<br>"
   ]
  },
  {
   "cell_type": "markdown",
   "metadata": {},
   "source": [
    "***\n",
    "# Table of contents\n",
    "- [1. Introduction](#1.-Introduction)\n",
    "- [2. Initial set up](#2.-Initial-set-up)\n",
    "    - [2.1. Required Python version](#2.1.-Required-Python-version)\n",
    "    - [2.2. Required modules](#2.2.-Required-modules)\n",
    "    - [2.3. Create input and output directories](#2.3.-Create-input-and-output-directories)\n",
    "- [3. Data](#3.-Data)\n",
    "    - [3.1. First example](#3.1.-First-example)\n",
    "        - [3.1.1. Product description](#3.1.1.-Product-description)\n",
    "        - [3.1.2. Get more information on the product](#3.1.2.-Get-more-information-on-the-product)\n",
    "        - [3.1.3. Parameters needed for downloading the data used in the exercise](#3.1.3.-Parameters-needed-for-downloading-the-data-used-in-the-exercise)\n",
    "    - [3.2. Second example](#3.2.-Second-example)\n",
    "        - [3.2.1. Product description](#3.2.1.-Product-description)\n",
    "        - [3.2.2. Get more information on the product](#3.2.2.-Get-more-information-on-the-product)\n",
    "        - [3.2.3. Parameters needed for downloading the data used in the exercise](#3.2.3.-Parameters-needed-for-downloading-the-data-used-in-the-exercise)\n",
    "    - [3.3. Downloading data with motuclient](#3.3.-Downloading-data-with-motuclient)\n",
    "        - [3.3.1. Download motuclient](#3.3.1.-Download-motuclient)\n",
    "        - [3.3.2. First example](#3.3.2.-First-example) \n",
    "- [4. Exercises](#4.-Exercises)\n",
    "    - [4.1 Exercise 1: map plotting](#4.1-Exercise-1:-map-plotting)\n",
    "        - [4.1.1. Import the modules and get set up](#4.1.1.-Import-the-modules-and-get-set-up)\n",
    "        - [4.1.2. Access the data](#4.1.2.-Access-the-data)\n",
    "        - [4.1.3. Set the configuration](#4.1.3.-Set-the-configuration)\n",
    "        - [4.1.4. Plot the variables](#4.1.4.-Plot-the-variables)\n",
    "    - [4.2. Exercise 2: Plot of time series](#4.2.-Exercise-2:-Plot-of-time-series)\n",
    "        - [4.2.1. Import the modules and get set up](#4.2.1.-Import-the-modules-and-get-set-up)\n",
    "        - [4.2.2. Access the data](#4.2.2.-Access-the-data)\n",
    "        - [4.2.3. Set the configuration](#4.2.3.-Set-the-configuration)\n",
    "        - [4.2.4. Plot the time series](#4.2.4.-Plot-the-time-series)\n",
    "- [5. Conclusion](#5.-Conclusion)\n",
    "***"
   ]
  },
  {
   "cell_type": "markdown",
   "metadata": {},
   "source": [
    "# 1. Introduction"
   ]
  },
  {
   "cell_type": "markdown",
   "metadata": {},
   "source": [
    "[Go back to the \"Table of contents\"](#Table-of-contents)"
   ]
  },
  {
   "cell_type": "markdown",
   "metadata": {},
   "source": [
    "This python notebook contains two examples of visualisation of the Sea Surface Temperature (SST) products for the global ocean.\n",
    "\n",
    "The first example will show how to plot a map of Sea Surface Temperature data using near-real-time daily SST data.\n",
    "\n",
    "The second example will show how to make a plot of the diurnal cycle of values of Sea Surface Temperature in two different locations (and of their monthly average) as obtained from a different near-real-time product."
   ]
  },
  {
   "cell_type": "markdown",
   "metadata": {},
   "source": [
    "# 2. Initial set up\n",
    "[Go back to the \"Table of contents\"](#Table-of-contents)"
   ]
  },
  {
   "cell_type": "markdown",
   "metadata": {},
   "source": [
    "This section includes some steps that need to be taken before getting on with the exercises."
   ]
  },
  {
   "cell_type": "markdown",
   "metadata": {},
   "source": [
    "### Remember: Code cells allow you to enter and run code\n",
    "Run a code cell using <code>Shift-Enter</code> or by pressing the <button class=\"btn btn-default btn-xs\"><i class=\"icon-play fa fa-play\"></i></button> button in the toolbar above. The code is normally run in a Python environment, but if there is an exclamation mark (!) at the beginning, the code is executed in the shell instead."
   ]
  },
  {
   "cell_type": "markdown",
   "metadata": {},
   "source": [
    "## 2.1. Required Python version\n",
    "[Go back to the \"Table of contents\"](#Table-of-contents)\n",
    "\n",
    "The required version of Python is 3.7. Check your python version with:"
   ]
  },
  {
   "cell_type": "code",
   "execution_count": null,
   "metadata": {},
   "outputs": [],
   "source": [
    "!python --version"
   ]
  },
  {
   "cell_type": "markdown",
   "metadata": {},
   "source": [
    "If needed, you can install the right Python version in this way:\n",
    "```\n",
    "conda install python=3.7\n",
    "```"
   ]
  },
  {
   "cell_type": "markdown",
   "metadata": {},
   "source": [
    "## 2.2. Required modules\n",
    "[Go back to the \"Table of contents\"](#Table-of-contents)"
   ]
  },
  {
   "cell_type": "markdown",
   "metadata": {},
   "source": [
    "| Module name | Description |\n",
    "| :--- | :---|\n",
    "| **os** | [ Miscellaneous operating system interfaces](https://docs.python.org/3.7/library/os.html) for managing paths, creating directories,... |\n",
    "| **numpy** | [NumPy](https://numpy.org/) is the fundamental package for scientific computing with Python and for managing ND-arrays |\n",
    "| **xarray** | [Xarray](http://xarray.pydata.org/en/stable/) introduces labels in the form of dimensions, coordinates and attributes on top of raw NumPy-like arrays, which allows for a more intuitive, more concise, and less error-prone developer experience. |\n",
    "| **matplotlib** | [Matplotlib](https://matplotlib.org/) is a Python 2D plotting library which produces publication quality figures |\n",
    "| **basemap** | [The matplotlib basemap toolkit](https://matplotlib.org/basemap/) is a library for plotting 2D data on maps in Python |\n",
    "| **datetime** | [The datetime module](https://docs.python.org/3.8/library/datetime.html) supplies classes for manipulating dates and times in both simple and complex ways |\n",
    "| **pandas** | [pandas](https://pandas.pydata.org/) is a library providing high-performance, easy-to-use data structures and data analysis tools for Python |\n",
    "| **netcdf4** | [The netcdf4 module](https://unidata.github.io/netcdf4-python/) provides a Python interface for handling netCDF4 files |\n",
    "| **proj4** | [proj4](https://pypi.org/project/pyproj/) provides an interface to a software library that handles cartographic projections |\n",
    "| **cftime** | [cftime](https://pypi.org/project/cftime/) provides functionality for handling times |"
   ]
  },
  {
   "cell_type": "markdown",
   "metadata": {},
   "source": [
    "### Install the needed Python modules (for local installation, can be skipped during Training)"
   ]
  },
  {
   "cell_type": "markdown",
   "metadata": {},
   "source": [
    "If you are using the standard *Anaconda* installation, you can install the modules by executing the following command in a new cell. A specific version of matplotlib (version 3.2) is specified to avoid an issue with compatibility with the basemap module."
   ]
  },
  {
   "cell_type": "code",
   "execution_count": null,
   "metadata": {},
   "outputs": [],
   "source": [
    "\n",
    "conda install numpy xarray matplotlib=3.2 basemap netcdf4 proj4 basemap-data-hires cftime\n"
   ]
  },
  {
   "cell_type": "markdown",
   "metadata": {},
   "source": [
    "Then, as requested, please restart the kernel.\n",
    "\n",
    "The kernel maintains the state of a notebook's computations. You can reset this state by restarting the kernel. This is done by clicking on the <button class=\"btn btn-default btn-xs\"><i class=\"fa fa-repeat icon-repeat\"></i></button> in the toolbar above."
   ]
  },
  {
   "cell_type": "markdown",
   "metadata": {},
   "source": [
    "## 2.3. Create input and output directories\n",
    "[Go back to the \"Table of contents\"](#Table-of-contents)"
   ]
  },
  {
   "cell_type": "markdown",
   "metadata": {},
   "source": [
    "Two directories will be needed: one for storing data and one for output that is created. These are created using the **checkDir** function and code below. By default these directories are called 'data' and 'out'. Different names can be used, but the code in the examples in section 4 will need to be changed to match."
   ]
  },
  {
   "cell_type": "code",
   "execution_count": null,
   "metadata": {},
   "outputs": [],
   "source": [
    "import os\n",
    "def checkDir(outPath):\n",
    "    if not os.path.exists(outPath):\n",
    "        os.makedirs(outPath)\n",
    "        \n",
    "# Create the data directory if necessary:\n",
    "checkDir('data')\n",
    "\n",
    "# Create the output directory if necessary:\n",
    "checkDir('out')"
   ]
  },
  {
   "cell_type": "markdown",
   "metadata": {},
   "source": [
    "# 3. Data\n",
    "[Go back to the \"Table of contents\"](#Table-of-contents)"
   ]
  },
  {
   "cell_type": "markdown",
   "metadata": {},
   "source": [
    "Level 4 (L4) Sea Surface Temperature (SST) datasets covering the global ocean are operationally produced and distributed both as near-real time and reprocessed products by the Met Office. Two examples of the data will be downloaded for use in the exercises. \n",
    "\n",
    "Sections 3.1 and 3.2 describe the data that are needed. Examples of how to download these data are given in 3.3."
   ]
  },
  {
   "cell_type": "markdown",
   "metadata": {},
   "source": [
    "## 3.1. First example"
   ]
  },
  {
   "cell_type": "markdown",
   "metadata": {},
   "source": [
    "### 3.1.1. Product description\n",
    "[Go back to the \"Table of contents\"](#Table-of-contents)\n",
    "\n",
    "### The first example is based on the product: [SST_GLO_SST_L4_NRT_OBSERVATIONS_010_001](https://resources.marine.copernicus.eu/?option=com_csw&view=details&product_id=SST_GLO_SST_L4_NRT_OBSERVATIONS_010_001)"
   ]
  },
  {
   "cell_type": "markdown",
   "metadata": {},
   "source": [
    "The SST_GLO_SST_L4_NRT_OBSERVATIONS_010_001 product consists of level 4 (L4) merged-multisensor SST data with data gaps infilled. It covers the global ocean and is provided on a 0.05° regular grid. It is representative of foundation SST, which is the SST from which the diurnal cycle grows (see the [Group for High Resolution SST (GHRSST) information page on data levels and types of SST](https://www.ghrsst.org/ghrsst-data-services/products/)). Sea ice concentrations are also available in the data files. In addition to daily SST data, monthly and seasonal averages, daily anomalies, and estimates of bias in SST satellite sensor data are available on a 0.25° grid.\n",
    "\n",
    "Reference: <i>Good, S.; Fiedler, E.; Mao, C.; Martin, M.J.; Maycock, A.; Reid, R.; Roberts-Jones, J.; Searle, T.; Waters, J.; While, J.; Worsfold, M. The Current Configuration of the OSTIA System for Operational Production of Foundation Sea Surface Temperature and Ice Concentration Analyses. Remote Sens. 2020, 12, 720. [doi:10.3390/rs12040720](https://doi.org/10.3390/rs12040720)</i>"
   ]
  },
  {
   "cell_type": "markdown",
   "metadata": {},
   "source": [
    "### 3.1.2. Get more information on the product\n",
    "[Go back to the \"Table of contents\"](#Table-of-contents)\n",
    "\n",
    "1. You can find information on this product and access to the download services in the [dedicated Product Page on Copernicus Marine (CMEMS) Web portal](https://resources.marine.copernicus.eu/?option=com_csw&task=results?option=com_csw&view=details&product_id=SST_GLO_SST_L4_NRT_OBSERVATIONS_010_001)\n",
    "<br>\n",
    "2. For **detailed information** about the product, please consult the **document**: [Product User Manual (PUM)](http://marine.copernicus.eu/documents/PUM/CMEMS-SST-PUM-010-001.pdf)\n",
    "<br>\n",
    "3. For information about **the quality and validation** of the product, please consult the **document**: [Quality Information Document (QUID)](http://marine.copernicus.eu/documents/QUID/CMEMS-SST-QUID-010-001.pdf)"
   ]
  },
  {
   "cell_type": "markdown",
   "metadata": {},
   "source": [
    "### 3.1.3. Parameters needed for downloading the data used in the exercise\n",
    "[Go back to the \"Table of contents\"](#Table-of-contents)\n",
    "\n",
    "| Parameter | Value |\n",
    "| :--- | :---|\n",
    "| **Product** | SST_GLO_SST_L4_NRT_OBSERVATIONS_010_001 |\n",
    "| **Dataset** | METOFFICE-GLO-SST-L4-NRT-OBS-SST-V2 |\n",
    "| **Frequency** | daily |\n",
    "| **Lat min** | -80.0 |\n",
    "| **Lat max** | 40.0  |\n",
    "| **Lon min** | -140.0 |\n",
    "| **Lon max** | -20.0 |\n",
    "| **Timesteps** | from  2021-03-15T00:00 to 2021-03-16T00:00 |\n",
    "| **Variables** | analysed_sst, analysis_error, sea_ice_fraction, mask | \n",
    "| **Service for downloading** | SUBSETTER |\n",
    "\n",
    "***"
   ]
  },
  {
   "cell_type": "markdown",
   "metadata": {},
   "source": [
    "## 3.2. Second example\n",
    "[Go back to the \"Table of contents\"](#Table-of-contents)"
   ]
  },
  {
   "cell_type": "markdown",
   "metadata": {},
   "source": [
    "### 3.2.1. Product description\n",
    "### The second example is based on the product: [SST_GLO_SST_L4_NRT_OBSERVATIONS_010_014](https://resources.marine.copernicus.eu/?option=com_csw&task=results?option=com_csw&view=details&product_id=SST_GLO_SST_L4_NRT_OBSERVATIONS_010_014)"
   ]
  },
  {
   "cell_type": "markdown",
   "metadata": {},
   "source": [
    "The SST_GLO_SST_L4_NRT_OBSERVATIONS_010_014 product provides hourly average gap-free SST maps (L4) at high 0.25° grid resolution for the global ocean. The data are provided daily in near-real-time. The product is created by combining output from diurnal cycle models with estimates of the diurnal signal estimated from satellite data. \n",
    "\n",
    "Reference: <i>While, J., Mao, C., Martin, M.J., Roberts‐Jones, J., Sykes, P.A., Good, S.A. and McLaren, A.J. (2017), An operational analysis system for the global diurnal cycle of sea surface temperature: implementation and validation. Q.J.R. Meteorol. Soc., 143: 1787-1803. [doi:10.1002/qj.3036](https://doi.org/10.1002/qj.3036)</i>\n"
   ]
  },
  {
   "cell_type": "markdown",
   "metadata": {},
   "source": [
    "### 3.2.2. Get more information on the product\n",
    "[Go back to the \"Table of contents\"](#Table-of-contents)\n",
    "\n",
    "1. You can find info on this product and access to the download services in the [dedicated Product Page on Copernicus Marine (CMEMS) Web portal](https://resources.marine.copernicus.eu/?option=com_csw&task=results?option=com_csw&view=details&product_id=SST_GLO_SST_L4_NRT_OBSERVATIONS_010_014)\n",
    "<br>\n",
    "2. For **detailed information** about the product, please consult the **document**: [Product User Manual (PUM)](http://marine.copernicus.eu/documents/PUM/CMEMS-SST-PUM-010-014.pdf)\n",
    "<br>\n",
    "3. For information about **the quality and validation** of the product, please consult the **document**: [Quality Information Document (QUID)](http://marine.copernicus.eu/documents/QUID/CMEMS-SST-QUID-010-014.pdf)"
   ]
  },
  {
   "cell_type": "markdown",
   "metadata": {},
   "source": [
    "### 3.2.3. Parameters needed for downloading the data used in the exercise\n",
    "[Go back to the \"Table of contents\"](#Table-of-contents)\n",
    "\n",
    "| Parameter | Value |\n",
    "| :--- | :---|\n",
    "| **Product** | SST_GLO_SST_L4_NRT_OBSERVATIONS_010_014 |\n",
    "| **Datasets** | METOFFICE-GLO-SST-L4-NRT-OBS-SKIN-DIU-FV01.1 |\n",
    "| **Frequency** | daily |\n",
    "| **Lat min** | -80.0 |\n",
    "| **Lat max** | 40.0  |\n",
    "| **Lon min** | -140.0 |\n",
    "| **Lon max** | -20.0 |\n",
    "| **Timesteps** | both from  2021-03-15T00:00 to 2021-03-20T00:00 |\n",
    "| **Variables** | analysed_sst | \n",
    "| **Service for downloading** | SUBSETTER |\n",
    "\n",
    "***"
   ]
  },
  {
   "cell_type": "markdown",
   "metadata": {},
   "source": [
    "## 3.3. Downloading data with motuclient\n",
    "[Go back to the \"Table of contents\"](#Table-of-contents)"
   ]
  },
  {
   "cell_type": "markdown",
   "metadata": {},
   "source": [
    "This section shows how to download the data that are needed using the Python module 'motuclient'."
   ]
  },
  {
   "cell_type": "markdown",
   "metadata": {},
   "source": [
    "<div class=\"alert alert-block alert-warning\">\n",
    "    <b>Get CMEMS User credentials</b>\n",
    "<hr>\n",
    "Before being able to run the following exercises on your PC and to download the needed data, please be sure to have your CMEMS User credentials. Otherwise please get them <a href=\"http://marine.copernicus.eu/services-portfolio/register-now/\" target=\"_blank\">here</a>."
   ]
  },
  {
   "cell_type": "markdown",
   "metadata": {},
   "source": [
    "### 3.3.1. Download motuclient\n",
    "[Go back to the \"Table of contents\"](#Table-of-contents)"
   ]
  },
  {
   "cell_type": "markdown",
   "metadata": {},
   "source": [
    "Data can be alternatively downloaded with **motuclient**, a multiplatform python script to automate extraction of information from the Marine Copernicus portal. To install motuclient:"
   ]
  },
  {
   "cell_type": "markdown",
   "metadata": {},
   "source": [
    "```\n",
    "!pip install motuclient\n",
    "```"
   ]
  },
  {
   "cell_type": "code",
   "execution_count": null,
   "metadata": {},
   "outputs": [],
   "source": [
    "!pip install motuclient"
   ]
  },
  {
   "cell_type": "markdown",
   "metadata": {},
   "source": [
    "To get more info on motuclient visit the related [web page](https://marine.copernicus.eu/faq/what-are-the-motu-and-python-requirements/#motu-client)."
   ]
  },
  {
   "cell_type": "markdown",
   "metadata": {},
   "source": [
    "### 3.3.2. First example\n",
    "[Go back to the \"Table of contents\"](#Table-of-contents)"
   ]
  },
  {
   "cell_type": "markdown",
   "metadata": {},
   "source": [
    "You'll be able to download data with the following command line code. You will have to copy to another cell to execute (**NOTE:** don't forget to set username and password):"
   ]
  },
  {
   "cell_type": "markdown",
   "metadata": {},
   "source": [
    "```\n",
    "!python -m motuclient --motu http://nrt.cmems-du.eu/motu-web/Motu \\\n",
    "--service-id SST_GLO_SST_L4_NRT_OBSERVATIONS_010_001-TDS \\\n",
    "--product-id METOFFICE-GLO-SST-L4-NRT-OBS-SST-V2 \\\n",
    "--longitude-min -140.0 --longitude-max -20.0 \\\n",
    "--latitude-min -80.0 --latitude-max 40.0 \\\n",
    "--date-min \"2021-03-15 00:00:00\" --date-max \"2021-03-16 00:00:00\" \\\n",
    "--variable analysed_sst --variable sea_ice_fraction \\\n",
    "--out-dir ./data --out-name 10-01-A.nc \\\n",
    "--user <USERNAME> --pwd <PASSWORD>\n",
    "```"
   ]
  },
  {
   "cell_type": "markdown",
   "metadata": {},
   "source": [
    "Insert the download command below, if needed:"
   ]
  },
  {
   "cell_type": "code",
   "execution_count": null,
   "metadata": {
    "tags": []
   },
   "outputs": [],
   "source": []
  },
  {
   "cell_type": "markdown",
   "metadata": {},
   "source": [
    "### 3.3.3. Second example\n",
    "[Go back to the \"Table of contents\"](#Table-of-contents)"
   ]
  },
  {
   "cell_type": "markdown",
   "metadata": {},
   "source": [
    "You'll be able to download data with the following command lines, which you have to copy to another cell to execute (**NOTE:** don't forget to set username and password):"
   ]
  },
  {
   "cell_type": "markdown",
   "metadata": {},
   "source": [
    "```\n",
    "!python -m motuclient --motu http://nrt.cmems-du.eu/motu-web/Motu \\\n",
    "--service-id SST_GLO_SST_L4_NRT_OBSERVATIONS_010_014-TDS \\\n",
    "--product-id METOFFICE-GLO-SST-L4-NRT-OBS-SKIN-DIU-FV01.1 \\\n",
    "--longitude-min -140.0 --longitude-max -20.0 \\\n",
    "--latitude-min -80.0 --latitude-max 40.0 \\\n",
    "--date-min \"2021-03-15 00:00:00\" --date-max \"2021-03-20 00:00:00\" \\\n",
    "--variable analysed_sst --out-dir ./data --out-name 10-01-B.nc \\\n",
    "--user <USERNAME> --pwd <PASSWORD>\n",
    "```"
   ]
  },
  {
   "cell_type": "markdown",
   "metadata": {},
   "source": [
    "Insert the download command below, if needed:"
   ]
  },
  {
   "cell_type": "code",
   "execution_count": null,
   "metadata": {},
   "outputs": [],
   "source": []
  },
  {
   "cell_type": "markdown",
   "metadata": {},
   "source": [
    "### 3.3.4. Check if the files have been downloaded\n",
    "[Go back to the \"Table of contents\"](#Table-of-contents)"
   ]
  },
  {
   "cell_type": "markdown",
   "metadata": {},
   "source": [
    "To check if the files have been correctly downloaded:"
   ]
  },
  {
   "cell_type": "code",
   "execution_count": null,
   "metadata": {},
   "outputs": [],
   "source": [
    "import os\n",
    "for filename in os.listdir(\"data\"):\n",
    "    print(filename)"
   ]
  },
  {
   "cell_type": "markdown",
   "metadata": {},
   "source": [
    "# 4. Exercises"
   ]
  },
  {
   "cell_type": "markdown",
   "metadata": {},
   "source": [
    "[Go back to the \"Table of contents\"](#Table-of-contents)"
   ]
  },
  {
   "cell_type": "markdown",
   "metadata": {},
   "source": [
    "Before starting the exercises, please make sure that you have the correct modules installed, as described in section 2."
   ]
  },
  {
   "cell_type": "markdown",
   "metadata": {},
   "source": [
    "## 4.1 Exercise 1: map plotting"
   ]
  },
  {
   "cell_type": "markdown",
   "metadata": {},
   "source": [
    "## 4.1.1. Import the modules and get set up"
   ]
  },
  {
   "cell_type": "markdown",
   "metadata": {},
   "source": [
    "Before going on, since we are in Jupyter Notebook, we need to set the environment in order to properly load some of the required libraries."
   ]
  },
  {
   "cell_type": "code",
   "execution_count": null,
   "metadata": {},
   "outputs": [],
   "source": [
    "import os"
   ]
  },
  {
   "cell_type": "markdown",
   "metadata": {},
   "source": [
    "In case you get an error in the following steps, try setting the variable os.environ\\['PROJ_LIB'\\] to the shared path of your conda environment. For example by executing in a python cell (don't forget to replace <PATH_TO_ANACONDA> with the proper values):\n",
    "\n",
    "os.environ\\['PROJ_LIB'\\] = \"<PATH_TO_ANACONDA\\>/share/proj\""
   ]
  },
  {
   "cell_type": "markdown",
   "metadata": {},
   "source": [
    "To avoid the warning messages during the execution and installation process, at first remove them:"
   ]
  },
  {
   "cell_type": "code",
   "execution_count": null,
   "metadata": {},
   "outputs": [],
   "source": [
    "import warnings\n",
    "warnings.filterwarnings('ignore')\n",
    "#os.environ['PROJ_LIB'] = \"<PATH_TO_ANACONDA>/share/proj\"  #uncomment this replacing <PATH_TO_ANACONDA> with proper value"
   ]
  },
  {
   "cell_type": "code",
   "execution_count": null,
   "metadata": {},
   "outputs": [],
   "source": [
    "import numpy as np\n",
    "import xarray as xr\n",
    "import matplotlib.pyplot as plt\n",
    "from mpl_toolkits.basemap import Basemap\n",
    "import datetime\n",
    "import pandas\n",
    "from matplotlib.colors import LogNorm"
   ]
  },
  {
   "cell_type": "markdown",
   "metadata": {},
   "source": [
    "*Don't change the following constants, which define the training and the notebook codes*:"
   ]
  },
  {
   "cell_type": "code",
   "execution_count": null,
   "metadata": {},
   "outputs": [],
   "source": [
    "REGION_CODE = \"10\"\n",
    "NB_CODE = \"01\""
   ]
  },
  {
   "cell_type": "markdown",
   "metadata": {},
   "source": [
    "**getRangeIndexes**: function for getting the indexes of the array *arr* between the *var_min* and *var_max* values:"
   ]
  },
  {
   "cell_type": "code",
   "execution_count": null,
   "metadata": {},
   "outputs": [],
   "source": [
    "def getRangeIndexes(arr, var_min, var_max):\n",
    "    return np.where((arr >= var_min) & (arr <= var_max))[0]"
   ]
  },
  {
   "cell_type": "markdown",
   "metadata": {},
   "source": [
    "Set the paths:"
   ]
  },
  {
   "cell_type": "code",
   "execution_count": null,
   "metadata": {},
   "outputs": [],
   "source": [
    "# Path for netcdf files\n",
    "data_path = './data'\n",
    "# Path for the output files (images, etc)\n",
    "out_path = './out/'+REGION_CODE+'-'+NB_CODE"
   ]
  },
  {
   "cell_type": "markdown",
   "metadata": {},
   "source": [
    "Check the current directories:"
   ]
  },
  {
   "cell_type": "code",
   "execution_count": null,
   "metadata": {},
   "outputs": [],
   "source": [
    "for filename in os.listdir():\n",
    "    print(filename)"
   ]
  },
  {
   "cell_type": "markdown",
   "metadata": {},
   "source": [
    "The code below uses the checkDir command that was previously defined in section 2."
   ]
  },
  {
   "cell_type": "code",
   "execution_count": null,
   "metadata": {},
   "outputs": [],
   "source": [
    "# Create directory.\n",
    "checkDir(out_path)"
   ]
  },
  {
   "cell_type": "markdown",
   "metadata": {},
   "source": [
    "Check if the new directories have been created and if the data files are available:"
   ]
  },
  {
   "cell_type": "code",
   "execution_count": null,
   "metadata": {},
   "outputs": [],
   "source": [
    "for path in [data_path, out_path]:\n",
    "    if os.path.isdir(path):\n",
    "        print(path)"
   ]
  },
  {
   "cell_type": "code",
   "execution_count": null,
   "metadata": {
    "scrolled": true
   },
   "outputs": [],
   "source": [
    "for filename in os.listdir(data_path):\n",
    "    print(filename)"
   ]
  },
  {
   "cell_type": "markdown",
   "metadata": {},
   "source": [
    "## 4.1.2. Access the data\n",
    "[Go back to the \"Table of contents\"](#Table-of-contents)"
   ]
  },
  {
   "cell_type": "code",
   "execution_count": null,
   "metadata": {},
   "outputs": [],
   "source": [
    "# Input netcdf file\n",
    "sst_f = \"10-01-A.nc\"\n",
    " \n",
    "# Build the complete nc path\n",
    "sst_nc = os.path.join(data_path, sst_f)"
   ]
  },
  {
   "cell_type": "code",
   "execution_count": null,
   "metadata": {},
   "outputs": [],
   "source": [
    "# Open the nc dataset\n",
    "sst_ds = xr.open_dataset(sst_nc,use_cftime='gregorian')"
   ]
  },
  {
   "cell_type": "markdown",
   "metadata": {},
   "source": [
    "### Get info about the dataset:"
   ]
  },
  {
   "cell_type": "code",
   "execution_count": null,
   "metadata": {},
   "outputs": [],
   "source": [
    "sst_ds.info"
   ]
  },
  {
   "cell_type": "markdown",
   "metadata": {},
   "source": [
    "And about the variables:"
   ]
  },
  {
   "cell_type": "code",
   "execution_count": null,
   "metadata": {},
   "outputs": [],
   "source": [
    "sst_ds.data_vars"
   ]
  },
  {
   "cell_type": "markdown",
   "metadata": {},
   "source": [
    "... the coordinates:"
   ]
  },
  {
   "cell_type": "code",
   "execution_count": null,
   "metadata": {},
   "outputs": [],
   "source": [
    "sst_ds.coords"
   ]
  },
  {
   "cell_type": "markdown",
   "metadata": {},
   "source": [
    "## 4.1.3. Set the configuration\n",
    "[Go back to the \"Table of contents\"](#Table-of-contents)"
   ]
  },
  {
   "cell_type": "code",
   "execution_count": null,
   "metadata": {},
   "outputs": [],
   "source": [
    "# Set the coordinate names (used later for accessing the data)\n",
    "lon_name = \"lon\"\n",
    "lat_name = \"lat\"\n",
    "time_name = \"time\""
   ]
  },
  {
   "cell_type": "code",
   "execution_count": null,
   "metadata": {},
   "outputs": [],
   "source": [
    "# Set the variable names\n",
    "var_name = \"analysed_sst\" #  Sea surface temperature\n",
    "#var_name = \"sea_ice_fraction\" #  Sea ice fraction"
   ]
  },
  {
   "cell_type": "markdown",
   "metadata": {},
   "source": [
    "<i>You can alter the code above to change the choice of the variable to plot.</i>"
   ]
  },
  {
   "cell_type": "markdown",
   "metadata": {},
   "source": [
    "## 4.1.4. Plot the variables\n",
    "[Go back to the \"Table of contents\"](#Table-of-contents)"
   ]
  },
  {
   "cell_type": "markdown",
   "metadata": {},
   "source": [
    "### Configure the variables for the plots"
   ]
  },
  {
   "cell_type": "code",
   "execution_count": null,
   "metadata": {},
   "outputs": [],
   "source": [
    "# Data to plot\n",
    "var_sel = sst_ds[var_name]\n",
    "\n",
    "# --- Set up the arrays of coordinates for the selected dataset ---\n",
    "# \n",
    "lats = var_sel[lat_name]\n",
    "lons = var_sel[lon_name]\n",
    "times = var_sel[time_name]\n",
    "    \n",
    "# --- Set the area: choose the min and max values for the coordinates ---\n",
    "# (if you add in new ones and set your own max and min, comment with the symbol # the unnecessary ones!):                                                               \n",
    "                                                             \n",
    "# Set lat-lon limits - FULL AREA\n",
    "lat_min = lats.min()\n",
    "lat_max = lats.max()\n",
    "lon_min = lons.min()\n",
    "lon_max = lons.max()\n",
    "\n",
    "# set start and end date\n",
    "start_date = times.min()\n",
    "end_date = times.max()\n",
    "\n",
    "# Set the variable min and max values for the plot and the colorbar (otherwise assign None):\n",
    "min_value, max_value = None, None\n",
    "#min_value, max_value = 275,305\n",
    "\n",
    "# -- Set the time period --- \n",
    "plot_date = np.datetime64(datetime.datetime(2021,3,15,12))"
   ]
  },
  {
   "cell_type": "code",
   "execution_count": null,
   "metadata": {},
   "outputs": [],
   "source": [
    "# Plot configuration\n",
    "width_inch = 16\n",
    "height_inch = 8\n",
    "\n",
    "# Map configuration\n",
    "map_config = { \n",
    "#     \"projection\": \"merc\",\n",
    "    \"llcrnrlat\": lat_min,\n",
    "    \"llcrnrlon\": lon_min,\n",
    "    \"urcrnrlat\": lat_max,\n",
    "    \"urcrnrlon\": lon_max,\n",
    "    \"resolution\": 'i',\n",
    "    \"epsg\": 4326\n",
    "}\n",
    "\n",
    "# Axes labels\n",
    "fontsize = 14\n",
    "xlabel = 'longitude [deg]'\n",
    "ylabel = 'latitude [deg]'\n",
    "xlabelpad = 30\n",
    "ylabelpad = 60\n",
    "\n",
    "# Colorbar configuration\n",
    "cmap = \"Spectral_r\"\n",
    "cbar_position = \"right\"\n",
    "\n",
    "title_fontstyle = {\n",
    "    \"fontsize\": \"14\",\n",
    "    \"fontstyle\": \"italic\",\n",
    "    \"fontweight\": \"bold\",\n",
    "    \"pad\": 30\n",
    "}\n",
    "\n",
    "label_fontstyle = {\n",
    "    \"fontsize\": \"12\",\n",
    "    \"labelpad\": 30\n",
    "}\n",
    "\n",
    "# Set the coordinates indexes\n",
    "lat_indexes = getRangeIndexes(lats, lat_min, lat_max)\n",
    "lon_indexes = getRangeIndexes(lons, lon_min, lon_max)\n",
    "time_indexes = getRangeIndexes(times, start_date, end_date)\n",
    "\n",
    "# Get the selected coordinates:\n",
    "lats_sel = lats[lat_indexes]\n",
    "lons_sel = lons[lon_indexes]\n",
    "\n",
    "# Get the timestep\n",
    "timestep = np.datetime_as_string(plot_date,'h')\n",
    "\n",
    "# Get the data\n",
    "data = var_sel[time_indexes[0], lat_indexes, lon_indexes]\n",
    "\n",
    "# Initialise the figure\n",
    "plt.figure(figsize=(width_inch, height_inch))\n",
    "map = Basemap(**map_config)\n",
    "\n",
    "## imshow the data\n",
    "min_value = data.min() if min_value is None else min_value\n",
    "max_value = data.max() if max_value is None else max_value\n",
    "\n",
    "# # imshow with linear range\n",
    "imshow= map.imshow(data, vmin=min_value, vmax=max_value, cmap=cmap)\n",
    "\n",
    "# imshow with log range\n",
    "# min fixed \n",
    "#min_value=0.1\n",
    "#imshow= map.imshow(data, vmin=min_value, vmax=max_value, cmap=cmap, norm=LogNorm())\n",
    "\n",
    "## draw meridians and parallels\n",
    "step_lat = float((lat_max - lat_min) / 5)\n",
    "step_lon = float((lon_max - lon_min) / 5)\n",
    "parallels = np.arange(lat_min, lat_max, step_lat)\n",
    "meridians = np.arange(lon_min, lon_max, step_lon) \n",
    "map.drawmeridians(meridians, labels=[0,0,0,1], fmt=\"%2.1f\")\n",
    "map.drawparallels(parallels, labels=[1,0,0,0], fmt=\"%2.1f\")\n",
    "\n",
    "## draw colorbar\n",
    "map.colorbar(imshow, cbar_position)\n",
    "\n",
    "## draw countries...\n",
    "map.drawcountries(linewidth=0.25, color='olive')\n",
    "\n",
    "# set title\n",
    "title_sel = data.long_name\n",
    "var_str = \"{} [{}]\".format(title_sel, data.units)\n",
    "title = ' - '.join((var_str, timestep))\n",
    "    \n",
    "## draw title and axes labels\n",
    "plt.title(title, **title_fontstyle)\n",
    "plt.xlabel(xlabel, labelpad=xlabelpad, fontsize=12)\n",
    "plt.ylabel(ylabel, labelpad=ylabelpad, fontsize=12)    \n",
    "    \n",
    "# output file\n",
    "output_file = os.path.join(out_path,title.translate(str.maketrans(' ,','__'))) + \".png\"\n",
    "\n",
    "# save the output file\n",
    "plt.savefig(output_file)\n",
    "plt.show()\n",
    "plt.close()"
   ]
  },
  {
   "cell_type": "markdown",
   "metadata": {},
   "source": [
    "If you can't see easily the maps, you can disable the scrolling. \n",
    "Choose the previous cell (the one with the maps), then select in the menu: **Cell &rarr; Current Output &rarr; Toggle Scrolling**"
   ]
  },
  {
   "cell_type": "markdown",
   "metadata": {},
   "source": [
    "<div class=\"alert alert-block alert-warning\">\n",
    "\n",
    "### LET'S TRY: Change the plot!\n",
    "\n",
    "If you want, you can change the above plot.\n",
    "\n",
    "For example, you could:\n",
    "- change the area\n",
    "- change the min/max values for the chosen variable\n",
    "- change the variable to compare sea ice concentration to the SST\n"
   ]
  },
  {
   "cell_type": "markdown",
   "metadata": {},
   "source": [
    "***"
   ]
  },
  {
   "cell_type": "markdown",
   "metadata": {},
   "source": [
    "# 4.2. Exercise 2: Plot of time series\n",
    "[Go back to the \"Table of contents\"](#Table-of-contents)"
   ]
  },
  {
   "cell_type": "markdown",
   "metadata": {},
   "source": [
    "In this exercise we will see how to plot the time series of sea surface temperature for two locations.\n",
    "The first is located in the Indian Ocean, the second in the Pacific Ocean)."
   ]
  },
  {
   "cell_type": "markdown",
   "metadata": {},
   "source": [
    "## 4.2.1. Import the modules and get set up"
   ]
  },
  {
   "cell_type": "markdown",
   "metadata": {},
   "source": [
    "Before going on, since we are in Jupyter Notebook, we need to set the environment in order to properly load some of the required libraries. "
   ]
  },
  {
   "cell_type": "code",
   "execution_count": null,
   "metadata": {},
   "outputs": [],
   "source": [
    "import os"
   ]
  },
  {
   "cell_type": "markdown",
   "metadata": {},
   "source": [
    "In case you get an error in the following steps, try setting the variable os.environ\\['PROJ_LIB\\] to the shared path of your conda environment. For example by executing in a python cell (don't forget to replace <PATH_TO_ANACONDA> with the proper values):\n",
    "\n",
    "os.environ\\['PROJ_LIB'\\] = \"<PATH_TO_ANACONDA\\>/share/proj\""
   ]
  },
  {
   "cell_type": "markdown",
   "metadata": {},
   "source": [
    "To avoid the warning messages during the execution and installation process, at first remove them:"
   ]
  },
  {
   "cell_type": "code",
   "execution_count": null,
   "metadata": {},
   "outputs": [],
   "source": [
    "import warnings\n",
    "warnings.filterwarnings('ignore')\n",
    "#os.environ['PROJ_LIB'] = \"<PATH_TO_ANACONDA>/share/proj\"  #uncomment this replacing <PATH_TO_ANACONDA> with proper value if needed"
   ]
  },
  {
   "cell_type": "code",
   "execution_count": null,
   "metadata": {},
   "outputs": [],
   "source": [
    "import numpy as np\n",
    "import xarray as xr\n",
    "import matplotlib.pyplot as plt\n",
    "from mpl_toolkits.basemap import Basemap\n",
    "import datetime\n",
    "import pandas as pd\n",
    "import matplotlib.dates as mdates"
   ]
  },
  {
   "cell_type": "markdown",
   "metadata": {},
   "source": [
    "*Don't change the following constants, which define the training and the notebook codes*:"
   ]
  },
  {
   "cell_type": "code",
   "execution_count": null,
   "metadata": {},
   "outputs": [],
   "source": [
    "REGION_CODE = \"10\"\n",
    "NB_CODE = \"01\""
   ]
  },
  {
   "cell_type": "markdown",
   "metadata": {},
   "source": [
    "**checkDir**: function for creating a path, if needed"
   ]
  },
  {
   "cell_type": "code",
   "execution_count": null,
   "metadata": {},
   "outputs": [],
   "source": [
    "def checkDir(outPath):\n",
    "    if not os.path.exists(outPath):\n",
    "        os.makedirs(outPath)"
   ]
  },
  {
   "cell_type": "markdown",
   "metadata": {},
   "source": [
    "**getRangeIndexes**: function for getting the indexes of the array *arr* between the *var_min* and *var_max* values:"
   ]
  },
  {
   "cell_type": "code",
   "execution_count": null,
   "metadata": {},
   "outputs": [],
   "source": [
    "def getRangeIndexes(arr, var_min, var_max):\n",
    "    return np.where((arr >= var_min) & (arr <= var_max))[0]"
   ]
  },
  {
   "cell_type": "markdown",
   "metadata": {},
   "source": [
    "Set the paths:"
   ]
  },
  {
   "cell_type": "code",
   "execution_count": null,
   "metadata": {},
   "outputs": [],
   "source": [
    "# Path for netcdf files\n",
    "data_path = './data'\n",
    "\n",
    "# Path for the output files (images, etc)\n",
    "out_path = './out/'+REGION_CODE+'-'+NB_CODE"
   ]
  },
  {
   "cell_type": "markdown",
   "metadata": {},
   "source": [
    "## 4.2.2. Access the data\n",
    "[Go back to the \"Table of contents\"](#Table-of-contents)"
   ]
  },
  {
   "cell_type": "code",
   "execution_count": null,
   "metadata": {},
   "outputs": [],
   "source": [
    "# Input netcdf file\n",
    "sst_f = \"10-01-B.nc\"\n",
    " \n",
    "# Build the complete nc path\n",
    "sst_nc = os.path.join(data_path, sst_f)"
   ]
  },
  {
   "cell_type": "code",
   "execution_count": null,
   "metadata": {},
   "outputs": [],
   "source": [
    "# Open the nc datasets\n",
    "sst_ds = xr.open_dataset(sst_nc)"
   ]
  },
  {
   "cell_type": "markdown",
   "metadata": {},
   "source": [
    "### Get info about the datasets:"
   ]
  },
  {
   "cell_type": "code",
   "execution_count": null,
   "metadata": {},
   "outputs": [],
   "source": [
    "sst_ds.info"
   ]
  },
  {
   "cell_type": "markdown",
   "metadata": {},
   "source": [
    "## 4.2.3. Set the configuration\n",
    "[Go back to the \"Table of contents\"](#Table-of-contents)"
   ]
  },
  {
   "cell_type": "code",
   "execution_count": null,
   "metadata": {},
   "outputs": [],
   "source": [
    "# Set the variable names (used later for accessing the data)\n",
    "lon_name = \"lon\"\n",
    "lat_name= \"lat\"\n",
    "time_name = \"time\"\n",
    "sst_name = \"analysed_sst\""
   ]
  },
  {
   "cell_type": "markdown",
   "metadata": {},
   "source": [
    "## 4.2.4. Plot the time series\n",
    "[Go back to the \"Table of contents\"](#Table-of-contents)"
   ]
  },
  {
   "cell_type": "markdown",
   "metadata": {},
   "source": [
    "### Choose the points of interest:"
   ]
  },
  {
   "cell_type": "code",
   "execution_count": null,
   "metadata": {},
   "outputs": [],
   "source": [
    "# Set the points of interest\n",
    "\n",
    "point1 = {'x': -30.125, 'y': 0.125}\n",
    "point2 = {'x': -120.125, 'y': 0.125}"
   ]
  },
  {
   "cell_type": "markdown",
   "metadata": {},
   "source": [
    "### Extract the dataset for the selected points:"
   ]
  },
  {
   "cell_type": "code",
   "execution_count": null,
   "metadata": {},
   "outputs": [],
   "source": [
    "# Extract the sub-dataset for the first defined point\n",
    "ds_sel1 = sst_ds.sel(lat=point1['y'], lon=point1['x'], method='nearest')\n",
    "ds_sel1"
   ]
  },
  {
   "cell_type": "code",
   "execution_count": null,
   "metadata": {},
   "outputs": [],
   "source": [
    "# Extract the sub-dataset for the second defined point\n",
    "ds_sel2 = sst_ds.sel(lat=point2['y'], lon=point2['x'], method='nearest')\n",
    "ds_sel2"
   ]
  },
  {
   "cell_type": "markdown",
   "metadata": {},
   "source": [
    "### Extract the SST values for the selected timeseries:"
   ]
  },
  {
   "cell_type": "code",
   "execution_count": null,
   "metadata": {
    "scrolled": true
   },
   "outputs": [],
   "source": [
    "# Extract the SST values for the first point\n",
    "sst_sel1 = ds_sel1[sst_name].round(2)\n",
    "sst_sel1"
   ]
  },
  {
   "cell_type": "code",
   "execution_count": null,
   "metadata": {
    "scrolled": true
   },
   "outputs": [],
   "source": [
    "# Extract the SST values for the second point\n",
    "sst_sel2 = ds_sel2[sst_name].round(2)\n",
    "sst_sel2"
   ]
  },
  {
   "cell_type": "markdown",
   "metadata": {},
   "source": [
    "### Convert the two datasets into a pandas DataFrame"
   ]
  },
  {
   "cell_type": "code",
   "execution_count": null,
   "metadata": {},
   "outputs": [],
   "source": [
    "# define two labels\n",
    "fname1 = \"SST (%s, %s)\" % (point1[\"x\"], point1[\"y\"])\n",
    "fname2 = \"SST (%s, %s)\" % (point2[\"x\"], point2[\"y\"])\n",
    "\n",
    "# create dates np.array for the x axis\n",
    "dates=[]\n",
    "for i in range(len(sst_sel1.time.values)) : \n",
    "    dates.append(np.datetime64(sst_sel1.time.values[i]))\n",
    "dates= np.array(dates)   \n",
    "\n",
    "# create a dataframe with data of the first and second points\n",
    "df = pd.DataFrame({\"Dates\": dates, \n",
    "                    fname1: sst_sel1,\n",
    "                    fname2: sst_sel2})\n",
    "# and let’s set the Dates as the DataFrame’s index.\n",
    "df = df.set_index('Dates')"
   ]
  },
  {
   "cell_type": "markdown",
   "metadata": {},
   "source": [
    "### Have a look at the data"
   ]
  },
  {
   "cell_type": "code",
   "execution_count": null,
   "metadata": {},
   "outputs": [],
   "source": [
    "## print just a section of this dataframe\n",
    "df[100:200:1]"
   ]
  },
  {
   "cell_type": "code",
   "execution_count": null,
   "metadata": {},
   "outputs": [],
   "source": [
    "# print some summary statitics \n",
    "df.describe()"
   ]
  },
  {
   "cell_type": "markdown",
   "metadata": {},
   "source": [
    "### Compute daily averages"
   ]
  },
  {
   "cell_type": "code",
   "execution_count": null,
   "metadata": {},
   "outputs": [],
   "source": [
    "# To compute averages we will use the DataFrame’s resample() method\n",
    "# this splits the DatetimeIndex into time bins and groups the data by time bin\n",
    "# Resample to monthly frequency, aggregating with mean.\n",
    "df_mean = df.resample(\"D\").mean()\n",
    "\n",
    "# Change the times associated with the means to be the centre of the bins\n",
    "# rather than the left.\n",
    "from pandas.tseries.frequencies import to_offset\n",
    "df_mean.index += to_offset('12H')\n",
    "\n",
    "# Print out the result. \n",
    "df_mean"
   ]
  },
  {
   "cell_type": "markdown",
   "metadata": {},
   "source": [
    "### Save the data in csv file format"
   ]
  },
  {
   "cell_type": "code",
   "execution_count": null,
   "metadata": {},
   "outputs": [],
   "source": [
    "# save the dataframe to a csv file\n",
    "fname_table = \"sst_data.csv\"\n",
    "output_table =  os.path.join(out_path, fname_table)\n",
    "df.to_csv(output_table)\n",
    "\n",
    "# ...then verify if the file exists\n",
    "if os.path.isfile(output_table):\n",
    "    print(output_table)"
   ]
  },
  {
   "cell_type": "markdown",
   "metadata": {},
   "source": [
    "### Plot"
   ]
  },
  {
   "cell_type": "code",
   "execution_count": null,
   "metadata": {},
   "outputs": [],
   "source": [
    "# We will use the location in the panda data frame to define the x-range\n",
    "\n",
    "# prepare the plot \n",
    "fig, ax = plt.subplots(figsize=(20,12))\n",
    "\n",
    "# plot the first column of the pandas dataframe for the hourly times series \n",
    "ax.plot(df.loc[:, fname1],\n",
    "        linestyle=':', lw=1, \n",
    "        marker='o' ,color=\"tomato\",label=fname1+'-Hourly')\n",
    "\n",
    "# add to the plot the second column of the pandas dataframe\n",
    "ax.plot(df.loc[:, fname2],\n",
    "        linestyle=':', lw=1, \n",
    "        marker='o',  color=\"royalblue\",label=fname2+'-Hourly')\n",
    "\n",
    " \n",
    "# now plot also the daily averages\n",
    "# add a # before the \"\"\" at the start and botton of this section to uncomment it\n",
    "#\"\"\"\n",
    "ax.plot(df_mean.loc[:, fname1],\n",
    "        linestyle='-', lw=3, color=\"darkred\",label=fname1+'-Daily')\n",
    "ax.plot(df_mean.loc[:, fname2],\n",
    "        linestyle='-', lw=3,color=\"darkblue\",label=fname2+'-Daily')\n",
    "#\"\"\"\n",
    "\n",
    "# format the x axis ticks\n",
    "days = mdates.DayLocator()  # every month\n",
    "ax.xaxis.set_major_locator(days)\n",
    "#plot.set_xlim(datemin, datemax)\n",
    "ax.format_xdata = mdates.DateFormatter('%Y-%m-%d')\n",
    "\n",
    "# format the y axis and ticks \n",
    "ax.set_ylabel('SST (K)')\n",
    "# set the Y on LOG: COMMENT FOR LINEAR RANGE\n",
    "#ax.set_yscale(\"log\")\n",
    "#ax.set_yticks([0.1,1,10])\n",
    "#ax.set_yticklabels([\"0.1\",\"1\",\"10\"])\n",
    "\n",
    "# set the grid\n",
    "ax.grid(True)\n",
    "\n",
    "# set the legend\n",
    "ax.legend();\n",
    "\n",
    "# set title\n",
    "title = ds_sel1[sst_name].long_name\n",
    "ax.set_title(title);\n",
    "\n",
    "# output file\n",
    "output_file = os.path.join(out_path,ds_sel1[sst_name].long_name.replace(' ','_')) + \".png\"\n",
    "\n",
    "# save the output file\n",
    "plt.savefig(output_file)\n",
    "\n",
    "# plot!\n",
    "plt.show()"
   ]
  },
  {
   "cell_type": "markdown",
   "metadata": {},
   "source": [
    "<div class=\"alert alert-block alert-warning\">\n",
    "\n",
    "### LET'S TRY: Change the plot!\n",
    "\n",
    "If you want, you can change the above plot.\n",
    "\n",
    "For example, you could:\n",
    "- change the locations being plotted    \n",
    "- download a longer time series (you might want to restrict the size of the region to keep the file size reasonable) and examine how the SST changes over a month or more\n",
    "- find and plot the daily minimums and maximums\n",
    "\n",
    "    \n",
    "Go back to [Configure the variables for the plots](#Configure-the-variables-for-the-plots) and then re-execute the cell for generating the plot. Try!\n",
    "\n"
   ]
  },
  {
   "cell_type": "markdown",
   "metadata": {},
   "source": [
    "***"
   ]
  },
  {
   "cell_type": "markdown",
   "metadata": {},
   "source": [
    "# 5. Conclusion"
   ]
  },
  {
   "cell_type": "markdown",
   "metadata": {},
   "source": [
    "[Go back to the \"Table of contents\"](#Table-of-contents)"
   ]
  },
  {
   "cell_type": "markdown",
   "metadata": {},
   "source": [
    "<div class=\"alert alert-block alert-success\">\n",
    "    <b>CONGRATULATIONS</b><br>\n",
    "  \n",
    "--- \n",
    "\n",
    "#### And thank you for your attention! :) We hope you enjoyed this training on the Mediterranean Sea Surface Temperature data provided by Copernicus Marine Service, for free, thanks to the European Commission.\n",
    "\n",
    "#### Now let's try to download new data and variables and to access and visualize them... you can try to make new maps and plots... and don't forget to try to the other [Copernicus Marine products](http://marine.copernicus.eu/services-portfolio/access-to-products/?option=com_csw&task=results)\n",
    "\n",
    "This training course is over but we'd love to hear from you about how we could improve it (topics, tools, storytelling, format, speed etc). \n",
    "\n",
    "We do thank you in advance for your kind collaboration :)"
   ]
  }
 ],
 "metadata": {
  "finalized": {
   "timestamp": 1575910793989,
   "trusted": true
  },
  "kernelspec": {
   "display_name": "Python 3",
   "language": "python",
   "name": "python3"
  },
  "language_info": {
   "codemirror_mode": {
    "name": "ipython",
    "version": 3
   },
   "file_extension": ".py",
   "mimetype": "text/x-python",
   "name": "python",
   "nbconvert_exporter": "python",
   "pygments_lexer": "ipython3",
   "version": "3.7.10"
  }
 },
 "nbformat": 4,
 "nbformat_minor": 4
}
